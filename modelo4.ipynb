{
 "cells": [
  {
   "cell_type": "code",
   "execution_count": 1,
   "metadata": {},
   "outputs": [
    {
     "output_type": "stream",
     "name": "stdout",
     "text": [
      "Populating the interactive namespace from numpy and matplotlib\n"
     ]
    }
   ],
   "source": [
    "import pandas as pd\n",
    "import numpy as np\n",
    "import re\n",
    "import time\n",
    "\n",
    "import bs4 as bs4\n",
    "import json\n",
    "\n",
    "import glob\n",
    "import tqdm\n",
    "\n",
    "pd.set_option(\"max.columns\", 131)\n",
    "\n",
    "#https://strftime.org/\n",
    "%matplotlib inline\n",
    "%pylab inline"
   ]
  },
  {
   "cell_type": "code",
   "execution_count": 2,
   "metadata": {},
   "outputs": [
    {
     "output_type": "execute_result",
     "data": {
      "text/plain": [
       "(772, 21)"
      ]
     },
     "metadata": {},
     "execution_count": 2
    }
   ],
   "source": [
    "df1 = pd.read_csv(\"dados/raw_data_with_labels.csv\").dropna(subset=[\"y\"])\n",
    "df1.shape"
   ]
  },
  {
   "cell_type": "code",
   "execution_count": 3,
   "metadata": {},
   "outputs": [
    {
     "output_type": "execute_result",
     "data": {
      "text/plain": [
       "(200, 21)"
      ]
     },
     "metadata": {},
     "execution_count": 3
    }
   ],
   "source": [
    "df2 = pd.read_csv(\"dados/active_labels1_done.csv\", index_col=0).dropna(subset=[\"y\"]).drop(columns=['p'])\n",
    "df2.shape"
   ]
  },
  {
   "cell_type": "code",
   "execution_count": 4,
   "metadata": {},
   "outputs": [
    {
     "output_type": "execute_result",
     "data": {
      "text/plain": [
       "(1217, 21)"
      ]
     },
     "metadata": {},
     "execution_count": 4
    }
   ],
   "source": [
    "df_active_learning = pd.read_csv('dados/raw_data_with_labels_active_learning.csv').dropna(subset=[\"y\"])\n",
    "df_active_learning.shape"
   ]
  },
  {
   "cell_type": "code",
   "execution_count": 5,
   "metadata": {},
   "outputs": [
    {
     "output_type": "execute_result",
     "data": {
      "text/plain": [
       "(2189, 21)"
      ]
     },
     "metadata": {},
     "execution_count": 5
    }
   ],
   "source": [
    "df = pd.concat([df1,df2, df_active_learning], axis=0)\n",
    "df.shape"
   ]
  },
  {
   "cell_type": "code",
   "execution_count": 6,
   "metadata": {},
   "outputs": [],
   "source": [
    "df.drop_duplicates(inplace=True)"
   ]
  },
  {
   "cell_type": "code",
   "execution_count": 7,
   "metadata": {},
   "outputs": [
    {
     "output_type": "execute_result",
     "data": {
      "text/plain": [
       "0.0"
      ]
     },
     "metadata": {},
     "execution_count": 7
    }
   ],
   "source": [
    "df.duplicated().mean()"
   ]
  },
  {
   "cell_type": "code",
   "execution_count": 8,
   "metadata": {},
   "outputs": [
    {
     "output_type": "execute_result",
     "data": {
      "text/plain": [
       "0.06594488188976377"
      ]
     },
     "metadata": {},
     "execution_count": 8
    }
   ],
   "source": [
    "df.duplicated(['title']).mean()"
   ]
  },
  {
   "cell_type": "code",
   "execution_count": 9,
   "metadata": {},
   "outputs": [
    {
     "output_type": "execute_result",
     "data": {
      "text/plain": [
       "(2032, 21)"
      ]
     },
     "metadata": {},
     "execution_count": 9
    }
   ],
   "source": [
    "df.shape"
   ]
  },
  {
   "cell_type": "code",
   "execution_count": 10,
   "metadata": {},
   "outputs": [],
   "source": [
    "df.reset_index(inplace=True, drop=True)"
   ]
  },
  {
   "cell_type": "code",
   "execution_count": 11,
   "metadata": {},
   "outputs": [],
   "source": [
    "from sklearn.linear_model import LogisticRegression\n",
    "from sklearn.ensemble import RandomForestClassifier"
   ]
  },
  {
   "cell_type": "markdown",
   "metadata": {},
   "source": [
    "## 1. e 2. Limpeza dados"
   ]
  },
  {
   "cell_type": "code",
   "execution_count": 12,
   "metadata": {},
   "outputs": [],
   "source": [
    "df_limpo = pd.DataFrame(index=df.index)\n",
    "df_limpo['title'] = df['title']\n",
    "df_limpo['date'] = pd.to_datetime(df['upload_date'], format='%Y-%m-%d')\n",
    "df_limpo['views'] = df['view_count'].map(lambda x: 0 if x<0 else int(x))\n"
   ]
  },
  {
   "cell_type": "markdown",
   "metadata": {},
   "source": [
    "## 3. Features"
   ]
  },
  {
   "cell_type": "code",
   "execution_count": 13,
   "metadata": {},
   "outputs": [],
   "source": [
    "features = pd.DataFrame(index=df_limpo.index)\n",
    "y = df['y'].copy()"
   ]
  },
  {
   "cell_type": "code",
   "execution_count": 14,
   "metadata": {},
   "outputs": [],
   "source": [
    "features = pd.DataFrame(index=df_limpo.index)\n",
    "data_extract = datetime.datetime.strptime('2020-11-21', \"%Y-%m-%d\")\n",
    "\n",
    "features['tempo_desde_pub'] = (data_extract - df_limpo['date']) / np.timedelta64(1, 'D')\n",
    "features['views'] = df_limpo['views']\n",
    "features['views_por_dia'] = features['views'] / features['tempo_desde_pub']\n",
    "features = features.drop(['tempo_desde_pub'], axis=1)"
   ]
  },
  {
   "cell_type": "code",
   "execution_count": 15,
   "metadata": {},
   "outputs": [
    {
     "output_type": "execute_result",
     "data": {
      "text/plain": [
       "   views  views_por_dia\n",
       "0    379      94.750000\n",
       "1    124      20.666667\n",
       "2     13       1.857143\n",
       "3    655      72.777778\n",
       "4      1       0.090909"
      ],
      "text/html": "<div>\n<style scoped>\n    .dataframe tbody tr th:only-of-type {\n        vertical-align: middle;\n    }\n\n    .dataframe tbody tr th {\n        vertical-align: top;\n    }\n\n    .dataframe thead th {\n        text-align: right;\n    }\n</style>\n<table border=\"1\" class=\"dataframe\">\n  <thead>\n    <tr style=\"text-align: right;\">\n      <th></th>\n      <th>views</th>\n      <th>views_por_dia</th>\n    </tr>\n  </thead>\n  <tbody>\n    <tr>\n      <th>0</th>\n      <td>379</td>\n      <td>94.750000</td>\n    </tr>\n    <tr>\n      <th>1</th>\n      <td>124</td>\n      <td>20.666667</td>\n    </tr>\n    <tr>\n      <th>2</th>\n      <td>13</td>\n      <td>1.857143</td>\n    </tr>\n    <tr>\n      <th>3</th>\n      <td>655</td>\n      <td>72.777778</td>\n    </tr>\n    <tr>\n      <th>4</th>\n      <td>1</td>\n      <td>0.090909</td>\n    </tr>\n  </tbody>\n</table>\n</div>"
     },
     "metadata": {},
     "execution_count": 15
    }
   ],
   "source": [
    "features.head()"
   ]
  },
  {
   "cell_type": "code",
   "execution_count": 16,
   "metadata": {},
   "outputs": [
    {
     "output_type": "execute_result",
     "data": {
      "text/plain": [
       "((1560, 2), (472, 2), (1560,), (472,))"
      ]
     },
     "metadata": {},
     "execution_count": 16
    }
   ],
   "source": [
    "data_corte = \"2020-10-01\"\n",
    "mask_train = df_limpo['date'] < data_corte\n",
    "mask_val = (df_limpo['date'] >= data_corte)\n",
    "\n",
    "Xtrain, Xval = features[mask_train], features[mask_val]\n",
    "ytrain, yval = y[mask_train], y[mask_val]\n",
    "Xtrain.shape, Xval.shape, ytrain.shape, yval.shape"
   ]
  },
  {
   "cell_type": "code",
   "execution_count": 17,
   "metadata": {},
   "outputs": [],
   "source": [
    "from sklearn.feature_extraction.text import TfidfVectorizer\n",
    "\n",
    "title_train = df_limpo[mask_train]['title']\n",
    "title_val = df_limpo[mask_val]['title']\n",
    "\n",
    "title_vec = TfidfVectorizer(min_df=2, ngram_range=(1,4))\n",
    "title_bow_train = title_vec.fit_transform(title_train)\n",
    "title_bow_val = title_vec.transform(title_val)\n"
   ]
  },
  {
   "cell_type": "markdown",
   "metadata": {},
   "source": [
    "intro to machine learning -> intro, to, machine, learning  -> ngram_range=(1,1)  \n",
    "intro to machine learning -> intro, to, machine, learning, intro to, to machine, machine learning -> ngram_range=(1,2)  \n",
    "intro to machine learning -> intro to, to machine, machine learning -> ngram_range=(2,2)  \n"
   ]
  },
  {
   "cell_type": "code",
   "execution_count": 18,
   "metadata": {},
   "outputs": [
    {
     "output_type": "execute_result",
     "data": {
      "text/plain": [
       "(1560, 5141)"
      ]
     },
     "metadata": {},
     "execution_count": 18
    }
   ],
   "source": [
    "title_bow_train.shape"
   ]
  },
  {
   "cell_type": "code",
   "execution_count": 19,
   "metadata": {},
   "outputs": [],
   "source": [
    "from scipy.sparse import hstack, vstack\n",
    "\n",
    "Xtrain_wtitle = hstack([Xtrain, title_bow_train])\n",
    "Xval_wtitle = hstack([Xval, title_bow_val])"
   ]
  },
  {
   "cell_type": "code",
   "execution_count": 20,
   "metadata": {},
   "outputs": [
    {
     "output_type": "execute_result",
     "data": {
      "text/plain": [
       "((1560, 5143), (472, 5143))"
      ]
     },
     "metadata": {},
     "execution_count": 20
    }
   ],
   "source": [
    "Xtrain_wtitle.shape, Xval_wtitle.shape"
   ]
  },
  {
   "cell_type": "markdown",
   "metadata": {},
   "source": [
    "# 4 Random Forest"
   ]
  },
  {
   "cell_type": "code",
   "execution_count": 21,
   "metadata": {},
   "outputs": [],
   "source": [
    "# mdl = RandomForestClassifier(n_estimators=1000, random_state=0, min_samples_leaf=1, class_weight=\"balanced\", n_jobs=6)\n",
    "# mdl.fit(Xtrain_wtitle, ytrain)"
   ]
  },
  {
   "cell_type": "code",
   "execution_count": 22,
   "metadata": {},
   "outputs": [
    {
     "output_type": "execute_result",
     "data": {
      "text/plain": [
       "RandomForestClassifier(class_weight='balanced', max_depth=2,\n",
       "                       max_features='log2', min_samples_leaf=3,\n",
       "                       min_samples_split=4, n_estimators=1000, n_jobs=6,\n",
       "                       random_state=123)"
      ]
     },
     "metadata": {},
     "execution_count": 22
    }
   ],
   "source": [
    "mdl = RandomForestClassifier(class_weight='balanced', max_depth=2,\n",
    "                                        max_features='log2', min_samples_leaf=3,\n",
    "                                        min_samples_split=4, n_estimators=1000,\n",
    "                                        n_jobs=6, random_state=123)\n",
    "mdl.fit(Xtrain_wtitle, ytrain)"
   ]
  },
  {
   "cell_type": "code",
   "execution_count": 23,
   "metadata": {},
   "outputs": [],
   "source": [
    "p = mdl.predict_proba(Xval_wtitle)[:, 1]"
   ]
  },
  {
   "cell_type": "code",
   "execution_count": 24,
   "metadata": {},
   "outputs": [],
   "source": [
    "from sklearn.metrics import roc_auc_score, average_precision_score"
   ]
  },
  {
   "cell_type": "code",
   "execution_count": 25,
   "metadata": {},
   "outputs": [
    {
     "output_type": "execute_result",
     "data": {
      "text/plain": [
       "0.5993872676901968"
      ]
     },
     "metadata": {},
     "execution_count": 25
    }
   ],
   "source": [
    "average_precision_score(yval, p)"
   ]
  },
  {
   "cell_type": "code",
   "execution_count": 26,
   "metadata": {},
   "outputs": [
    {
     "output_type": "execute_result",
     "data": {
      "text/plain": [
       "0.7102074754513779"
      ]
     },
     "metadata": {},
     "execution_count": 26
    }
   ],
   "source": [
    "roc_auc_score(yval, p)"
   ]
  },
  {
   "cell_type": "markdown",
   "metadata": {},
   "source": [
    "dados antigos\n",
    "\n",
    "ap 0.5235463345585548, auc 0.665264593872563 - mindf=2\n",
    "\n",
    "aumentando a validação\n",
    "\n",
    "ap 0.5212442841200238, auc 0.6644575163398694 - mindf=1\n",
    "ap 0.5301462501031342, auc 0.6810588235294117 - mindf=2\n",
    "\n",
    "aumentando o treino mantendo validacao\n",
    "\n",
    "ap 0.5437704978451068 auc 0.6669271869493549 - mindf=2\n",
    "\n",
    "aumentando tudo\n",
    "\n",
    "ap 0.5483320689705957 auc 0.6671111111111112 - mindf=2\n",
    "\n",
    "\n",
    "\n",
    "\n",
    "#### RF ap 0.5993872676901968, auc 0.7102074754513779 - min_df=2, ngram_range=(1,4)  "
   ]
  },
  {
   "cell_type": "code",
   "execution_count": 28,
   "metadata": {},
   "outputs": [],
   "source": [
    "from skopt import forest_minimize"
   ]
  },
  {
   "cell_type": "code",
   "execution_count": 29,
   "metadata": {},
   "outputs": [
    {
     "output_type": "stream",
     "name": "stdout",
     "text": [
      "Iteration No: 1 started. Evaluating function at random point.\n",
      "[868, 'sqrt', 5, 2, 834]\n",
      "0.7070597085840988\n",
      "Iteration No: 1 ended. Evaluation done at random point.\n",
      "Time taken: 1.4890\n",
      "Function value obtained: -0.7071\n",
      "Current minimum: -0.7071\n",
      "Iteration No: 2 started. Evaluating function at random point.\n",
      "[164, 'sqrt', 9, 3, 269]\n",
      "0.6966166455495725\n",
      "Iteration No: 2 ended. Evaluation done at random point.\n",
      "Time taken: 0.5107\n",
      "Function value obtained: -0.6966\n",
      "Current minimum: -0.7071\n",
      "Iteration No: 3 started. Evaluating function at random point.\n",
      "[714, 'log2', 6, 3, 1134]\n",
      "0.7101579822616408\n",
      "Iteration No: 3 ended. Evaluation done at random point.\n",
      "Time taken: 1.7553\n",
      "Function value obtained: -0.7102\n",
      "Current minimum: -0.7102\n",
      "Iteration No: 4 started. Evaluating function at random point.\n",
      "[901, 'auto', 6, 13, 954]\n",
      "0.7033774152676591\n",
      "Iteration No: 4 ended. Evaluation done at random point.\n",
      "Time taken: 1.6047\n",
      "Function value obtained: -0.7034\n",
      "Current minimum: -0.7102\n",
      "Iteration No: 5 started. Evaluating function at random point.\n",
      "[183, 'sqrt', 9, 10, 1629]\n",
      "0.6977351916376306\n",
      "Iteration No: 5 ended. Evaluation done at random point.\n",
      "Time taken: 2.6193\n",
      "Function value obtained: -0.6977\n",
      "Current minimum: -0.7102\n",
      "Iteration No: 6 started. Evaluating function at random point.\n",
      "[658, 'log2', 10, 14, 493]\n",
      "0.7025558283180234\n",
      "Iteration No: 6 ended. Evaluation done at random point.\n",
      "Time taken: 0.7987\n",
      "Function value obtained: -0.7026\n",
      "Current minimum: -0.7102\n",
      "Iteration No: 7 started. Evaluating function at random point.\n",
      "[234, 'auto', 3, 6, 1182]\n",
      "0.722224421919544\n",
      "Iteration No: 7 ended. Evaluation done at random point.\n",
      "Time taken: 2.0440\n",
      "Function value obtained: -0.7222\n",
      "Current minimum: -0.7222\n",
      "Iteration No: 8 started. Evaluating function at random point.\n",
      "[135, 'sqrt', 1, 14, 1313]\n",
      "0.7548701298701299\n",
      "Iteration No: 8 ended. Evaluation done at random point.\n",
      "Time taken: 2.6888\n",
      "Function value obtained: -0.7549\n",
      "Current minimum: -0.7549\n",
      "Iteration No: 9 started. Evaluating function at random point.\n",
      "[324, 'log2', 3, 10, 1005]\n",
      "0.7164535159961989\n",
      "Iteration No: 9 ended. Evaluation done at random point.\n",
      "Time taken: 1.6252\n",
      "Function value obtained: -0.7165\n",
      "Current minimum: -0.7549\n",
      "Iteration No: 10 started. Evaluating function at random point.\n",
      "[582, 'auto', 4, 16, 406]\n",
      "0.7180471967057334\n",
      "Iteration No: 10 ended. Evaluation done at random point.\n",
      "Time taken: 0.7364\n",
      "Function value obtained: -0.7180\n",
      "Current minimum: -0.7549\n",
      "Iteration No: 11 started. Evaluating function at random point.\n",
      "[670, 'auto', 10, 2, 1827]\n",
      "0.6978143807412099\n",
      "Iteration No: 11 ended. Evaluation done at random point.\n",
      "Time taken: 2.8936\n",
      "Function value obtained: -0.6978\n",
      "Current minimum: -0.7549\n",
      "Iteration No: 12 started. Evaluating function at random point.\n",
      "[960, 'sqrt', 7, 2, 1012]\n",
      "0.7001108647450112\n",
      "Iteration No: 12 ended. Evaluation done at random point.\n",
      "Time taken: 1.6567\n",
      "Function value obtained: -0.7001\n",
      "Current minimum: -0.7549\n",
      "Iteration No: 13 started. Evaluating function at random point.\n",
      "[593, 'auto', 8, 20, 1213]\n",
      "0.697576813430472\n",
      "Iteration No: 13 ended. Evaluation done at random point.\n",
      "Time taken: 1.9537\n",
      "Function value obtained: -0.6976\n",
      "Current minimum: -0.7549\n",
      "Iteration No: 14 started. Evaluating function at random point.\n",
      "[182, 'auto', 6, 19, 374]\n",
      "0.7046939341146657\n",
      "Iteration No: 14 ended. Evaluation done at random point.\n",
      "Time taken: 0.6834\n",
      "Function value obtained: -0.7047\n",
      "Current minimum: -0.7549\n",
      "Iteration No: 15 started. Evaluating function at random point.\n",
      "[693, 'sqrt', 8, 5, 1010]\n",
      "0.6983093126385809\n",
      "Iteration No: 15 ended. Evaluation done at random point.\n",
      "Time taken: 1.6802\n",
      "Function value obtained: -0.6983\n",
      "Current minimum: -0.7549\n",
      "Iteration No: 16 started. Evaluating function at random point.\n",
      "[438, 'auto', 3, 3, 1012]\n",
      "0.7226599619892302\n",
      "Iteration No: 16 ended. Evaluation done at random point.\n",
      "Time taken: 1.7355\n",
      "Function value obtained: -0.7227\n",
      "Current minimum: -0.7549\n",
      "Iteration No: 17 started. Evaluating function at random point.\n",
      "[359, 'auto', 2, 19, 1073]\n",
      "0.7404775102945834\n",
      "Iteration No: 17 ended. Evaluation done at random point.\n",
      "Time taken: 2.0355\n",
      "Function value obtained: -0.7405\n",
      "Current minimum: -0.7549\n",
      "Iteration No: 18 started. Evaluating function at random point.\n",
      "[48, 'sqrt', 5, 20, 1396]\n",
      "0.7064063984795692\n",
      "Iteration No: 18 ended. Evaluation done at random point.\n",
      "Time taken: 2.3647\n",
      "Function value obtained: -0.7064\n",
      "Current minimum: -0.7549\n",
      "Iteration No: 19 started. Evaluating function at random point.\n",
      "[575, 'sqrt', 8, 13, 856]\n",
      "0.697081881533101\n",
      "Iteration No: 19 ended. Evaluation done at random point.\n",
      "Time taken: 1.4292\n",
      "Function value obtained: -0.6971\n",
      "Current minimum: -0.7549\n",
      "Iteration No: 20 started. Evaluating function at random point.\n",
      "[207, 'sqrt', 7, 14, 1877]\n",
      "0.7030606588533418\n",
      "Iteration No: 20 ended. Evaluation done at random point.\n",
      "Time taken: 3.2452\n",
      "Function value obtained: -0.7031\n",
      "Current minimum: -0.7549\n",
      "Iteration No: 21 started. Searching for the next optimal point.\n",
      "[115, 'sqrt', 3, 14, 1304]\n",
      "0.7249564459930313\n",
      "Iteration No: 21 ended. Search finished for the next optimal point.\n",
      "Time taken: 2.4674\n",
      "Function value obtained: -0.7250\n",
      "Current minimum: -0.7549\n",
      "Iteration No: 22 started. Searching for the next optimal point.\n",
      "[87, 'sqrt', 1, 15, 1362]\n",
      "0.7573249920810896\n",
      "Iteration No: 22 ended. Search finished for the next optimal point.\n",
      "Time taken: 2.9383\n",
      "Function value obtained: -0.7573\n",
      "Current minimum: -0.7573\n",
      "Iteration No: 23 started. Searching for the next optimal point.\n",
      "[151, 'sqrt', 2, 20, 1991]\n",
      "0.7401805511561609\n",
      "Iteration No: 23 ended. Search finished for the next optimal point.\n",
      "Time taken: 3.8310\n",
      "Function value obtained: -0.7402\n",
      "Current minimum: -0.7573\n",
      "Iteration No: 24 started. Searching for the next optimal point.\n",
      "[596, 'sqrt', 1, 15, 1942]\n",
      "0.7563747228381374\n",
      "Iteration No: 24 ended. Search finished for the next optimal point.\n",
      "Time taken: 4.1009\n",
      "Function value obtained: -0.7564\n",
      "Current minimum: -0.7573\n",
      "Iteration No: 25 started. Searching for the next optimal point.\n",
      "[742, 'sqrt', 1, 2, 750]\n",
      "0.7517817548305352\n",
      "Iteration No: 25 ended. Search finished for the next optimal point.\n",
      "Time taken: 2.8918\n",
      "Function value obtained: -0.7518\n",
      "Current minimum: -0.7573\n",
      "Iteration No: 26 started. Searching for the next optimal point.\n",
      "[997, 'sqrt', 1, 4, 891]\n",
      "0.7545335761799177\n",
      "Iteration No: 26 ended. Search finished for the next optimal point.\n",
      "Time taken: 2.1905\n",
      "Function value obtained: -0.7545\n",
      "Current minimum: -0.7573\n",
      "Iteration No: 27 started. Searching for the next optimal point.\n",
      "[956, 'auto', 1, 15, 1354]\n",
      "0.7568894520114032\n",
      "Iteration No: 27 ended. Search finished for the next optimal point.\n",
      "Time taken: 3.0146\n",
      "Function value obtained: -0.7569\n",
      "Current minimum: -0.7573\n",
      "Iteration No: 28 started. Searching for the next optimal point.\n",
      "[990, 'log2', 1, 20, 377]\n",
      "0.7563747228381374\n",
      "Iteration No: 28 ended. Search finished for the next optimal point.\n",
      "Time taken: 0.9401\n",
      "Function value obtained: -0.7564\n",
      "Current minimum: -0.7573\n",
      "Iteration No: 29 started. Searching for the next optimal point.\n",
      "[989, 'log2', 1, 2, 272]\n",
      "0.7562658378207158\n",
      "Iteration No: 29 ended. Search finished for the next optimal point.\n",
      "Time taken: 1.2538\n",
      "Function value obtained: -0.7563\n",
      "Current minimum: -0.7573\n",
      "Iteration No: 30 started. Searching for the next optimal point.\n",
      "[944, 'auto', 1, 19, 402]\n",
      "0.758116883116883\n",
      "Iteration No: 30 ended. Search finished for the next optimal point.\n",
      "Time taken: 1.2555\n",
      "Function value obtained: -0.7581\n",
      "Current minimum: -0.7581\n",
      "Iteration No: 31 started. Searching for the next optimal point.\n",
      "[974, 'log2', 2, 16, 411]\n",
      "0.7233231707317073\n",
      "Iteration No: 31 ended. Search finished for the next optimal point.\n",
      "Time taken: 0.9532\n",
      "Function value obtained: -0.7233\n",
      "Current minimum: -0.7581\n",
      "Iteration No: 32 started. Searching for the next optimal point.\n",
      "[671, 'auto', 1, 12, 357]\n",
      "0.758869179600887\n",
      "Iteration No: 32 ended. Search finished for the next optimal point.\n",
      "Time taken: 1.0237\n",
      "Function value obtained: -0.7589\n",
      "Current minimum: -0.7589\n",
      "Iteration No: 33 started. Searching for the next optimal point.\n",
      "[174, 'auto', 1, 12, 145]\n",
      "0.7567904656319291\n",
      "Iteration No: 33 ended. Search finished for the next optimal point.\n",
      "Time taken: 0.6120\n",
      "Function value obtained: -0.7568\n",
      "Current minimum: -0.7589\n",
      "Iteration No: 34 started. Searching for the next optimal point.\n",
      "[155, 'auto', 1, 2, 380]\n",
      "0.7530982736775419\n",
      "Iteration No: 34 ended. Search finished for the next optimal point.\n",
      "Time taken: 1.6529\n",
      "Function value obtained: -0.7531\n",
      "Current minimum: -0.7589\n",
      "Iteration No: 35 started. Searching for the next optimal point.\n",
      "[558, 'auto', 1, 19, 1983]\n",
      "0.7533259423503327\n",
      "Iteration No: 35 ended. Search finished for the next optimal point.\n",
      "Time taken: 4.4963\n",
      "Function value obtained: -0.7533\n",
      "Current minimum: -0.7589\n",
      "Iteration No: 36 started. Searching for the next optimal point.\n",
      "[492, 'log2', 1, 18, 309]\n",
      "0.7551670890085525\n",
      "Iteration No: 36 ended. Search finished for the next optimal point.\n",
      "Time taken: 0.9117\n",
      "Function value obtained: -0.7552\n",
      "Current minimum: -0.7589\n",
      "Iteration No: 37 started. Searching for the next optimal point.\n",
      "[934, 'log2', 1, 17, 1447]\n",
      "0.7579783021856192\n",
      "Iteration No: 37 ended. Search finished for the next optimal point.\n",
      "Time taken: 3.0934\n",
      "Function value obtained: -0.7580\n",
      "Current minimum: -0.7589\n",
      "Iteration No: 38 started. Searching for the next optimal point.\n",
      "[579, 'auto', 1, 10, 414]\n",
      "0.7617199873297433\n",
      "Iteration No: 38 ended. Search finished for the next optimal point.\n",
      "Time taken: 1.1815\n",
      "Function value obtained: -0.7617\n",
      "Current minimum: -0.7617\n",
      "Iteration No: 39 started. Searching for the next optimal point.\n",
      "[926, 'log2', 1, 2, 1193]\n",
      "0.7620367437440607\n",
      "Iteration No: 39 ended. Search finished for the next optimal point.\n",
      "Time taken: 4.6093\n",
      "Function value obtained: -0.7620\n",
      "Current minimum: -0.7620\n",
      "Iteration No: 40 started. Searching for the next optimal point.\n",
      "[715, 'log2', 1, 16, 1303]\n",
      "0.7573249920810896\n",
      "Iteration No: 40 ended. Search finished for the next optimal point.\n",
      "Time taken: 2.7405\n",
      "Function value obtained: -0.7573\n",
      "Current minimum: -0.7620\n",
      "Iteration No: 41 started. Searching for the next optimal point.\n",
      "[676, 'log2', 1, 8, 373]\n",
      "0.754493981628128\n",
      "Iteration No: 41 ended. Search finished for the next optimal point.\n",
      "Time taken: 0.9918\n",
      "Function value obtained: -0.7545\n",
      "Current minimum: -0.7620\n",
      "Iteration No: 42 started. Searching for the next optimal point.\n",
      "[572, 'sqrt', 1, 2, 1991]\n",
      "0.7561866487171364\n",
      "Iteration No: 42 ended. Search finished for the next optimal point.\n",
      "Time taken: 7.4167\n",
      "Function value obtained: -0.7562\n",
      "Current minimum: -0.7620\n",
      "Iteration No: 43 started. Searching for the next optimal point.\n",
      "[912, 'auto', 1, 3, 348]\n",
      "0.7531081723154894\n",
      "Iteration No: 43 ended. Search finished for the next optimal point.\n",
      "Time taken: 1.1824\n",
      "Function value obtained: -0.7531\n",
      "Current minimum: -0.7620\n",
      "Iteration No: 44 started. Searching for the next optimal point.\n",
      "[164, 'sqrt', 1, 13, 114]\n",
      "0.7602153943617358\n",
      "Iteration No: 44 ended. Search finished for the next optimal point.\n",
      "Time taken: 0.5634\n",
      "Function value obtained: -0.7602\n",
      "Current minimum: -0.7620\n",
      "Iteration No: 45 started. Searching for the next optimal point.\n",
      "[940, 'auto', 1, 18, 134]\n",
      "0.7539594551789673\n",
      "Iteration No: 45 ended. Search finished for the next optimal point.\n",
      "Time taken: 0.6185\n",
      "Function value obtained: -0.7540\n",
      "Current minimum: -0.7620\n",
      "Iteration No: 46 started. Searching for the next optimal point.\n",
      "[732, 'sqrt', 1, 10, 328]\n",
      "0.7609874881216345\n",
      "Iteration No: 46 ended. Search finished for the next optimal point.\n",
      "Time taken: 1.0046\n",
      "Function value obtained: -0.7610\n",
      "Current minimum: -0.7620\n",
      "Iteration No: 47 started. Searching for the next optimal point.\n",
      "[947, 'log2', 1, 10, 968]\n",
      "0.7594433006018372\n",
      "Iteration No: 47 ended. Search finished for the next optimal point.\n",
      "Time taken: 2.2291\n",
      "Function value obtained: -0.7594\n",
      "Current minimum: -0.7620\n",
      "Iteration No: 48 started. Searching for the next optimal point.\n",
      "[253, 'log2', 1, 9, 1192]\n",
      "0.76031438074121\n",
      "Iteration No: 48 ended. Search finished for the next optimal point.\n",
      "Time taken: 2.5579\n",
      "Function value obtained: -0.7603\n",
      "Current minimum: -0.7620\n",
      "Iteration No: 49 started. Searching for the next optimal point.\n",
      "[55, 'log2', 1, 10, 390]\n",
      "0.7355578872347165\n",
      "Iteration No: 49 ended. Search finished for the next optimal point.\n",
      "Time taken: 0.9628\n",
      "Function value obtained: -0.7356\n",
      "Current minimum: -0.7620\n",
      "Iteration No: 50 started. Searching for the next optimal point.\n",
      "[59, 'sqrt', 1, 17, 327]\n",
      "0.7506137155527399\n",
      "Iteration No: 50 ended. Search finished for the next optimal point.\n",
      "Time taken: 0.9104\n",
      "Function value obtained: -0.7506\n",
      "Current minimum: -0.7620\n"
     ]
    }
   ],
   "source": [
    "def tune_rf(params):\n",
    "    print(params)\n",
    "    max_depth = params[0]\n",
    "    max_features = params[1]\n",
    "    min_samples_leaf = params[2]\n",
    "    min_samples_split = params[3]\n",
    "    n_estimators = params[4]\n",
    "    \n",
    "    min_df = 2#params[6]\n",
    "    ngram_range = (1,4)#(1, params[7])\n",
    "    \n",
    "    title_vec = TfidfVectorizer(min_df=min_df, ngram_range=ngram_range)\n",
    "    title_bow_train = title_vec.fit_transform(title_train)\n",
    "    title_bow_val = title_vec.transform(title_val)\n",
    "    \n",
    "    Xtrain_wtitle = hstack([Xtrain, title_bow_train])\n",
    "    Xval_wtitle = hstack([Xval, title_bow_val])\n",
    "    \n",
    "    mdl = RandomForestClassifier(class_weight='balanced', max_depth=max_depth,\n",
    "                                        max_features=max_features, min_samples_leaf=min_samples_leaf,\n",
    "                                        min_samples_split=min_samples_split, n_estimators=n_estimators,\n",
    "                                        n_jobs=6, random_state=123)\n",
    "    mdl.fit(Xtrain_wtitle, ytrain)\n",
    "    \n",
    "    p = mdl.predict_proba(Xval_wtitle)[:, 1]\n",
    "    \n",
    "    print(roc_auc_score(yval, p))\n",
    "    \n",
    "    return -roc_auc_score(yval, p)\n",
    "\n",
    "\n",
    "space = [(10, 1000), # max_depth\n",
    "          ('auto', 'sqrt', 'log2'), # max_features\n",
    "          (1, 10), # min_samples_leaf\n",
    "          (2, 20), # min_samples_split\n",
    "          (100, 2000)] # n_estimators\n",
    "          #(1,5), # min_df\n",
    "          #(1,5)] # ngram_range\n",
    "\n",
    "res = forest_minimize(tune_rf, space, random_state=160745, n_random_starts=20, n_calls=50, verbose=1)"
   ]
  },
  {
   "cell_type": "code",
   "execution_count": 30,
   "metadata": {},
   "outputs": [
    {
     "output_type": "stream",
     "name": "stdout",
     "text": [
      "[926, 'log2', 1, 2, 1193]\n"
     ]
    },
    {
     "output_type": "execute_result",
     "data": {
      "text/plain": [
       "(0.6353631240364814, 0.7620367437440607)"
      ]
     },
     "metadata": {},
     "execution_count": 30
    }
   ],
   "source": [
    "params = res.x\n",
    "print(params)\n",
    "max_depth = params[0]\n",
    "max_features = params[1]\n",
    "min_samples_leaf = params[2]\n",
    "min_samples_split = params[3]\n",
    "n_estimators = params[4]\n",
    "\n",
    "min_df = 2#params[6]\n",
    "ngram_range = (1,4)#(1, params[7])\n",
    "\n",
    "title_vec = TfidfVectorizer(min_df=min_df, ngram_range=ngram_range)\n",
    "title_bow_train = title_vec.fit_transform(title_train)\n",
    "title_bow_val = title_vec.transform(title_val)\n",
    "\n",
    "Xtrain_wtitle = hstack([Xtrain, title_bow_train])\n",
    "Xval_wtitle = hstack([Xval, title_bow_val])\n",
    "\n",
    "mdl = RandomForestClassifier(class_weight='balanced', max_depth=max_depth,\n",
    "                                        max_features=max_features, min_samples_leaf=min_samples_leaf,\n",
    "                                        min_samples_split=min_samples_split, n_estimators=n_estimators,\n",
    "                                        n_jobs=6, random_state=123)\n",
    "mdl.fit(Xtrain_wtitle, ytrain)\n",
    "\n",
    "p = mdl.predict_proba(Xval_wtitle)[:, 1]\n",
    "\n",
    "average_precision_score(yval, p), roc_auc_score(yval, p)"
   ]
  },
  {
   "cell_type": "markdown",
   "metadata": {},
   "source": [
    "# 5 LightGBM"
   ]
  },
  {
   "cell_type": "code",
   "execution_count": 31,
   "metadata": {},
   "outputs": [],
   "source": [
    "from lightgbm import LGBMClassifier"
   ]
  },
  {
   "cell_type": "code",
   "execution_count": 32,
   "metadata": {},
   "outputs": [
    {
     "output_type": "execute_result",
     "data": {
      "text/plain": [
       "LGBMClassifier(class_weight='balanced', n_jobs=6, random_state=0)"
      ]
     },
     "metadata": {},
     "execution_count": 32
    }
   ],
   "source": [
    "mdl = LGBMClassifier(random_state=0, class_weight=\"balanced\", n_jobs=6)\n",
    "mdl.fit(Xtrain_wtitle, ytrain)"
   ]
  },
  {
   "cell_type": "code",
   "execution_count": 33,
   "metadata": {},
   "outputs": [
    {
     "output_type": "stream",
     "name": "stderr",
     "text": [
      "/home/bruno/.local/lib/python3.8/site-packages/lightgbm/basic.py:597: UserWarning: Converting data to scipy sparse matrix.\n  warnings.warn('Converting data to scipy sparse matrix.')\n"
     ]
    }
   ],
   "source": [
    "p = mdl.predict_proba(Xval_wtitle)[:, 1]"
   ]
  },
  {
   "cell_type": "code",
   "execution_count": 34,
   "metadata": {},
   "outputs": [
    {
     "output_type": "execute_result",
     "data": {
      "text/plain": [
       "(0.5847352924773831, 0.7459019638897688)"
      ]
     },
     "metadata": {},
     "execution_count": 34
    }
   ],
   "source": [
    "average_precision_score(yval, p), roc_auc_score(yval, p)"
   ]
  },
  {
   "cell_type": "markdown",
   "metadata": {},
   "source": [
    "# 6 Bayesian Optimization"
   ]
  },
  {
   "source": [],
   "cell_type": "markdown",
   "metadata": {}
  },
  {
   "cell_type": "code",
   "execution_count": 35,
   "metadata": {},
   "outputs": [
    {
     "output_type": "stream",
     "name": "stdout",
     "text": [
      "Iteration No: 1 started. Evaluating function at random point.\n",
      "[0.009944912110647982, 5, 1, 0.4677107511929402, 0.49263223036174764, 272]\n",
      "[LightGBM] [Warning] bagging_freq is set=1, subsample_freq=0 will be ignored. Current value: bagging_freq=1\n",
      "/home/bruno/.local/lib/python3.8/site-packages/lightgbm/basic.py:597: UserWarning: Converting data to scipy sparse matrix.\n",
      "  warnings.warn('Converting data to scipy sparse matrix.')\n",
      "0.7364388660120368\n",
      "Iteration No: 1 ended. Evaluation done at random point.\n",
      "Time taken: 2.5896\n",
      "Function value obtained: -0.6156\n",
      "Current minimum: -0.6156\n",
      "Iteration No: 2 started. Evaluating function at random point.\n",
      "[0.0010385556240017917, 2, 10, 0.14183771058242609, 0.7437489153990157, 249]\n",
      "[LightGBM] [Warning] bagging_freq is set=1, subsample_freq=0 will be ignored. Current value: bagging_freq=1\n",
      "/home/bruno/.local/lib/python3.8/site-packages/lightgbm/basic.py:597: UserWarning: Converting data to scipy sparse matrix.\n",
      "  warnings.warn('Converting data to scipy sparse matrix.')\n",
      "0.6637333702882483\n",
      "Iteration No: 2 ended. Evaluation done at random point.\n",
      "Time taken: 0.2778\n",
      "Function value obtained: -0.5731\n",
      "Current minimum: -0.6156\n",
      "Iteration No: 3 started. Evaluating function at random point.\n",
      "[0.00209745522423282, 5, 6, 0.1541824778996655, 0.8682075103820793, 273]\n",
      "[LightGBM] [Warning] bagging_freq is set=1, subsample_freq=0 will be ignored. Current value: bagging_freq=1\n",
      "/home/bruno/.local/lib/python3.8/site-packages/lightgbm/basic.py:597: UserWarning: Converting data to scipy sparse matrix.\n",
      "  warnings.warn('Converting data to scipy sparse matrix.')\n",
      "0.7049414000633514\n",
      "Iteration No: 3 ended. Evaluation done at random point.\n",
      "Time taken: 0.6779\n",
      "Function value obtained: -0.5689\n",
      "Current minimum: -0.6156\n",
      "Iteration No: 4 started. Evaluating function at random point.\n",
      "[0.016490254525097375, 9, 9, 0.6502182010234373, 0.6866210554187129, 828]\n",
      "[LightGBM] [Warning] bagging_freq is set=1, subsample_freq=0 will be ignored. Current value: bagging_freq=1\n",
      "/home/bruno/.local/lib/python3.8/site-packages/lightgbm/basic.py:597: UserWarning: Converting data to scipy sparse matrix.\n",
      "  warnings.warn('Converting data to scipy sparse matrix.')\n",
      "0.7734003801076972\n",
      "Iteration No: 4 ended. Evaluation done at random point.\n",
      "Time taken: 1.1207\n",
      "Function value obtained: -0.6349\n",
      "Current minimum: -0.6349\n",
      "Iteration No: 5 started. Evaluating function at random point.\n",
      "[0.022238201581720914, 1, 8, 0.3448850990367951, 0.371803112561826, 793]\n",
      "[LightGBM] [Warning] bagging_freq is set=1, subsample_freq=0 will be ignored. Current value: bagging_freq=1\n",
      "/home/bruno/.local/lib/python3.8/site-packages/lightgbm/basic.py:597: UserWarning: Converting data to scipy sparse matrix.\n",
      "  warnings.warn('Converting data to scipy sparse matrix.')\n",
      "/home/bruno/.local/lib/python3.8/site-packages/lightgbm/basic.py:597: UserWarning: Converting data to scipy sparse matrix.\n",
      "  warnings.warn('Converting data to scipy sparse matrix.')\n",
      "0.7502177700348431\n",
      "Iteration No: 5 ended. Evaluation done at random point.\n",
      "Time taken: 1.1556\n",
      "Function value obtained: -0.6383\n",
      "Current minimum: -0.6383\n",
      "Iteration No: 6 started. Evaluating function at random point.\n",
      "[0.001803868991928055, 1, 13, 0.8899029303129179, 0.9602665861392746, 214]\n",
      "[LightGBM] [Warning] bagging_freq is set=1, subsample_freq=0 will be ignored. Current value: bagging_freq=1\n",
      "0.615368625277162\n",
      "Iteration No: 6 ended. Evaluation done at random point.\n",
      "Time taken: 0.1305\n",
      "Function value obtained: -0.4281\n",
      "Current minimum: -0.6383\n",
      "Iteration No: 7 started. Evaluating function at random point.\n",
      "[0.02614950849523158, 5, 8, 0.5439512623421213, 0.7483811103274842, 817]\n",
      "[LightGBM] [Warning] bagging_freq is set=1, subsample_freq=0 will be ignored. Current value: bagging_freq=1\n",
      "/home/bruno/.local/lib/python3.8/site-packages/lightgbm/basic.py:597: UserWarning: Converting data to scipy sparse matrix.\n",
      "  warnings.warn('Converting data to scipy sparse matrix.')\n",
      "0.7821309787773202\n",
      "Iteration No: 7 ended. Evaluation done at random point.\n",
      "Time taken: 0.4368\n",
      "Function value obtained: -0.6475\n",
      "Current minimum: -0.6475\n",
      "Iteration No: 8 started. Evaluating function at random point.\n",
      "[0.07486580971619969, 10, 1, 0.18428087097824575, 0.3261556557915816, 274]\n",
      "[LightGBM] [Warning] bagging_freq is set=1, subsample_freq=0 will be ignored. Current value: bagging_freq=1\n",
      "/home/bruno/.local/lib/python3.8/site-packages/lightgbm/basic.py:597: UserWarning: Converting data to scipy sparse matrix.\n",
      "  warnings.warn('Converting data to scipy sparse matrix.')\n",
      "/home/bruno/.local/lib/python3.8/site-packages/lightgbm/basic.py:597: UserWarning: Converting data to scipy sparse matrix.\n",
      "  warnings.warn('Converting data to scipy sparse matrix.')\n",
      "0.7448131137155527\n",
      "Iteration No: 8 ended. Evaluation done at random point.\n",
      "Time taken: 3.0921\n",
      "Function value obtained: -0.6219\n",
      "Current minimum: -0.6475\n",
      "Iteration No: 9 started. Evaluating function at random point.\n",
      "[0.052720297823142664, 2, 17, 0.5204205737014657, 0.8063097899281119, 139]\n",
      "[LightGBM] [Warning] bagging_freq is set=1, subsample_freq=0 will be ignored. Current value: bagging_freq=1\n",
      "0.7537218878682292\n",
      "Iteration No: 9 ended. Evaluation done at random point.\n",
      "Time taken: 0.1467\n",
      "Function value obtained: -0.6306\n",
      "Current minimum: -0.6475\n",
      "Iteration No: 10 started. Evaluating function at random point.\n",
      "[0.035432749192096984, 10, 13, 0.1530283556568924, 0.6623654100211082, 732]\n",
      "[LightGBM] [Warning] bagging_freq is set=1, subsample_freq=0 will be ignored. Current value: bagging_freq=1\n",
      "/home/bruno/.local/lib/python3.8/site-packages/lightgbm/basic.py:597: UserWarning: Converting data to scipy sparse matrix.\n",
      "  warnings.warn('Converting data to scipy sparse matrix.')\n",
      "0.701833227747862\n",
      "Iteration No: 10 ended. Evaluation done at random point.\n",
      "Time taken: 1.0140\n",
      "Function value obtained: -0.5403\n",
      "Current minimum: -0.6475\n",
      "Iteration No: 11 started. Evaluating function at random point.\n",
      "[0.01909842850485622, 3, 12, 0.6728679300083596, 0.944578432980404, 528]\n",
      "[LightGBM] [Warning] bagging_freq is set=1, subsample_freq=0 will be ignored. Current value: bagging_freq=1\n",
      "/home/bruno/.local/lib/python3.8/site-packages/lightgbm/basic.py:597: UserWarning: Converting data to scipy sparse matrix.\n",
      "  warnings.warn('Converting data to scipy sparse matrix.')\n",
      "0.7663129553373454\n",
      "Iteration No: 11 ended. Evaluation done at random point.\n",
      "Time taken: 0.2609\n",
      "Function value obtained: -0.6271\n",
      "Current minimum: -0.6475\n",
      "Iteration No: 12 started. Evaluating function at random point.\n",
      "[0.0012116790683302117, 3, 2, 0.06616307483844217, 0.23025600705315752, 677]\n",
      "[LightGBM] [Warning] bagging_freq is set=1, subsample_freq=0 will be ignored. Current value: bagging_freq=1\n",
      "/home/bruno/.local/lib/python3.8/site-packages/lightgbm/basic.py:597: UserWarning: Converting data to scipy sparse matrix.\n",
      "  warnings.warn('Converting data to scipy sparse matrix.')\n",
      "0.6806699398162812\n",
      "Iteration No: 12 ended. Evaluation done at random point.\n",
      "Time taken: 2.4482\n",
      "Function value obtained: -0.5704\n",
      "Current minimum: -0.6475\n",
      "Iteration No: 13 started. Evaluating function at random point.\n",
      "[0.004203255075983761, 7, 16, 0.3563517753435657, 0.394574367546406, 665]\n",
      "[LightGBM] [Warning] bagging_freq is set=1, subsample_freq=0 will be ignored. Current value: bagging_freq=1\n",
      "/home/bruno/.local/lib/python3.8/site-packages/lightgbm/basic.py:597: UserWarning: Converting data to scipy sparse matrix.\n",
      "  warnings.warn('Converting data to scipy sparse matrix.')\n",
      "0.7376860943934115\n",
      "Iteration No: 13 ended. Evaluation done at random point.\n",
      "Time taken: 0.8827\n",
      "Function value obtained: -0.6079\n",
      "Current minimum: -0.6475\n",
      "Iteration No: 14 started. Evaluating function at random point.\n",
      "[0.02151017641719756, 8, 12, 0.3478164905580535, 0.6097479658465779, 898]\n",
      "[LightGBM] [Warning] bagging_freq is set=1, subsample_freq=0 will be ignored. Current value: bagging_freq=1\n",
      "/home/bruno/.local/lib/python3.8/site-packages/lightgbm/basic.py:597: UserWarning: Converting data to scipy sparse matrix.\n",
      "  warnings.warn('Converting data to scipy sparse matrix.')\n",
      "/home/bruno/.local/lib/python3.8/site-packages/lightgbm/basic.py:597: UserWarning: Converting data to scipy sparse matrix.\n",
      "  warnings.warn('Converting data to scipy sparse matrix.')\n",
      "0.7482380424453595\n",
      "Iteration No: 14 ended. Evaluation done at random point.\n",
      "Time taken: 1.5983\n",
      "Function value obtained: -0.5970\n",
      "Current minimum: -0.6475\n",
      "Iteration No: 15 started. Evaluating function at random point.\n",
      "[0.0021108116772730425, 2, 10, 0.7397664605754514, 0.5409573219011281, 169]\n",
      "[LightGBM] [Warning] bagging_freq is set=1, subsample_freq=0 will be ignored. Current value: bagging_freq=1\n",
      "0.6563489863794741\n",
      "Iteration No: 15 ended. Evaluation done at random point.\n",
      "Time taken: 0.1836\n",
      "Function value obtained: -0.5230\n",
      "Current minimum: -0.6475\n",
      "Iteration No: 16 started. Evaluating function at random point.\n",
      "[0.0022449729419144397, 4, 5, 0.3108581988504267, 0.9309012838296121, 403]\n",
      "[LightGBM] [Warning] bagging_freq is set=1, subsample_freq=0 will be ignored. Current value: bagging_freq=1\n",
      "/home/bruno/.local/lib/python3.8/site-packages/lightgbm/basic.py:597: UserWarning: Converting data to scipy sparse matrix.\n",
      "  warnings.warn('Converting data to scipy sparse matrix.')\n",
      "0.7113656160912258\n",
      "Iteration No: 16 ended. Evaluation done at random point.\n",
      "Time taken: 0.9496\n",
      "Function value obtained: -0.5848\n",
      "Current minimum: -0.6475\n",
      "Iteration No: 17 started. Evaluating function at random point.\n",
      "[0.015665337619230394, 4, 12, 0.6379996920535315, 0.44547029713921693, 274]\n",
      "[LightGBM] [Warning] bagging_freq is set=1, subsample_freq=0 will be ignored. Current value: bagging_freq=1\n",
      "/home/bruno/.local/lib/python3.8/site-packages/lightgbm/basic.py:597: UserWarning: Converting data to scipy sparse matrix.\n",
      "  warnings.warn('Converting data to scipy sparse matrix.')\n",
      "0.742219670573329\n",
      "Iteration No: 17 ended. Evaluation done at random point.\n",
      "Time taken: 0.2257\n",
      "Function value obtained: -0.6120\n",
      "Current minimum: -0.6475\n",
      "Iteration No: 18 started. Evaluating function at random point.\n",
      "[0.061810855225848234, 9, 13, 0.6999267156375811, 0.7080093169433413, 131]\n",
      "[LightGBM] [Warning] bagging_freq is set=1, subsample_freq=0 will be ignored. Current value: bagging_freq=1\n",
      "/home/bruno/.local/lib/python3.8/site-packages/lightgbm/basic.py:597: UserWarning: Converting data to scipy sparse matrix.\n",
      "  warnings.warn('Converting data to scipy sparse matrix.')\n",
      "0.7741328793158061\n",
      "Iteration No: 18 ended. Evaluation done at random point.\n",
      "Time taken: 0.2135\n",
      "Function value obtained: -0.6251\n",
      "Current minimum: -0.6475\n",
      "Iteration No: 19 started. Evaluating function at random point.\n",
      "[0.0066328042405379645, 8, 6, 0.5976582413192033, 0.2474882432951916, 516]\n",
      "[LightGBM] [Warning] bagging_freq is set=1, subsample_freq=0 will be ignored. Current value: bagging_freq=1\n",
      "/home/bruno/.local/lib/python3.8/site-packages/lightgbm/basic.py:597: UserWarning: Converting data to scipy sparse matrix.\n",
      "  warnings.warn('Converting data to scipy sparse matrix.')\n",
      "0.7386363636363635\n",
      "Iteration No: 19 ended. Evaluation done at random point.\n",
      "Time taken: 0.7033\n",
      "Function value obtained: -0.6140\n",
      "Current minimum: -0.6475\n",
      "Iteration No: 20 started. Evaluating function at random point.\n",
      "[0.003859705757436628, 2, 11, 0.19148421730222298, 0.5852444922406691, 613]\n",
      "[LightGBM] [Warning] bagging_freq is set=1, subsample_freq=0 will be ignored. Current value: bagging_freq=1\n",
      "/home/bruno/.local/lib/python3.8/site-packages/lightgbm/basic.py:597: UserWarning: Converting data to scipy sparse matrix.\n",
      "  warnings.warn('Converting data to scipy sparse matrix.')\n",
      "0.6956564776686728\n",
      "Iteration No: 20 ended. Evaluation done at random point.\n",
      "Time taken: 1.2648\n",
      "Function value obtained: -0.5972\n",
      "Current minimum: -0.6475\n",
      "Iteration No: 21 started. Searching for the next optimal point.\n",
      "[0.01252010056057221, 2, 2, 0.8617770716587646, 0.9976026469062537, 826]\n",
      "[LightGBM] [Warning] bagging_freq is set=1, subsample_freq=0 will be ignored. Current value: bagging_freq=1\n",
      "/home/bruno/.local/lib/python3.8/site-packages/lightgbm/basic.py:597: UserWarning: Converting data to scipy sparse matrix.\n",
      "  warnings.warn('Converting data to scipy sparse matrix.')\n",
      "0.7507918910357935\n",
      "Iteration No: 21 ended. Search finished for the next optimal point.\n",
      "Time taken: 1.4856\n",
      "Function value obtained: -0.6383\n",
      "Current minimum: -0.6475\n",
      "Iteration No: 22 started. Searching for the next optimal point.\n",
      "[0.00987855209049137, 1, 15, 0.9586137074024715, 0.9422271767831407, 185]\n",
      "[LightGBM] [Warning] bagging_freq is set=1, subsample_freq=0 will be ignored. Current value: bagging_freq=1\n",
      "0.6596848273677542\n",
      "/home/bruno/.local/lib/python3.8/site-packages/lightgbm/basic.py:597: UserWarning: Converting data to scipy sparse matrix.\n",
      "  warnings.warn('Converting data to scipy sparse matrix.')\n",
      "Iteration No: 22 ended. Search finished for the next optimal point.\n",
      "Time taken: 0.3092\n",
      "Function value obtained: -0.5114\n",
      "Current minimum: -0.6475\n",
      "Iteration No: 23 started. Searching for the next optimal point.\n",
      "[0.05669659554050318, 1, 6, 0.9046083457312004, 0.7251165239960375, 879]\n",
      "[LightGBM] [Warning] bagging_freq is set=1, subsample_freq=0 will be ignored. Current value: bagging_freq=1\n",
      "/home/bruno/.local/lib/python3.8/site-packages/lightgbm/basic.py:597: UserWarning: Converting data to scipy sparse matrix.\n",
      "  warnings.warn('Converting data to scipy sparse matrix.')\n",
      "0.7800621634463097\n",
      "Iteration No: 23 ended. Search finished for the next optimal point.\n",
      "Time taken: 0.5283\n",
      "Function value obtained: -0.6646\n",
      "Current minimum: -0.6646\n",
      "Iteration No: 24 started. Searching for the next optimal point.\n",
      "[0.06701872615546672, 1, 19, 0.8886138480259319, 0.9712828723410551, 902]\n",
      "[LightGBM] [Warning] bagging_freq is set=1, subsample_freq=0 will be ignored. Current value: bagging_freq=1\n",
      "0.7763006810262908\n",
      "/home/bruno/.local/lib/python3.8/site-packages/lightgbm/basic.py:597: UserWarning: Converting data to scipy sparse matrix.\n",
      "  warnings.warn('Converting data to scipy sparse matrix.')\n",
      "Iteration No: 24 ended. Search finished for the next optimal point.\n",
      "Time taken: 0.4567\n",
      "Function value obtained: -0.6481\n",
      "Current minimum: -0.6646\n",
      "Iteration No: 25 started. Searching for the next optimal point.\n",
      "[0.09731921768246564, 1, 17, 0.7617975567780422, 0.9231143841720019, 186]\n",
      "[LightGBM] [Warning] bagging_freq is set=1, subsample_freq=0 will be ignored. Current value: bagging_freq=1\n",
      "0.7527320240734875\n",
      "/home/bruno/.local/lib/python3.8/site-packages/lightgbm/basic.py:597: UserWarning: Converting data to scipy sparse matrix.\n",
      "  warnings.warn('Converting data to scipy sparse matrix.')\n",
      "Iteration No: 25 ended. Search finished for the next optimal point.\n",
      "Time taken: 0.3624\n",
      "Function value obtained: -0.6367\n",
      "Current minimum: -0.6646\n",
      "Iteration No: 26 started. Searching for the next optimal point.\n",
      "[0.02616132885244699, 1, 6, 0.8049032324810309, 0.8530783563910386, 420]\n",
      "[LightGBM] [Warning] bagging_freq is set=1, subsample_freq=0 will be ignored. Current value: bagging_freq=1\n",
      "0.7276587741526765\n",
      "/home/bruno/.local/lib/python3.8/site-packages/lightgbm/basic.py:597: UserWarning: Converting data to scipy sparse matrix.\n",
      "  warnings.warn('Converting data to scipy sparse matrix.')\n",
      "Iteration No: 26 ended. Search finished for the next optimal point.\n",
      "Time taken: 0.3956\n",
      "Function value obtained: -0.6141\n",
      "Current minimum: -0.6646\n",
      "Iteration No: 27 started. Searching for the next optimal point.\n",
      "[0.01797192388501556, 1, 9, 0.8825772770596445, 0.8930581706005575, 182]\n",
      "[LightGBM] [Warning] bagging_freq is set=1, subsample_freq=0 will be ignored. Current value: bagging_freq=1\n",
      "0.6958940449794109\n",
      "/home/bruno/.local/lib/python3.8/site-packages/lightgbm/basic.py:597: UserWarning: Converting data to scipy sparse matrix.\n",
      "  warnings.warn('Converting data to scipy sparse matrix.')\n",
      "Iteration No: 27 ended. Search finished for the next optimal point.\n",
      "Time taken: 0.3080\n",
      "Function value obtained: -0.5883\n",
      "Current minimum: -0.6646\n",
      "Iteration No: 28 started. Searching for the next optimal point.\n",
      "[0.010551776080048971, 1, 14, 0.9429053598734398, 0.06478152329283847, 944]\n",
      "[LightGBM] [Warning] bagging_freq is set=1, subsample_freq=0 will be ignored. Current value: bagging_freq=1\n",
      "/home/bruno/.local/lib/python3.8/site-packages/lightgbm/basic.py:597: UserWarning: Converting data to scipy sparse matrix.\n",
      "  warnings.warn('Converting data to scipy sparse matrix.')\n",
      "0.7154537535635097\n",
      "Iteration No: 28 ended. Search finished for the next optimal point.\n",
      "Time taken: 0.4340\n",
      "Function value obtained: -0.6141\n",
      "Current minimum: -0.6646\n",
      "Iteration No: 29 started. Searching for the next optimal point.\n",
      "[0.04760601300394523, 1, 18, 0.9256249922021039, 0.14651735738488264, 197]\n",
      "[LightGBM] [Warning] bagging_freq is set=1, subsample_freq=0 will be ignored. Current value: bagging_freq=1\n",
      "0.7121674057649667\n",
      "/home/bruno/.local/lib/python3.8/site-packages/lightgbm/basic.py:597: UserWarning: Converting data to scipy sparse matrix.\n",
      "  warnings.warn('Converting data to scipy sparse matrix.')\n",
      "Iteration No: 29 ended. Search finished for the next optimal point.\n",
      "Time taken: 0.3150\n",
      "Function value obtained: -0.6014\n",
      "Current minimum: -0.6646\n",
      "Iteration No: 30 started. Searching for the next optimal point.\n",
      "[0.029554552591959087, 1, 16, 0.9718311700965087, 0.9339439342887255, 825]\n",
      "[LightGBM] [Warning] bagging_freq is set=1, subsample_freq=0 will be ignored. Current value: bagging_freq=1\n",
      "0.7506038169147925\n",
      "/home/bruno/.local/lib/python3.8/site-packages/lightgbm/basic.py:597: UserWarning: Converting data to scipy sparse matrix.\n",
      "  warnings.warn('Converting data to scipy sparse matrix.')\n",
      "Iteration No: 30 ended. Search finished for the next optimal point.\n",
      "Time taken: 0.3580\n",
      "Function value obtained: -0.6356\n",
      "Current minimum: -0.6646\n",
      "Iteration No: 31 started. Searching for the next optimal point.\n",
      "[0.001253414120151971, 1, 10, 0.8069788976625288, 0.938594216245979, 914]\n",
      "[LightGBM] [Warning] bagging_freq is set=1, subsample_freq=0 will be ignored. Current value: bagging_freq=1\n",
      "/home/bruno/.local/lib/python3.8/site-packages/lightgbm/basic.py:597: UserWarning: Converting data to scipy sparse matrix.\n",
      "  warnings.warn('Converting data to scipy sparse matrix.')\n",
      "0.6340671523598352\n",
      "Iteration No: 31 ended. Search finished for the next optimal point.\n",
      "Time taken: 0.3959\n",
      "Function value obtained: -0.4882\n",
      "Current minimum: -0.6646\n",
      "Iteration No: 32 started. Searching for the next optimal point.\n",
      "[0.0074694447945674374, 1, 6, 0.8517796119486517, 0.9525726857054582, 942]\n",
      "[LightGBM] [Warning] bagging_freq is set=1, subsample_freq=0 will be ignored. Current value: bagging_freq=1\n",
      "0.7197002692429522\n",
      "/home/bruno/.local/lib/python3.8/site-packages/lightgbm/basic.py:597: UserWarning: Converting data to scipy sparse matrix.\n",
      "  warnings.warn('Converting data to scipy sparse matrix.')\n",
      "Iteration No: 32 ended. Search finished for the next optimal point.\n",
      "Time taken: 0.4546\n",
      "Function value obtained: -0.6050\n",
      "Current minimum: -0.6646\n",
      "Iteration No: 33 started. Searching for the next optimal point.\n",
      "[0.004860660724650197, 3, 7, 0.9771236973576043, 0.9517078488497146, 841]\n",
      "[LightGBM] [Warning] bagging_freq is set=1, subsample_freq=0 will be ignored. Current value: bagging_freq=1\n",
      "/home/bruno/.local/lib/python3.8/site-packages/lightgbm/basic.py:597: UserWarning: Converting data to scipy sparse matrix.\n",
      "  warnings.warn('Converting data to scipy sparse matrix.')\n",
      "0.7392995723788406\n",
      "Iteration No: 33 ended. Search finished for the next optimal point.\n",
      "Time taken: 0.5402\n",
      "Function value obtained: -0.6049\n",
      "Current minimum: -0.6646\n",
      "Iteration No: 34 started. Searching for the next optimal point.\n",
      "[0.002962635817045256, 1, 15, 0.733120509158838, 0.9995352616777446, 807]\n",
      "[LightGBM] [Warning] bagging_freq is set=1, subsample_freq=0 will be ignored. Current value: bagging_freq=1\n",
      "0.6852431105479886\n",
      "/home/bruno/.local/lib/python3.8/site-packages/lightgbm/basic.py:597: UserWarning: Converting data to scipy sparse matrix.\n",
      "  warnings.warn('Converting data to scipy sparse matrix.')\n",
      "Iteration No: 34 ended. Search finished for the next optimal point.\n",
      "Time taken: 0.3930\n",
      "Function value obtained: -0.5718\n",
      "Current minimum: -0.6646\n",
      "Iteration No: 35 started. Searching for the next optimal point.\n",
      "[0.0658457198623021, 3, 14, 0.9787913681516851, 0.9497479055976344, 137]\n",
      "[LightGBM] [Warning] bagging_freq is set=1, subsample_freq=0 will be ignored. Current value: bagging_freq=1\n",
      "0.7632839721254355\n",
      "/home/bruno/.local/lib/python3.8/site-packages/lightgbm/basic.py:597: UserWarning: Converting data to scipy sparse matrix.\n",
      "  warnings.warn('Converting data to scipy sparse matrix.')\n",
      "Iteration No: 35 ended. Search finished for the next optimal point.\n",
      "Time taken: 0.4019\n",
      "Function value obtained: -0.6358\n",
      "Current minimum: -0.6646\n",
      "Iteration No: 36 started. Searching for the next optimal point.\n",
      "[0.05355033269142415, 10, 7, 0.8880510200288828, 0.8015044604958388, 638]\n",
      "[LightGBM] [Warning] bagging_freq is set=1, subsample_freq=0 will be ignored. Current value: bagging_freq=1\n",
      "/home/bruno/.local/lib/python3.8/site-packages/lightgbm/basic.py:597: UserWarning: Converting data to scipy sparse matrix.\n",
      "  warnings.warn('Converting data to scipy sparse matrix.')\n",
      "0.7710247070003168\n",
      "Iteration No: 36 ended. Search finished for the next optimal point.\n",
      "Time taken: 0.9514\n",
      "Function value obtained: -0.6442\n",
      "Current minimum: -0.6646\n",
      "Iteration No: 37 started. Searching for the next optimal point.\n",
      "[0.0558118886736447, 2, 7, 0.16672654611891363, 0.7367976559736097, 771]\n",
      "[LightGBM] [Warning] bagging_freq is set=1, subsample_freq=0 will be ignored. Current value: bagging_freq=1\n",
      "/home/bruno/.local/lib/python3.8/site-packages/lightgbm/basic.py:597: UserWarning: Converting data to scipy sparse matrix.\n",
      "  warnings.warn('Converting data to scipy sparse matrix.')\n",
      "0.7664515362686094\n",
      "Iteration No: 37 ended. Search finished for the next optimal point.\n",
      "Time taken: 1.0756\n",
      "Function value obtained: -0.6251\n",
      "Current minimum: -0.6646\n",
      "Iteration No: 38 started. Searching for the next optimal point.\n",
      "[0.010627108388968232, 9, 8, 0.7315645080484228, 0.7611306496857725, 158]\n",
      "[LightGBM] [Warning] bagging_freq is set=1, subsample_freq=0 will be ignored. Current value: bagging_freq=1\n",
      "/home/bruno/.local/lib/python3.8/site-packages/lightgbm/basic.py:597: UserWarning: Converting data to scipy sparse matrix.\n",
      "  warnings.warn('Converting data to scipy sparse matrix.')\n",
      "0.7409427462781122\n",
      "Iteration No: 38 ended. Search finished for the next optimal point.\n",
      "Time taken: 0.7944\n",
      "Function value obtained: -0.6048\n",
      "Current minimum: -0.6646\n",
      "Iteration No: 39 started. Searching for the next optimal point.\n",
      "[0.04395729361974829, 5, 14, 0.576268729820351, 0.7415457130433903, 799]\n",
      "[LightGBM] [Warning] bagging_freq is set=1, subsample_freq=0 will be ignored. Current value: bagging_freq=1\n",
      "/home/bruno/.local/lib/python3.8/site-packages/lightgbm/basic.py:597: UserWarning: Converting data to scipy sparse matrix.\n",
      "  warnings.warn('Converting data to scipy sparse matrix.')\n",
      "0.7583148558758315\n",
      "Iteration No: 39 ended. Search finished for the next optimal point.\n",
      "Time taken: 0.6660\n",
      "Function value obtained: -0.6158\n",
      "Current minimum: -0.6646\n",
      "Iteration No: 40 started. Searching for the next optimal point.\n",
      "[0.058821256634520605, 1, 1, 0.14330777824027824, 0.7791260813820324, 835]\n",
      "[LightGBM] [Warning] bagging_freq is set=1, subsample_freq=0 will be ignored. Current value: bagging_freq=1\n",
      "/home/bruno/.local/lib/python3.8/site-packages/lightgbm/basic.py:597: UserWarning: Converting data to scipy sparse matrix.\n",
      "  warnings.warn('Converting data to scipy sparse matrix.')\n",
      "0.7481489547038327\n",
      "Iteration No: 40 ended. Search finished for the next optimal point.\n",
      "Time taken: 2.8101\n",
      "Function value obtained: -0.6294\n",
      "Current minimum: -0.6646\n",
      "Iteration No: 41 started. Searching for the next optimal point.\n",
      "[0.09717840405094902, 10, 10, 0.9602403504704303, 0.540942016112126, 960]\n",
      "[LightGBM] [Warning] bagging_freq is set=1, subsample_freq=0 will be ignored. Current value: bagging_freq=1\n",
      "/home/bruno/.local/lib/python3.8/site-packages/lightgbm/basic.py:597: UserWarning: Converting data to scipy sparse matrix.\n",
      "  warnings.warn('Converting data to scipy sparse matrix.')\n",
      "0.754592968007602\n",
      "Iteration No: 41 ended. Search finished for the next optimal point.\n",
      "Time taken: 1.3023\n",
      "Function value obtained: -0.6256\n",
      "Current minimum: -0.6646\n",
      "Iteration No: 42 started. Searching for the next optimal point.\n",
      "[0.007877804495370561, 1, 18, 0.5972421468854106, 0.9597672000271807, 769]\n",
      "[LightGBM] [Warning] bagging_freq is set=1, subsample_freq=0 will be ignored. Current value: bagging_freq=1\n",
      "0.7107420019005385\n",
      "/home/bruno/.local/lib/python3.8/site-packages/lightgbm/basic.py:597: UserWarning: Converting data to scipy sparse matrix.\n",
      "  warnings.warn('Converting data to scipy sparse matrix.')\n",
      "Iteration No: 42 ended. Search finished for the next optimal point.\n",
      "Time taken: 0.4049\n",
      "Function value obtained: -0.6051\n",
      "Current minimum: -0.6646\n",
      "Iteration No: 43 started. Searching for the next optimal point.\n",
      "[0.003489303367695822, 1, 1, 0.7808027453622629, 0.7098232016714738, 887]\n",
      "[LightGBM] [Warning] bagging_freq is set=1, subsample_freq=0 will be ignored. Current value: bagging_freq=1\n",
      "/home/bruno/.local/lib/python3.8/site-packages/lightgbm/basic.py:597: UserWarning: Converting data to scipy sparse matrix.\n",
      "  warnings.warn('Converting data to scipy sparse matrix.')\n",
      "0.6869555749128919\n",
      "Iteration No: 43 ended. Search finished for the next optimal point.\n",
      "Time taken: 0.6533\n",
      "Function value obtained: -0.5709\n",
      "Current minimum: -0.6646\n",
      "Iteration No: 44 started. Searching for the next optimal point.\n",
      "[0.012331020620879634, 3, 17, 0.9077605437010814, 0.9536743881291189, 105]\n",
      "[LightGBM] [Warning] bagging_freq is set=1, subsample_freq=0 will be ignored. Current value: bagging_freq=1\n",
      "0.7104054482103263\n",
      "/home/bruno/.local/lib/python3.8/site-packages/lightgbm/basic.py:597: UserWarning: Converting data to scipy sparse matrix.\n",
      "  warnings.warn('Converting data to scipy sparse matrix.')\n",
      "Iteration No: 44 ended. Search finished for the next optimal point.\n",
      "Time taken: 0.3420\n",
      "Function value obtained: -0.5663\n",
      "Current minimum: -0.6646\n",
      "Iteration No: 45 started. Searching for the next optimal point.\n",
      "[0.004373944823399534, 1, 14, 0.7027286983809368, 0.2906190655931418, 216]\n",
      "[LightGBM] [Warning] bagging_freq is set=1, subsample_freq=0 will be ignored. Current value: bagging_freq=1\n",
      "0.6562302027241051\n",
      "/home/bruno/.local/lib/python3.8/site-packages/lightgbm/basic.py:597: UserWarning: Converting data to scipy sparse matrix.\n",
      "  warnings.warn('Converting data to scipy sparse matrix.')\n",
      "Iteration No: 45 ended. Search finished for the next optimal point.\n",
      "Time taken: 0.3601\n",
      "Function value obtained: -0.5364\n",
      "Current minimum: -0.6646\n",
      "Iteration No: 46 started. Searching for the next optimal point.\n",
      "[0.013345493053146026, 1, 15, 0.9442001664257598, 0.09792137752525351, 529]\n",
      "[LightGBM] [Warning] bagging_freq is set=1, subsample_freq=0 will be ignored. Current value: bagging_freq=1\n",
      "0.7092176116566359\n",
      "/home/bruno/.local/lib/python3.8/site-packages/lightgbm/basic.py:597: UserWarning: Converting data to scipy sparse matrix.\n",
      "  warnings.warn('Converting data to scipy sparse matrix.')\n",
      "Iteration No: 46 ended. Search finished for the next optimal point.\n",
      "Time taken: 0.4672\n",
      "Function value obtained: -0.6069\n",
      "Current minimum: -0.6646\n",
      "Iteration No: 47 started. Searching for the next optimal point.\n",
      "[0.03223313001224565, 10, 3, 0.3661175888951057, 0.7124007576116607, 752]\n",
      "[LightGBM] [Warning] bagging_freq is set=1, subsample_freq=0 will be ignored. Current value: bagging_freq=1\n",
      "/home/bruno/.local/lib/python3.8/site-packages/lightgbm/basic.py:597: UserWarning: Converting data to scipy sparse matrix.\n",
      "  warnings.warn('Converting data to scipy sparse matrix.')\n",
      "0.7646301868862845\n",
      "Iteration No: 47 ended. Search finished for the next optimal point.\n",
      "Time taken: 3.6643\n",
      "Function value obtained: -0.6411\n",
      "Current minimum: -0.6646\n",
      "Iteration No: 48 started. Searching for the next optimal point.\n",
      "[0.037443250857839436, 8, 8, 0.09310640532946696, 0.6515126140890926, 961]\n",
      "[LightGBM] [Warning] bagging_freq is set=1, subsample_freq=0 will be ignored. Current value: bagging_freq=1\n",
      "/home/bruno/.local/lib/python3.8/site-packages/lightgbm/basic.py:597: UserWarning: Converting data to scipy sparse matrix.\n",
      "  warnings.warn('Converting data to scipy sparse matrix.')\n",
      "0.7020312005068102\n",
      "Iteration No: 48 ended. Search finished for the next optimal point.\n",
      "Time taken: 1.3162\n",
      "Function value obtained: -0.5654\n",
      "Current minimum: -0.6646\n",
      "Iteration No: 49 started. Searching for the next optimal point.\n",
      "[0.03529600105719497, 1, 4, 0.22453587685577397, 0.6381052566445962, 928]\n",
      "[LightGBM] [Warning] bagging_freq is set=1, subsample_freq=0 will be ignored. Current value: bagging_freq=1\n",
      "/home/bruno/.local/lib/python3.8/site-packages/lightgbm/basic.py:597: UserWarning: Converting data to scipy sparse matrix.\n",
      "  warnings.warn('Converting data to scipy sparse matrix.')\n",
      "0.7607202248970542\n",
      "Iteration No: 49 ended. Search finished for the next optimal point.\n",
      "Time taken: 1.5758\n",
      "Function value obtained: -0.6469\n",
      "Current minimum: -0.6646\n",
      "Iteration No: 50 started. Searching for the next optimal point.\n",
      "[0.028608635944996855, 4, 5, 0.05067043849753699, 0.09654098319178686, 922]\n",
      "[LightGBM] [Warning] bagging_freq is set=1, subsample_freq=0 will be ignored. Current value: bagging_freq=1\n",
      "/home/bruno/.local/lib/python3.8/site-packages/lightgbm/basic.py:597: UserWarning: Converting data to scipy sparse matrix.\n",
      "  warnings.warn('Converting data to scipy sparse matrix.')\n",
      "0.7315687361419068\n",
      "Iteration No: 50 ended. Search finished for the next optimal point.\n",
      "Time taken: 1.2239\n",
      "Function value obtained: -0.6243\n",
      "Current minimum: -0.6646\n"
     ]
    }
   ],
   "source": [
    "def tune_lgbm(params):\n",
    "    print(params)\n",
    "    lr = params[0]\n",
    "    max_depth = params[1]\n",
    "    min_child_samples = params[2]\n",
    "    subsample = params[3]\n",
    "    colsample_bytree = params[4]\n",
    "    n_estimators = params[5]\n",
    "    \n",
    "    min_df = 2#params[6]\n",
    "    ngram_range = (1,4)#(1, params[7])\n",
    "    \n",
    "    title_vec = TfidfVectorizer(min_df=min_df, ngram_range=ngram_range)\n",
    "    title_bow_train = title_vec.fit_transform(title_train)\n",
    "    title_bow_val = title_vec.transform(title_val)\n",
    "    \n",
    "    Xtrain_wtitle = hstack([Xtrain, title_bow_train])\n",
    "    Xval_wtitle = hstack([Xval, title_bow_val])\n",
    "    \n",
    "    mdl = LGBMClassifier(learning_rate=lr, num_leaves=2 ** max_depth, max_depth=max_depth, \n",
    "                         min_child_samples=min_child_samples, subsample=subsample,\n",
    "                         colsample_bytree=colsample_bytree, bagging_freq=1,n_estimators=n_estimators, random_state=0, \n",
    "                         class_weight=\"balanced\", n_jobs=6)\n",
    "    mdl.fit(Xtrain_wtitle, ytrain)\n",
    "    \n",
    "    p = mdl.predict_proba(Xval_wtitle)[:, 1]\n",
    "    \n",
    "    print(roc_auc_score(yval, p))\n",
    "    \n",
    "    return -average_precision_score(yval, p)\n",
    "\n",
    "\n",
    "space = [(1e-3, 1e-1, 'log-uniform'), # lr\n",
    "          (1, 10), # max_depth\n",
    "          (1, 20), # min_child_samples\n",
    "          (0.05, 1.), # subsample\n",
    "          (0.05, 1.), # colsample_bytree\n",
    "          (100,1000),] # n_estimators\n",
    "          #(1,5), # min_df\n",
    "          #(1,5)] # ngram_range\n",
    "\n",
    "res = forest_minimize(tune_lgbm, space, random_state=160745, n_random_starts=20, n_calls=50, verbose=1)"
   ]
  },
  {
   "cell_type": "code",
   "execution_count": 36,
   "metadata": {},
   "outputs": [
    {
     "output_type": "execute_result",
     "data": {
      "text/plain": [
       "[0.05669659554050318, 1, 6, 0.9046083457312004, 0.7251165239960375, 879]"
      ]
     },
     "metadata": {},
     "execution_count": 36
    }
   ],
   "source": [
    "res.x"
   ]
  },
  {
   "source": [
    "### lr, max_depth, min_child_samples, subsample, colsample_bytree, n_estimators, min_df, ngram_range"
   ],
   "cell_type": "markdown",
   "metadata": {}
  },
  {
   "cell_type": "code",
   "execution_count": 37,
   "metadata": {},
   "outputs": [
    {
     "output_type": "stream",
     "name": "stdout",
     "text": [
      "[0.05669659554050318, 1, 6, 0.9046083457312004, 0.7251165239960375, 879]\n",
      "[LightGBM] [Warning] bagging_freq is set=1, subsample_freq=0 will be ignored. Current value: bagging_freq=1\n",
      "/home/bruno/.local/lib/python3.8/site-packages/lightgbm/basic.py:597: UserWarning: Converting data to scipy sparse matrix.\n",
      "  warnings.warn('Converting data to scipy sparse matrix.')\n"
     ]
    },
    {
     "output_type": "execute_result",
     "data": {
      "text/plain": [
       "(0.664624318709879, 0.7800621634463097)"
      ]
     },
     "metadata": {},
     "execution_count": 37
    }
   ],
   "source": [
    "\n",
    "params = res.x\n",
    "print(params)\n",
    "lr = params[0]\n",
    "max_depth = params[1]\n",
    "min_child_samples = params[2]\n",
    "subsample = params[3]\n",
    "colsample_bytree = params[4]\n",
    "n_estimators = params[5]\n",
    "\n",
    "min_df = 2#params[6]\n",
    "ngram_range = (1,4)#(1, params[7])\n",
    "\n",
    "title_vec = TfidfVectorizer(min_df=min_df, ngram_range=ngram_range)\n",
    "title_bow_train = title_vec.fit_transform(title_train)\n",
    "title_bow_val = title_vec.transform(title_val)\n",
    "\n",
    "Xtrain_wtitle = hstack([Xtrain, title_bow_train])\n",
    "Xval_wtitle = hstack([Xval, title_bow_val])\n",
    "\n",
    "mdl = LGBMClassifier(learning_rate=lr, num_leaves=2 ** max_depth, max_depth=max_depth, \n",
    "                        min_child_samples=min_child_samples, subsample=subsample,\n",
    "                        colsample_bytree=colsample_bytree, bagging_freq=1,n_estimators=n_estimators, random_state=0, \n",
    "                        class_weight=\"balanced\", n_jobs=6)\n",
    "mdl.fit(Xtrain_wtitle, ytrain)\n",
    "\n",
    "p = mdl.predict_proba(Xval_wtitle)[:, 1]\n",
    "\n",
    "average_precision_score(yval, p), roc_auc_score(yval, p)"
   ]
  },
  {
   "cell_type": "markdown",
   "metadata": {},
   "source": [
    "# 7 Logistic Reg"
   ]
  },
  {
   "cell_type": "code",
   "execution_count": 38,
   "metadata": {},
   "outputs": [],
   "source": [
    "from sklearn.preprocessing import MaxAbsScaler, StandardScaler\n",
    "from scipy.sparse import csr_matrix"
   ]
  },
  {
   "cell_type": "code",
   "execution_count": 39,
   "metadata": {},
   "outputs": [
    {
     "output_type": "stream",
     "name": "stderr",
     "text": [
      "/home/bruno/.local/lib/python3.8/site-packages/scipy/sparse/_index.py:124: SparseEfficiencyWarning: Changing the sparsity structure of a csr_matrix is expensive. lil_matrix is more efficient.\n  self._set_arrayXarray(i, j, x)\n"
     ]
    }
   ],
   "source": [
    "Xtrain_wtitle2 = csr_matrix(Xtrain_wtitle.copy())\n",
    "Xval_wtitle2 = csr_matrix(Xval_wtitle.copy())\n",
    "\n",
    "scaler = StandardScaler()\n",
    "# scaler = MaxAbsScaler()\n",
    "\n",
    "\n",
    "Xtrain_wtitle2[:, :2] = scaler.fit_transform(Xtrain_wtitle2[:, :2].todense())\n",
    "Xval_wtitle2[:, :2] = scaler.transform(Xval_wtitle2[:, :2].todense())\n",
    "\n",
    "# Xtrain_wtitle2 = scaler.fit_transform(Xtrain_wtitle2)\n",
    "# Xval_wtitle2 = scaler.transform(Xval_wtitle2)"
   ]
  },
  {
   "cell_type": "code",
   "execution_count": 58,
   "metadata": {},
   "outputs": [
    {
     "output_type": "execute_result",
     "data": {
      "text/plain": [
       "(472, 2606)"
      ]
     },
     "metadata": {},
     "execution_count": 58
    }
   ],
   "source": [
    "Xval_wtitle2.shape"
   ]
  },
  {
   "cell_type": "code",
   "execution_count": 40,
   "metadata": {},
   "outputs": [
    {
     "output_type": "execute_result",
     "data": {
      "text/plain": [
       "LogisticRegression(C=10, n_jobs=6, random_state=0)"
      ]
     },
     "metadata": {},
     "execution_count": 40
    }
   ],
   "source": [
    "\n",
    "mdl = LogisticRegression(C=10,n_jobs=6, random_state=0)\n",
    "mdl.fit(Xtrain_wtitle2, ytrain)"
   ]
  },
  {
   "cell_type": "code",
   "execution_count": 41,
   "metadata": {},
   "outputs": [],
   "source": [
    "p = mdl.predict_proba(Xval_wtitle2)[:, 1]"
   ]
  },
  {
   "cell_type": "code",
   "execution_count": 42,
   "metadata": {},
   "outputs": [
    {
     "output_type": "execute_result",
     "data": {
      "text/plain": [
       "(0.6863234204050065, 0.8000475134621476)"
      ]
     },
     "metadata": {},
     "execution_count": 42
    }
   ],
   "source": [
    "average_precision_score(yval, p), roc_auc_score(yval, p)"
   ]
  },
  {
   "cell_type": "code",
   "execution_count": null,
   "metadata": {},
   "outputs": [],
   "source": [
    "(0.6830179524739917, 0.7977510294583465) - sem tuning, standardscaler, C=10\n",
    "\n",
    "(0.6573139874877728, 0.776805511561609) - sem tuning, maxabsscaler\n",
    "(0.6284990574361318, 0.7407546721571111) - C=0.1, maxabsscaler\n",
    "\n",
    "(0.6656405691163344, 0.7787456445993031) - C=0.5, maxabsscaler"
   ]
  },
  {
   "cell_type": "code",
   "execution_count": null,
   "metadata": {},
   "outputs": [],
   "source": []
  },
  {
   "cell_type": "code",
   "execution_count": null,
   "metadata": {},
   "outputs": [],
   "source": []
  }
 ],
 "metadata": {
  "kernelspec": {
   "display_name": "Python 3",
   "language": "python",
   "name": "python3"
  },
  "language_info": {
   "codemirror_mode": {
    "name": "ipython",
    "version": 3
   },
   "file_extension": ".py",
   "mimetype": "text/x-python",
   "name": "python",
   "nbconvert_exporter": "python",
   "pygments_lexer": "ipython3",
   "version": "3.8.5"
  }
 },
 "nbformat": 4,
 "nbformat_minor": 4
}