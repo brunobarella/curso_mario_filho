{
 "cells": [
  {
   "cell_type": "code",
   "execution_count": 2,
   "metadata": {},
   "outputs": [
    {
     "output_type": "stream",
     "name": "stdout",
     "text": [
      "Populating the interactive namespace from numpy and matplotlib\n"
     ]
    }
   ],
   "source": [
    "import pandas as pd\n",
    "import numpy as np\n",
    "import re\n",
    "import time\n",
    "\n",
    "import bs4 as bs4\n",
    "import json\n",
    "\n",
    "import glob\n",
    "import tqdm\n",
    "\n",
    "pd.set_option(\"max.columns\", 131)\n",
    "\n",
    "from sklearn.metrics import roc_auc_score, average_precision_score\n",
    "from sklearn.preprocessing import MaxAbsScaler, StandardScaler\n",
    "from scipy.sparse import csr_matrix\n",
    "\n",
    "from lightgbm import LGBMClassifier\n",
    "\n",
    "#https://strftime.org/\n",
    "%matplotlib inline\n",
    "%pylab inline"
   ]
  },
  {
   "cell_type": "code",
   "execution_count": 3,
   "metadata": {},
   "outputs": [
    {
     "output_type": "stream",
     "name": "stdout",
     "text": [
      "(772, 21)\n",
      "(200, 21)\n",
      "(1217, 21)\n",
      "(2189, 21)\n"
     ]
    }
   ],
   "source": [
    "df1 = pd.read_csv(\"dados/raw_data_with_labels.csv\").dropna(subset=[\"y\"])\n",
    "print(df1.shape)\n",
    "df2 = pd.read_csv(\"dados/active_labels1_done.csv\", index_col=0).dropna(subset=[\"y\"]).drop(columns=['p'])\n",
    "print(df2.shape)\n",
    "df_active_learning = pd.read_csv('dados/raw_data_with_labels_active_learning.csv').dropna(subset=[\"y\"])\n",
    "print(df_active_learning.shape)\n",
    "df = pd.concat([df1,df2, df_active_learning], axis=0)\n",
    "print(df.shape)"
   ]
  },
  {
   "cell_type": "code",
   "execution_count": 4,
   "metadata": {},
   "outputs": [
    {
     "output_type": "stream",
     "name": "stdout",
     "text": [
      "0.07172224760164458\n0.0\n"
     ]
    }
   ],
   "source": [
    "print(df.duplicated().mean())\n",
    "df.drop_duplicates(inplace=True)\n",
    "print(df.duplicated().mean())"
   ]
  },
  {
   "cell_type": "code",
   "execution_count": 5,
   "metadata": {},
   "outputs": [],
   "source": [
    "from sklearn.linear_model import LogisticRegression\n",
    "from sklearn.ensemble import RandomForestClassifier"
   ]
  },
  {
   "cell_type": "markdown",
   "metadata": {},
   "source": [
    "## 1. e 2. Limpeza da data"
   ]
  },
  {
   "cell_type": "code",
   "execution_count": 6,
   "metadata": {},
   "outputs": [],
   "source": [
    "df_limpo = pd.DataFrame(index=df.index)\n",
    "df_limpo['title'] = df['title']\n",
    "df_limpo['date'] = pd.to_datetime(df['upload_date'], format='%Y-%m-%d')\n",
    "df_limpo['views'] = df['view_count'].map(lambda x: 0 if x<0 else int(x))"
   ]
  },
  {
   "cell_type": "markdown",
   "metadata": {},
   "source": [
    "## 3. Features"
   ]
  },
  {
   "cell_type": "code",
   "execution_count": 7,
   "metadata": {},
   "outputs": [],
   "source": [
    "features = pd.DataFrame(index=df_limpo.index)\n",
    "y = df['y'].copy()"
   ]
  },
  {
   "cell_type": "code",
   "execution_count": 8,
   "metadata": {},
   "outputs": [],
   "source": [
    "features = pd.DataFrame(index=df_limpo.index)\n",
    "data_extract = datetime.datetime.strptime('2020-11-21', \"%Y-%m-%d\")\n",
    "\n",
    "features['tempo_desde_pub'] = (data_extract - df_limpo['date']) / np.timedelta64(1, 'D')\n",
    "features['views'] = df_limpo['views']\n",
    "features['views_por_dia'] = features['views'] / features['tempo_desde_pub']\n",
    "features = features.drop(['tempo_desde_pub'], axis=1)"
   ]
  },
  {
   "cell_type": "code",
   "execution_count": 9,
   "metadata": {},
   "outputs": [
    {
     "output_type": "execute_result",
     "data": {
      "text/plain": [
       "   views  views_por_dia\n",
       "0    379      94.750000\n",
       "1    124      20.666667\n",
       "2     13       1.857143\n",
       "3    655      72.777778\n",
       "4      1       0.090909"
      ],
      "text/html": "<div>\n<style scoped>\n    .dataframe tbody tr th:only-of-type {\n        vertical-align: middle;\n    }\n\n    .dataframe tbody tr th {\n        vertical-align: top;\n    }\n\n    .dataframe thead th {\n        text-align: right;\n    }\n</style>\n<table border=\"1\" class=\"dataframe\">\n  <thead>\n    <tr style=\"text-align: right;\">\n      <th></th>\n      <th>views</th>\n      <th>views_por_dia</th>\n    </tr>\n  </thead>\n  <tbody>\n    <tr>\n      <th>0</th>\n      <td>379</td>\n      <td>94.750000</td>\n    </tr>\n    <tr>\n      <th>1</th>\n      <td>124</td>\n      <td>20.666667</td>\n    </tr>\n    <tr>\n      <th>2</th>\n      <td>13</td>\n      <td>1.857143</td>\n    </tr>\n    <tr>\n      <th>3</th>\n      <td>655</td>\n      <td>72.777778</td>\n    </tr>\n    <tr>\n      <th>4</th>\n      <td>1</td>\n      <td>0.090909</td>\n    </tr>\n  </tbody>\n</table>\n</div>"
     },
     "metadata": {},
     "execution_count": 9
    }
   ],
   "source": [
    "features.head()"
   ]
  },
  {
   "cell_type": "code",
   "execution_count": 10,
   "metadata": {},
   "outputs": [
    {
     "output_type": "execute_result",
     "data": {
      "text/plain": [
       "((1560, 2), (472, 2), (1560,), (472,))"
      ]
     },
     "metadata": {},
     "execution_count": 10
    }
   ],
   "source": [
    "data_corte = \"2020-10-01\"\n",
    "mask_train = df_limpo['date'] < data_corte\n",
    "mask_val = (df_limpo['date'] >= data_corte)\n",
    "\n",
    "Xtrain, Xval = features[mask_train], features[mask_val]\n",
    "ytrain, yval = y[mask_train], y[mask_val]\n",
    "Xtrain.shape, Xval.shape, ytrain.shape, yval.shape"
   ]
  },
  {
   "cell_type": "code",
   "execution_count": 11,
   "metadata": {},
   "outputs": [],
   "source": [
    "from sklearn.feature_extraction.text import TfidfVectorizer\n",
    "\n",
    "title_train = df_limpo[mask_train]['title']\n",
    "title_val = df_limpo[mask_val]['title']\n",
    "\n",
    "title_vec = TfidfVectorizer(min_df=2, ngram_range=(1,4))\n",
    "title_bow_train = title_vec.fit_transform(title_train)\n",
    "title_bow_val = title_vec.transform(title_val)\n"
   ]
  },
  {
   "cell_type": "code",
   "execution_count": 12,
   "metadata": {},
   "outputs": [
    {
     "output_type": "execute_result",
     "data": {
      "text/plain": [
       "(1560, 5141)"
      ]
     },
     "metadata": {},
     "execution_count": 12
    }
   ],
   "source": [
    "title_bow_train.shape"
   ]
  },
  {
   "cell_type": "code",
   "execution_count": 13,
   "metadata": {},
   "outputs": [],
   "source": [
    "from scipy.sparse import hstack, vstack\n",
    "\n",
    "Xtrain_wtitle = hstack([Xtrain, title_bow_train])\n",
    "Xval_wtitle = hstack([Xval, title_bow_val])"
   ]
  },
  {
   "cell_type": "code",
   "execution_count": 14,
   "metadata": {},
   "outputs": [
    {
     "output_type": "execute_result",
     "data": {
      "text/plain": [
       "((1560, 5143), (472, 5143))"
      ]
     },
     "metadata": {},
     "execution_count": 14
    }
   ],
   "source": [
    "Xtrain_wtitle.shape, Xval_wtitle.shape"
   ]
  },
  {
   "cell_type": "markdown",
   "metadata": {},
   "source": [
    "# 4 RF"
   ]
  },
  {
   "cell_type": "code",
   "execution_count": 15,
   "metadata": {},
   "outputs": [
    {
     "output_type": "execute_result",
     "data": {
      "text/plain": [
       "RandomForestClassifier(class_weight='balanced', max_depth=926,\n",
       "                       max_features='log2', n_estimators=1193, n_jobs=6,\n",
       "                       random_state=123)"
      ]
     },
     "metadata": {},
     "execution_count": 15
    }
   ],
   "source": [
    "mdl_rf = RandomForestClassifier(class_weight='balanced', max_depth=926,\n",
    "                                        max_features='log2', min_samples_leaf=1,\n",
    "                                        min_samples_split=2, n_estimators=1193,\n",
    "                                        n_jobs=6, random_state=123)\n",
    "mdl_rf.fit(Xtrain_wtitle, ytrain)"
   ]
  },
  {
   "cell_type": "code",
   "execution_count": 16,
   "metadata": {},
   "outputs": [],
   "source": [
    "p_rf = mdl_rf.predict_proba(Xval_wtitle)[:, 1]"
   ]
  },
  {
   "cell_type": "code",
   "execution_count": 17,
   "metadata": {},
   "outputs": [
    {
     "output_type": "execute_result",
     "data": {
      "text/plain": [
       "(0.6353631240364814, 0.7620367437440607)"
      ]
     },
     "metadata": {},
     "execution_count": 17
    }
   ],
   "source": [
    "average_precision_score(yval, p_rf), roc_auc_score(yval, p_rf)"
   ]
  },
  {
   "cell_type": "markdown",
   "metadata": {},
   "source": [
    "# 5 LGBM"
   ]
  },
  {
   "cell_type": "code",
   "execution_count": 18,
   "metadata": {},
   "outputs": [
    {
     "output_type": "stream",
     "name": "stdout",
     "text": [
      "[LightGBM] [Warning] bagging_freq is set=1, subsample_freq=0 will be ignored. Current value: bagging_freq=1\n",
      "/home/bruno/.local/lib/python3.8/site-packages/lightgbm/basic.py:597: UserWarning: Converting data to scipy sparse matrix.\n",
      "  warnings.warn('Converting data to scipy sparse matrix.')\n"
     ]
    }
   ],
   "source": [
    "params = [0.05669659554050318, 1, 6, 0.9046083457312004, 0.7251165239960375, 879]\n",
    "lr = params[0]\n",
    "max_depth = params[1]\n",
    "min_child_samples = params[2]\n",
    "subsample = params[3]\n",
    "colsample_bytree = params[4]\n",
    "n_estimators = params[5]\n",
    "\n",
    "min_df = 2\n",
    "ngram_range = (1, 4)\n",
    "\n",
    "title_vec = TfidfVectorizer(min_df=min_df, ngram_range=ngram_range)\n",
    "title_bow_train = title_vec.fit_transform(title_train)\n",
    "title_bow_val = title_vec.transform(title_val)\n",
    "\n",
    "Xtrain_wtitle = hstack([Xtrain, title_bow_train])\n",
    "Xval_wtitle = hstack([Xval, title_bow_val])\n",
    "\n",
    "mdl_lgbm = LGBMClassifier(learning_rate=lr, num_leaves=2 ** max_depth, max_depth=max_depth, \n",
    "                     min_child_samples=min_child_samples, subsample=subsample,\n",
    "                     colsample_bytree=colsample_bytree, bagging_freq=1,n_estimators=n_estimators, random_state=0, \n",
    "                     class_weight=\"balanced\", n_jobs=6)\n",
    "mdl_lgbm.fit(Xtrain_wtitle, ytrain)\n",
    "\n",
    "p_lgbm = mdl_lgbm.predict_proba(Xval_wtitle)[:, 1]\n"
   ]
  },
  {
   "cell_type": "code",
   "execution_count": 19,
   "metadata": {},
   "outputs": [
    {
     "output_type": "execute_result",
     "data": {
      "text/plain": [
       "(0.664624318709879, 0.7800621634463097)"
      ]
     },
     "metadata": {},
     "execution_count": 19
    }
   ],
   "source": [
    "average_precision_score(yval, p_lgbm), roc_auc_score(yval, p_lgbm)"
   ]
  },
  {
   "cell_type": "markdown",
   "metadata": {},
   "source": [
    "# 7 Logistic Reg"
   ]
  },
  {
   "cell_type": "code",
   "execution_count": 20,
   "metadata": {},
   "outputs": [],
   "source": [
    "from sklearn.pipeline import Pipeline\n",
    "from sklearn.compose import ColumnTransformer\n",
    "from sklearn.preprocessing import FunctionTransformer\n",
    "from sklearn.impute import SimpleImputer\n",
    "\n",
    "from sklearn import set_config\n",
    "set_config(display='diagram')"
   ]
  },
  {
   "cell_type": "code",
   "execution_count": 21,
   "metadata": {},
   "outputs": [],
   "source": [
    "from sklearn.base import TransformerMixin\n",
    "class DenseTransformer(TransformerMixin):\n",
    "\n",
    "    def fit(self, X, y=None, **fit_params):\n",
    "        return self\n",
    "\n",
    "    def transform(self, X, y=None, **fit_params):\n",
    "        return X.todense()"
   ]
  },
  {
   "cell_type": "code",
   "execution_count": 32,
   "metadata": {},
   "outputs": [
    {
     "output_type": "execute_result",
     "data": {
      "text/plain": [
       "Pipeline(steps=[('preprocessor',\n",
       "                 ColumnTransformer(transformers=[('to_dense',\n",
       "                                                  FunctionTransformer(accept_sparse=True,\n",
       "                                                                      func=<function <lambda> at 0x7fd3a3938dc0>),\n",
       "                                                  [0, 1]),\n",
       "                                                 ('rest',\n",
       "                                                  SimpleImputer(strategy='most_frequent'),\n",
       "                                                  array([   2,    3,    4, ..., 5140, 5141, 5142]))])),\n",
       "                ('preprocessor2',\n",
       "                 ColumnTransformer(transformers=[('num',\n",
       "                                                  StandardScaler(with_mean=False),\n",
       "                                                  [0, 1]),\n",
       "                                                 ('rest',\n",
       "                                                  SimpleImputer(strategy='most_frequent'),\n",
       "                                                  array([   2,    3,    4, ..., 5140, 5141, 5142]))])),\n",
       "                ('classifier',\n",
       "                 LogisticRegression(C=10, n_jobs=6, random_state=0))])"
      ],
      "text/html": "<style>div.sk-top-container {color: black;background-color: white;}div.sk-toggleable {background-color: white;}label.sk-toggleable__label {cursor: pointer;display: block;width: 100%;margin-bottom: 0;padding: 0.2em 0.3em;box-sizing: border-box;text-align: center;}div.sk-toggleable__content {max-height: 0;max-width: 0;overflow: hidden;text-align: left;background-color: #f0f8ff;}div.sk-toggleable__content pre {margin: 0.2em;color: black;border-radius: 0.25em;background-color: #f0f8ff;}input.sk-toggleable__control:checked~div.sk-toggleable__content {max-height: 200px;max-width: 100%;overflow: auto;}div.sk-estimator input.sk-toggleable__control:checked~label.sk-toggleable__label {background-color: #d4ebff;}div.sk-label input.sk-toggleable__control:checked~label.sk-toggleable__label {background-color: #d4ebff;}input.sk-hidden--visually {border: 0;clip: rect(1px 1px 1px 1px);clip: rect(1px, 1px, 1px, 1px);height: 1px;margin: -1px;overflow: hidden;padding: 0;position: absolute;width: 1px;}div.sk-estimator {font-family: monospace;background-color: #f0f8ff;margin: 0.25em 0.25em;border: 1px dotted black;border-radius: 0.25em;box-sizing: border-box;}div.sk-estimator:hover {background-color: #d4ebff;}div.sk-parallel-item::after {content: \"\";width: 100%;border-bottom: 1px solid gray;flex-grow: 1;}div.sk-label:hover label.sk-toggleable__label {background-color: #d4ebff;}div.sk-serial::before {content: \"\";position: absolute;border-left: 1px solid gray;box-sizing: border-box;top: 2em;bottom: 0;left: 50%;}div.sk-serial {display: flex;flex-direction: column;align-items: center;background-color: white;}div.sk-item {z-index: 1;}div.sk-parallel {display: flex;align-items: stretch;justify-content: center;background-color: white;}div.sk-parallel-item {display: flex;flex-direction: column;position: relative;background-color: white;}div.sk-parallel-item:first-child::after {align-self: flex-end;width: 50%;}div.sk-parallel-item:last-child::after {align-self: flex-start;width: 50%;}div.sk-parallel-item:only-child::after {width: 0;}div.sk-dashed-wrapped {border: 1px dashed gray;margin: 0.2em;box-sizing: border-box;padding-bottom: 0.1em;background-color: white;position: relative;}div.sk-label label {font-family: monospace;font-weight: bold;background-color: white;display: inline-block;line-height: 1.2em;}div.sk-label-container {position: relative;z-index: 2;text-align: center;}div.sk-container {display: inline-block;position: relative;}</style><div class=\"sk-top-container\"><div class=\"sk-container\"><div class=\"sk-item sk-dashed-wrapped\"><div class=\"sk-label-container\"><div class=\"sk-label sk-toggleable\"><input class=\"sk-toggleable__control sk-hidden--visually\" id=\"d8f35565-d1ab-4da0-a541-82e39e28bc44\" type=\"checkbox\" ><label class=\"sk-toggleable__label\" for=\"d8f35565-d1ab-4da0-a541-82e39e28bc44\">Pipeline</label><div class=\"sk-toggleable__content\"><pre>Pipeline(steps=[('preprocessor',\n                 ColumnTransformer(transformers=[('to_dense',\n                                                  FunctionTransformer(accept_sparse=True,\n                                                                      func=<function <lambda> at 0x7fd3a3938dc0>),\n                                                  [0, 1]),\n                                                 ('rest',\n                                                  SimpleImputer(strategy='most_frequent'),\n                                                  array([   2,    3,    4, ..., 5140, 5141, 5142]))])),\n                ('preprocessor2',\n                 ColumnTransformer(transformers=[('num',\n                                                  StandardScaler(with_mean=False),\n                                                  [0, 1]),\n                                                 ('rest',\n                                                  SimpleImputer(strategy='most_frequent'),\n                                                  array([   2,    3,    4, ..., 5140, 5141, 5142]))])),\n                ('classifier',\n                 LogisticRegression(C=10, n_jobs=6, random_state=0))])</pre></div></div></div><div class=\"sk-serial\"><div class=\"sk-item sk-dashed-wrapped\"><div class=\"sk-label-container\"><div class=\"sk-label sk-toggleable\"><input class=\"sk-toggleable__control sk-hidden--visually\" id=\"2bfb345d-1c78-4782-8791-7a1fc186f08b\" type=\"checkbox\" ><label class=\"sk-toggleable__label\" for=\"2bfb345d-1c78-4782-8791-7a1fc186f08b\">preprocessor: ColumnTransformer</label><div class=\"sk-toggleable__content\"><pre>ColumnTransformer(transformers=[('to_dense',\n                                 FunctionTransformer(accept_sparse=True,\n                                                     func=<function <lambda> at 0x7fd3a3938dc0>),\n                                 [0, 1]),\n                                ('rest',\n                                 SimpleImputer(strategy='most_frequent'),\n                                 array([   2,    3,    4, ..., 5140, 5141, 5142]))])</pre></div></div></div><div class=\"sk-parallel\"><div class=\"sk-parallel-item\"><div class=\"sk-item\"><div class=\"sk-label-container\"><div class=\"sk-label sk-toggleable\"><input class=\"sk-toggleable__control sk-hidden--visually\" id=\"fb4a0aab-70a0-44b3-820f-c497329dd1f6\" type=\"checkbox\" ><label class=\"sk-toggleable__label\" for=\"fb4a0aab-70a0-44b3-820f-c497329dd1f6\">to_dense</label><div class=\"sk-toggleable__content\"><pre>[0, 1]</pre></div></div></div><div class=\"sk-serial\"><div class=\"sk-item\"><div class=\"sk-estimator sk-toggleable\"><input class=\"sk-toggleable__control sk-hidden--visually\" id=\"670811e5-0ac8-449a-8064-a447127575bb\" type=\"checkbox\" ><label class=\"sk-toggleable__label\" for=\"670811e5-0ac8-449a-8064-a447127575bb\">FunctionTransformer</label><div class=\"sk-toggleable__content\"><pre>FunctionTransformer(accept_sparse=True,\n                    func=<function <lambda> at 0x7fd3a3938dc0>)</pre></div></div></div></div></div></div><div class=\"sk-parallel-item\"><div class=\"sk-item\"><div class=\"sk-label-container\"><div class=\"sk-label sk-toggleable\"><input class=\"sk-toggleable__control sk-hidden--visually\" id=\"c55ac99a-f064-4761-b0be-9630931e4a32\" type=\"checkbox\" ><label class=\"sk-toggleable__label\" for=\"c55ac99a-f064-4761-b0be-9630931e4a32\">rest</label><div class=\"sk-toggleable__content\"><pre>[   2    3    4 ... 5140 5141 5142]</pre></div></div></div><div class=\"sk-serial\"><div class=\"sk-item\"><div class=\"sk-estimator sk-toggleable\"><input class=\"sk-toggleable__control sk-hidden--visually\" id=\"82160b2a-548c-4623-890a-55db9afe4ab5\" type=\"checkbox\" ><label class=\"sk-toggleable__label\" for=\"82160b2a-548c-4623-890a-55db9afe4ab5\">SimpleImputer</label><div class=\"sk-toggleable__content\"><pre>SimpleImputer(strategy='most_frequent')</pre></div></div></div></div></div></div></div></div><div class=\"sk-item sk-dashed-wrapped\"><div class=\"sk-label-container\"><div class=\"sk-label sk-toggleable\"><input class=\"sk-toggleable__control sk-hidden--visually\" id=\"832ae0ca-a8ac-4178-b2ae-1bde078f4a88\" type=\"checkbox\" ><label class=\"sk-toggleable__label\" for=\"832ae0ca-a8ac-4178-b2ae-1bde078f4a88\">preprocessor2: ColumnTransformer</label><div class=\"sk-toggleable__content\"><pre>ColumnTransformer(transformers=[('num', StandardScaler(with_mean=False),\n                                 [0, 1]),\n                                ('rest',\n                                 SimpleImputer(strategy='most_frequent'),\n                                 array([   2,    3,    4, ..., 5140, 5141, 5142]))])</pre></div></div></div><div class=\"sk-parallel\"><div class=\"sk-parallel-item\"><div class=\"sk-item\"><div class=\"sk-label-container\"><div class=\"sk-label sk-toggleable\"><input class=\"sk-toggleable__control sk-hidden--visually\" id=\"c0ff59ad-a984-4cc9-86ea-d9a9da5725f6\" type=\"checkbox\" ><label class=\"sk-toggleable__label\" for=\"c0ff59ad-a984-4cc9-86ea-d9a9da5725f6\">num</label><div class=\"sk-toggleable__content\"><pre>[0, 1]</pre></div></div></div><div class=\"sk-serial\"><div class=\"sk-item\"><div class=\"sk-estimator sk-toggleable\"><input class=\"sk-toggleable__control sk-hidden--visually\" id=\"c7c75afb-8907-46ac-aa84-181eaaf445de\" type=\"checkbox\" ><label class=\"sk-toggleable__label\" for=\"c7c75afb-8907-46ac-aa84-181eaaf445de\">StandardScaler</label><div class=\"sk-toggleable__content\"><pre>StandardScaler(with_mean=False)</pre></div></div></div></div></div></div><div class=\"sk-parallel-item\"><div class=\"sk-item\"><div class=\"sk-label-container\"><div class=\"sk-label sk-toggleable\"><input class=\"sk-toggleable__control sk-hidden--visually\" id=\"e6ad407f-82d2-4091-8100-2bbd1839a975\" type=\"checkbox\" ><label class=\"sk-toggleable__label\" for=\"e6ad407f-82d2-4091-8100-2bbd1839a975\">rest</label><div class=\"sk-toggleable__content\"><pre>[   2    3    4 ... 5140 5141 5142]</pre></div></div></div><div class=\"sk-serial\"><div class=\"sk-item\"><div class=\"sk-estimator sk-toggleable\"><input class=\"sk-toggleable__control sk-hidden--visually\" id=\"05e25a02-a6ed-41ac-938d-a641dfa36bb0\" type=\"checkbox\" ><label class=\"sk-toggleable__label\" for=\"05e25a02-a6ed-41ac-938d-a641dfa36bb0\">SimpleImputer</label><div class=\"sk-toggleable__content\"><pre>SimpleImputer(strategy='most_frequent')</pre></div></div></div></div></div></div></div></div><div class=\"sk-item\"><div class=\"sk-estimator sk-toggleable\"><input class=\"sk-toggleable__control sk-hidden--visually\" id=\"06da417e-fcf5-486a-9f22-3998a2f49be8\" type=\"checkbox\" ><label class=\"sk-toggleable__label\" for=\"06da417e-fcf5-486a-9f22-3998a2f49be8\">LogisticRegression</label><div class=\"sk-toggleable__content\"><pre>LogisticRegression(C=10, n_jobs=6, random_state=0)</pre></div></div></div></div></div></div></div>"
     },
     "metadata": {},
     "execution_count": 32
    }
   ],
   "source": [
    "# Xtrain_wtitle2 = csr_matrix(Xtrain_wtitle.copy())\n",
    "# Xval_wtitle2 = csr_matrix(Xval_wtitle.copy())\n",
    "\n",
    "# scaler = StandardScaler()\n",
    "#scaler = MaxAbsScaler()\n",
    "\n",
    "# Xtrain_wtitle2[:, :2] = scaler.fit_transform(Xtrain_wtitle2[:, :2].todense())\n",
    "# Xval_wtitle2[:, :2] = scaler.transform(Xval_wtitle2[:, :2].todense())\n",
    "#Xtrain_wtitle2 = scaler.fit_transform(Xtrain_wtitle2)\n",
    "#Xval_wtitle2 = scaler.transform(Xval_wtitle2)\n",
    "\n",
    "preprocessor_dense = ColumnTransformer(\n",
    "    transformers=[\n",
    "        ('to_dense', FunctionTransformer(lambda x: x.todense(), accept_sparse=True), [0,1]),\n",
    "        ('rest', SimpleImputer(strategy='most_frequent'), np.linspace(2,Xtrain_wtitle.shape[1]-1, Xtrain_wtitle.shape[1]-2, dtype=int))\n",
    "        ])\n",
    "preprocessor = ColumnTransformer(\n",
    "    transformers=[\n",
    "        ('num', StandardScaler(with_mean=False), [0,1]),\n",
    "        ('rest', SimpleImputer(strategy='most_frequent'), np.linspace(2,Xtrain_wtitle.shape[1]-1, Xtrain_wtitle.shape[1]-2, dtype=int))\n",
    "        ])\n",
    "\n",
    "lr_pipeline = Pipeline(steps=[('preprocessor', preprocessor_dense),\n",
    "                              ('preprocessor2', preprocessor),\n",
    "                              ('classifier', LogisticRegression(C=10, n_jobs=6, random_state=0))])\n",
    "\n",
    "lr_pipeline.fit(csr_matrix(Xtrain_wtitle), ytrain)"
   ]
  },
  {
   "cell_type": "code",
   "execution_count": 33,
   "metadata": {},
   "outputs": [],
   "source": [
    "p_lr = lr_pipeline.predict_proba(csr_matrix(Xval_wtitle))[:, 1]"
   ]
  },
  {
   "cell_type": "code",
   "execution_count": 34,
   "metadata": {},
   "outputs": [
    {
     "output_type": "execute_result",
     "data": {
      "text/plain": [
       "(0.686366624650308, 0.7998099461514095)"
      ]
     },
     "metadata": {},
     "execution_count": 34
    }
   ],
   "source": [
    "average_precision_score(yval, p_lr), roc_auc_score(yval, p_lr)"
   ]
  },
  {
   "cell_type": "markdown",
   "metadata": {},
   "source": [
    "# 8 Ensemble"
   ]
  },
  {
   "cell_type": "markdown",
   "metadata": {},
   "source": [
    "(0.6353631240364814, 0.7620367437440607) RF  \n",
    "(0.664624318709879,  0.7800621634463097) LGBM  \n",
    "(0.686366624650308,  0.7998099461514095) LR  "
   ]
  },
  {
   "cell_type": "code",
   "execution_count": 25,
   "metadata": {},
   "outputs": [
    {
     "output_type": "execute_result",
     "data": {
      "text/plain": [
       "(0.6710924617955591, 0.7940093443142223)"
      ]
     },
     "metadata": {},
     "execution_count": 25
    }
   ],
   "source": [
    "p = (p_lr + p_rf + p_lgbm)/3\n",
    "average_precision_score(yval, p), roc_auc_score(yval, p)"
   ]
  },
  {
   "cell_type": "code",
   "execution_count": 26,
   "metadata": {},
   "outputs": [
    {
     "output_type": "execute_result",
     "data": {
      "text/plain": [
       "            LR        RF      LGBM\n",
       "LR    1.000000  0.903238  0.896303\n",
       "RF    0.903238  1.000000  0.891817\n",
       "LGBM  0.896303  0.891817  1.000000"
      ],
      "text/html": "<div>\n<style scoped>\n    .dataframe tbody tr th:only-of-type {\n        vertical-align: middle;\n    }\n\n    .dataframe tbody tr th {\n        vertical-align: top;\n    }\n\n    .dataframe thead th {\n        text-align: right;\n    }\n</style>\n<table border=\"1\" class=\"dataframe\">\n  <thead>\n    <tr style=\"text-align: right;\">\n      <th></th>\n      <th>LR</th>\n      <th>RF</th>\n      <th>LGBM</th>\n    </tr>\n  </thead>\n  <tbody>\n    <tr>\n      <th>LR</th>\n      <td>1.000000</td>\n      <td>0.903238</td>\n      <td>0.896303</td>\n    </tr>\n    <tr>\n      <th>RF</th>\n      <td>0.903238</td>\n      <td>1.000000</td>\n      <td>0.891817</td>\n    </tr>\n    <tr>\n      <th>LGBM</th>\n      <td>0.896303</td>\n      <td>0.891817</td>\n      <td>1.000000</td>\n    </tr>\n  </tbody>\n</table>\n</div>"
     },
     "metadata": {},
     "execution_count": 26
    }
   ],
   "source": [
    "pd.DataFrame({\"LR\": p_lr, \"RF\": p_rf, \"LGBM\": p_lgbm}).corr()"
   ]
  },
  {
   "cell_type": "code",
   "execution_count": 38,
   "metadata": {},
   "outputs": [
    {
     "output_type": "execute_result",
     "data": {
      "text/plain": [
       "(0.6857993789397483, 0.8018094710167881)"
      ]
     },
     "metadata": {},
     "execution_count": 38
    }
   ],
   "source": [
    "p = 0.0*p_rf + 0.7*p_lr+0.3*p_lgbm\n",
    "average_precision_score(yval, p), roc_auc_score(yval, p)"
   ]
  },
  {
   "cell_type": "markdown",
   "metadata": {},
   "source": [
    "(0.23117553771909904, 0.6964675355310491) - 0.5/0.5  \n",
    "(0.23866391160240463, 0.6962906174441233) - 0.4/0.6  \n",
    "(0.2449271153955049, 0.6967329126614378) - 0.3/0.7  \n",
    "(0.24568903874837777, 0.6967329126614378) - 0.2/0.8  \n",
    "\n",
    "(0.24567146005469367, 0.6897151618800496) - 0.3/0.7 - lgbm ngram 1,3\n",
    "(0.24809974466463763, 0.690865129445067) - 0.4/0.6 "
   ]
  },
  {
   "cell_type": "code",
   "execution_count": null,
   "metadata": {},
   "outputs": [],
   "source": [
    "# reduzir complexidade do vectorizer"
   ]
  },
  {
   "cell_type": "markdown",
   "metadata": {},
   "source": [
    "# 9 Salvar modelos"
   ]
  },
  {
   "cell_type": "code",
   "execution_count": 42,
   "metadata": {},
   "outputs": [],
   "source": [
    "import joblib as jb\n",
    "import dill"
   ]
  },
  {
   "cell_type": "code",
   "execution_count": 56,
   "metadata": {},
   "outputs": [
    {
     "output_type": "execute_result",
     "data": {
      "text/plain": [
       "['title_vectorizer_20200208.pkl.z']"
      ]
     },
     "metadata": {},
     "execution_count": 56
    }
   ],
   "source": [
    "jb.dump(mdl_lgbm, \"modelos/lgbm_20200208.pkl.z\")\n",
    "jb.dump(mdl_rf, \"modelos/random_forest_20200208.pkl.z\")\n",
    "# jb.dump(lr_pipeline, \"logistic_reg_20200208.pkl.z\")\n",
    "with open('modelos/logistic_reg_20200208.pkl.z', 'wb') as file:\n",
    "    dill.dump(lr_pipeline, file)\n",
    "jb.dump(title_vec, \"modelos/title_vectorizer_20200208.pkl.z\")"
   ]
  },
  {
   "source": [
    "Para ledo do dill\n"
   ],
   "cell_type": "markdown",
   "metadata": {}
  },
  {
   "cell_type": "code",
   "execution_count": 58,
   "metadata": {},
   "outputs": [],
   "source": [
    "\n",
    "with open('logistic_reg_20200208.pkl.z', 'rb') as file:\n",
    "    B = dill.load(file)"
   ]
  },
  {
   "cell_type": "code",
   "execution_count": 59,
   "metadata": {},
   "outputs": [
    {
     "output_type": "execute_result",
     "data": {
      "text/plain": [
       "array([5.96883043e-01, 1.08192292e-02, 6.02835793e-04, 5.49007304e-01,\n",
       "       7.45698556e-01, 1.40884878e-02, 4.80221532e-02, 5.42009012e-01,\n",
       "       2.96478971e-02, 5.72679088e-02, 1.46224944e-01, 1.79306404e-01,\n",
       "       1.33632700e-01, 4.08135535e-01, 7.81327923e-02, 4.07242989e-01,\n",
       "       1.71316796e-02, 9.25540929e-01, 1.07878515e-01, 1.35807860e-01,\n",
       "       2.68446090e-02, 2.90589270e-02, 9.17312671e-02, 6.06504979e-01,\n",
       "       5.84671266e-02, 4.71346620e-02, 5.96883043e-01, 5.21369359e-03,\n",
       "       6.92011029e-03, 5.68193844e-03, 1.88721086e-01, 1.68708994e-02,\n",
       "       3.47757072e-01, 2.85456202e-01, 2.67362611e-01, 3.30041317e-01,\n",
       "       1.79728314e-01, 5.15253672e-01, 5.96079152e-01, 7.82803569e-01,\n",
       "       3.35254690e-02, 1.69067985e-01, 4.61902562e-02, 9.30660993e-02,\n",
       "       2.63286180e-01, 4.15470977e-01, 6.43751204e-01, 3.93959900e-01,\n",
       "       2.23635881e-01, 7.38869137e-02, 3.80702295e-01, 3.97441478e-02,\n",
       "       1.76530062e-01, 1.76017290e-01, 5.48989295e-02, 5.28894779e-01,\n",
       "       4.30341455e-01, 1.21667913e-01, 8.70759148e-02, 9.93784585e-02,\n",
       "       6.32516225e-01, 3.69043815e-02, 4.39520702e-03, 1.64231059e-01,\n",
       "       9.60175403e-02, 2.86937929e-01, 5.41161362e-01, 9.43358651e-02,\n",
       "       1.73900227e-01, 9.54145422e-03, 9.84815460e-03, 9.76938094e-03,\n",
       "       6.31992922e-03, 1.41601170e-01, 3.41466959e-02, 4.44543135e-03,\n",
       "       2.83071941e-03, 9.30364376e-03, 5.05972833e-01, 8.94860437e-01,\n",
       "       3.63454853e-01, 3.90659390e-01, 5.54842521e-01, 5.08439817e-01,\n",
       "       4.26790332e-02, 1.61962339e-01, 1.90606939e-01, 4.99599853e-02,\n",
       "       1.69860930e-01, 8.88926802e-03, 1.08192292e-02, 2.03308831e-01,\n",
       "       2.04388639e-02, 2.65571949e-02, 9.34529156e-02, 1.19004438e-02,\n",
       "       4.09744522e-02, 6.02835793e-04, 6.32619254e-04, 8.66283049e-02,\n",
       "       4.79160092e-03, 7.49235879e-01, 1.58186574e-02, 6.12123606e-04,\n",
       "       3.06369198e-01, 5.93643044e-02, 1.41391540e-02, 1.27050405e-01,\n",
       "       4.21286653e-01, 4.13190121e-02, 1.10260497e-01, 3.46472594e-01,\n",
       "       8.92194114e-01, 1.02334836e-01, 3.91946546e-01, 3.22200237e-01,\n",
       "       4.43425129e-01, 4.11485223e-01, 8.35604411e-01, 8.03269184e-01,\n",
       "       6.95905601e-01, 9.92118026e-01, 8.82361753e-01, 7.75317930e-02,\n",
       "       3.26043863e-01, 4.26555287e-01, 1.62822649e-01, 5.93681698e-01,\n",
       "       8.17515947e-01, 2.61639216e-01, 1.15058748e-01, 1.86120806e-01,\n",
       "       1.69067985e-01, 8.83018326e-01, 5.41180486e-01, 5.74260325e-01,\n",
       "       4.15470977e-01, 3.19977061e-01, 3.93959900e-01, 9.83231577e-01,\n",
       "       4.23982490e-01, 1.48030126e-01, 7.60204511e-01, 7.59667639e-01,\n",
       "       9.78512539e-01, 3.20361391e-01, 3.94188421e-01, 9.91257837e-01,\n",
       "       5.71183661e-01, 9.73136544e-01, 3.23900172e-01, 2.58688013e-01,\n",
       "       3.19017305e-01, 3.41336784e-01, 6.74671365e-01, 8.41635846e-01,\n",
       "       8.08470803e-01, 2.76143777e-01, 3.90659390e-01, 9.52962382e-01,\n",
       "       5.05636800e-01, 2.49167048e-01, 1.90606939e-01, 1.69860930e-01,\n",
       "       1.65672055e-01, 1.16024550e-01, 6.07097962e-01, 4.67941743e-01,\n",
       "       6.38141116e-01, 8.40959964e-01, 1.08192292e-02, 1.43179492e-01,\n",
       "       2.03308831e-01, 5.15926603e-01, 2.86527107e-01, 6.74498582e-01,\n",
       "       1.29119173e-01, 5.93852803e-01, 5.75125725e-01, 6.99955102e-02,\n",
       "       2.26348564e-01, 9.11125983e-01, 3.57501566e-01, 9.60683441e-01,\n",
       "       3.08146848e-01, 5.48683654e-01, 9.77274291e-01, 3.66944200e-01,\n",
       "       9.91816981e-01, 8.67328722e-01, 9.47712272e-01, 9.85355820e-01,\n",
       "       9.76483358e-01, 1.62343082e-01, 8.31226018e-01, 4.10812618e-01,\n",
       "       6.63864196e-01, 9.14277410e-01, 9.84397998e-01, 2.25805820e-01,\n",
       "       7.88938014e-01, 2.84118889e-01, 5.26373480e-01, 2.75771789e-01,\n",
       "       2.90249785e-01, 5.57310044e-01, 1.47169427e-01, 9.70464311e-01,\n",
       "       2.96175344e-01, 5.56324354e-01, 7.69520440e-01, 2.55340978e-01,\n",
       "       3.53782928e-01, 1.69568535e-01, 3.17568890e-01, 3.17309799e-01,\n",
       "       4.05935642e-01, 2.23222589e-01, 9.77883827e-01, 5.28884325e-02,\n",
       "       3.09240990e-01, 1.56448840e-01, 3.12113120e-01, 2.10820057e-01,\n",
       "       9.31240325e-01, 8.31959991e-01, 4.64985411e-01, 3.17009886e-01,\n",
       "       6.77053762e-02, 9.54552296e-01, 9.02272988e-01, 7.58674231e-02,\n",
       "       9.82094703e-01, 9.76882518e-01, 3.13185436e-02, 6.16854904e-01,\n",
       "       6.14960553e-01, 5.67416694e-01, 4.54148758e-01, 6.75262158e-01,\n",
       "       7.26563063e-01, 9.88199478e-01, 2.13143944e-01, 8.00037281e-01,\n",
       "       7.15479294e-01, 1.59030393e-01, 3.13300040e-01, 8.43072037e-01,\n",
       "       3.80051525e-02, 8.99384016e-01, 8.19970188e-02, 3.08319207e-01,\n",
       "       6.10062066e-01, 5.31291177e-01, 7.32822848e-01, 6.89662694e-01,\n",
       "       4.51484609e-01, 6.52949706e-01, 2.43316022e-03, 1.58659121e-02,\n",
       "       1.00524750e-02, 3.15035778e-01, 3.01701269e-01, 1.63436756e-02,\n",
       "       8.01848018e-02, 1.85740225e-02, 1.83703888e-02, 2.36819514e-02,\n",
       "       4.26638449e-02, 4.82475930e-02, 7.23959702e-03, 1.08571059e-01,\n",
       "       1.43773332e-02, 4.46249296e-03, 2.78841574e-02, 7.49860343e-02,\n",
       "       1.13826217e-02, 3.54279233e-03, 8.76651295e-03, 2.04669827e-02,\n",
       "       1.19335546e-02, 2.42590058e-03, 1.76853135e-01, 3.07326450e-01,\n",
       "       4.24535021e-01, 6.51757292e-02, 2.24037646e-02, 2.42185941e-02,\n",
       "       2.83036296e-02, 1.32990930e-02, 1.22833752e-01, 7.64564384e-02,\n",
       "       7.15440600e-02, 3.49342629e-03, 3.32140479e-02, 3.48115411e-03,\n",
       "       8.24185936e-02, 1.18871332e-02, 1.93369037e-02, 9.49884569e-03,\n",
       "       3.73950131e-02, 1.55784439e-02, 2.84880748e-03, 4.12260806e-01,\n",
       "       5.37101505e-01, 5.09320526e-01, 6.02979628e-02, 1.61329530e-02,\n",
       "       7.00911040e-03, 5.21344863e-02, 9.37488485e-02, 2.50294245e-02,\n",
       "       1.05296080e-02, 8.97237366e-02, 3.76252120e-03, 8.72415013e-02,\n",
       "       3.45612081e-01, 4.69445148e-02, 6.32706663e-03, 2.13726270e-02,\n",
       "       8.62983536e-02, 1.16651273e-02, 9.02052063e-03, 6.89315104e-03,\n",
       "       1.05566517e-02, 9.04517382e-03, 9.11408573e-03, 7.03949919e-03,\n",
       "       9.46135652e-01, 5.54567225e-02, 7.95583342e-01, 1.45675083e-01,\n",
       "       1.44907634e-01, 5.52634629e-01, 1.19074623e-01, 2.05774894e-01,\n",
       "       3.64879139e-01, 9.07523943e-01, 7.09811557e-01, 3.22939811e-01,\n",
       "       1.36200594e-01, 8.53345811e-01, 7.52549441e-01, 5.41810822e-01,\n",
       "       9.87339232e-01, 9.46808828e-01, 8.43236415e-01, 9.25615198e-01,\n",
       "       5.62949076e-01, 9.69911570e-01, 9.41947588e-01, 8.39564811e-01,\n",
       "       9.26199679e-01, 4.23092885e-01, 8.97498942e-01, 4.19975923e-01,\n",
       "       8.49911736e-01, 9.28064003e-01, 4.27572600e-01, 8.89520867e-01,\n",
       "       3.35792641e-01, 8.38402779e-01, 9.38693724e-01, 6.66686322e-01,\n",
       "       8.29274975e-01, 7.40482164e-01, 9.88034224e-01, 9.94217336e-01,\n",
       "       9.80308221e-01, 9.70962909e-01, 6.71905649e-01, 7.83785734e-01,\n",
       "       1.50205961e-01, 9.86926981e-01, 1.54378280e-01, 4.21413694e-01,\n",
       "       1.29239375e-01, 1.16133254e-01, 2.50131282e-02, 2.46607341e-01,\n",
       "       5.72496955e-01, 5.45351652e-02, 8.67042309e-01, 1.53541863e-01,\n",
       "       1.19941359e-01, 9.01788146e-01, 9.07814274e-01, 4.03420563e-02,\n",
       "       6.72156756e-01, 2.04525270e-01, 4.37939767e-01, 5.66325869e-01,\n",
       "       2.60424998e-01, 6.61206999e-01, 2.38528132e-01, 3.90526978e-01,\n",
       "       5.42009012e-01, 7.49339343e-01, 7.84892076e-02, 5.99379459e-02,\n",
       "       5.28884325e-02, 2.63766376e-01, 7.17962621e-02, 7.18768691e-02,\n",
       "       5.49007304e-01, 1.33582191e-01, 1.41256519e-02, 1.41245399e-02,\n",
       "       1.13466654e-02, 1.40742423e-02, 6.44712729e-01, 1.86698928e-02,\n",
       "       1.41143985e-02, 1.11917292e-01, 1.97617524e-01, 1.26830499e-01,\n",
       "       1.40884878e-02, 1.07151687e-01, 7.09902732e-01, 2.58723324e-02,\n",
       "       2.10820057e-01, 1.74104130e-01, 2.05249186e-01, 7.88680500e-03,\n",
       "       2.16229627e-02, 3.62254032e-03, 2.32307894e-02, 8.50933060e-03,\n",
       "       5.88073453e-02, 4.79561896e-02, 1.16958568e-01, 2.04525270e-01,\n",
       "       5.74524427e-02, 1.29955517e-02, 1.17391487e-01, 2.76590511e-01,\n",
       "       3.98989443e-02, 4.08625034e-03, 4.89210949e-03, 3.18125786e-02,\n",
       "       2.21321493e-01, 1.68838648e-01, 8.02803291e-02, 2.96558187e-02,\n",
       "       1.25129220e-01, 1.09169695e-02, 5.66325869e-01, 1.58985239e-02,\n",
       "       7.19229099e-02, 7.93651020e-02, 4.58785790e-02, 1.61713953e-02,\n",
       "       1.59676884e-01, 1.42732505e-02, 1.06271607e-01, 7.72205743e-03,\n",
       "       6.61206999e-01, 1.46671399e-01, 4.80221532e-02, 5.63956347e-02,\n",
       "       5.72494096e-02, 3.54535292e-01, 8.63336324e-03, 1.40829015e-02,\n",
       "       5.98191453e-04, 2.65828096e-02, 1.28806764e-01, 7.42887935e-02,\n",
       "       9.98245202e-02, 7.49339343e-01, 4.19913385e-02, 2.27212837e-01])"
      ]
     },
     "metadata": {},
     "execution_count": 59
    }
   ],
   "source": [
    "B.predict_proba(Xval_wtitle2)[:, 1]"
   ]
  },
  {
   "cell_type": "code",
   "execution_count": null,
   "metadata": {},
   "outputs": [],
   "source": []
  }
 ],
 "metadata": {
  "kernelspec": {
   "name": "python3",
   "display_name": "Python 3.8.5 64-bit"
  },
  "language_info": {
   "codemirror_mode": {
    "name": "ipython",
    "version": 3
   },
   "file_extension": ".py",
   "mimetype": "text/x-python",
   "name": "python",
   "nbconvert_exporter": "python",
   "pygments_lexer": "ipython3",
   "version": "3.8.5"
  },
  "interpreter": {
   "hash": "31f2aee4e71d21fbe5cf8b01ff0e069b9275f58929596ceb00d14d90e3e16cd6"
  }
 },
 "nbformat": 4,
 "nbformat_minor": 4
}