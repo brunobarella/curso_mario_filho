{
 "cells": [
  {
   "cell_type": "code",
   "execution_count": 1,
   "metadata": {},
   "outputs": [
    {
     "output_type": "stream",
     "name": "stdout",
     "text": [
      "Populating the interactive namespace from numpy and matplotlib\n"
     ]
    }
   ],
   "source": [
    "import pandas as pd\n",
    "import numpy as np\n",
    "import re\n",
    "import time\n",
    "\n",
    "import bs4 as bs4\n",
    "import json\n",
    "\n",
    "import glob\n",
    "import tqdm\n",
    "\n",
    "pd.set_option(\"max.columns\", 131)\n",
    "\n",
    "#https://strftime.org/\n",
    "%matplotlib inline\n",
    "%pylab inline"
   ]
  },
  {
   "cell_type": "code",
   "execution_count": 2,
   "metadata": {},
   "outputs": [
    {
     "output_type": "execute_result",
     "data": {
      "text/plain": [
       "(772, 20)"
      ]
     },
     "metadata": {},
     "execution_count": 2
    }
   ],
   "source": [
    "df = pd.read_csv(\"dados/raw_data_with_labels.csv\", index_col=0)\n",
    "df = df[df['y'].notnull()]\n",
    "df.shape"
   ]
  },
  {
   "cell_type": "code",
   "execution_count": 3,
   "metadata": {},
   "outputs": [],
   "source": [
    "from sklearn.linear_model import LogisticRegression\n",
    "from sklearn.ensemble import RandomForestClassifier"
   ]
  },
  {
   "cell_type": "code",
   "execution_count": 7,
   "metadata": {},
   "outputs": [
    {
     "output_type": "execute_result",
     "data": {
      "text/plain": [
       "link\n",
       "watch?v=eUslDxZfjGc    Hands-on Training in Artificial Intelligence w...\n",
       "watch?v=0f60PduPRYE    How to LEARN DATA SCIENCE & Machine Learning f...\n",
       "watch?v=nFzgPVwr5vo                       Data Science Indonesia Profile\n",
       "watch?v=tgS3NXMfmI0    Hands-On Training in Artificial Intelligence w...\n",
       "watch?v=mO47WN4PT_Y     Hands-On Training in AI with DataScience | Day-5\n",
       "                                             ...                        \n",
       "watch?v=wC4YV8t40zU    Talks # 5: Parul Pandey: Data Science, Diversi...\n",
       "watch?v=62HBi0B3se0    Ep.04 \"My Journey Into Data Science\" with Abhi...\n",
       "watch?v=R8gLOuGYW8w          Predict Future Sales | Kaggle | Code review\n",
       "watch?v=VeM1T7UaYTk    Maximilian Jeblick | Physics, Math and Data Sc...\n",
       "watch?v=PSvEh8ukf-c    Uploading dataset from Kaggle directly to Goog...\n",
       "Name: title, Length: 772, dtype: object"
      ]
     },
     "metadata": {},
     "execution_count": 7
    }
   ],
   "source": [
    "df_limpo = pd.DataFrame(index=df.index)\n",
    "df_limpo['title'] = df['title']\n",
    "df_limpo['title'] "
   ]
  },
  {
   "cell_type": "markdown",
   "metadata": {},
   "source": [
    "## 1. Limpeza da data"
   ]
  },
  {
   "cell_type": "code",
   "execution_count": 8,
   "metadata": {},
   "outputs": [
    {
     "output_type": "execute_result",
     "data": {
      "text/plain": [
       "link\n",
       "watch?v=eUslDxZfjGc   2020-11-17\n",
       "watch?v=0f60PduPRYE   2020-11-15\n",
       "watch?v=nFzgPVwr5vo   2020-11-14\n",
       "watch?v=tgS3NXMfmI0   2020-11-12\n",
       "watch?v=mO47WN4PT_Y   2020-11-10\n",
       "                         ...    \n",
       "watch?v=wC4YV8t40zU   2020-06-19\n",
       "watch?v=62HBi0B3se0   2020-06-18\n",
       "watch?v=R8gLOuGYW8w   2020-06-14\n",
       "watch?v=VeM1T7UaYTk   2020-06-11\n",
       "watch?v=PSvEh8ukf-c   2020-06-16\n",
       "Name: date, Length: 772, dtype: datetime64[ns]"
      ]
     },
     "metadata": {},
     "execution_count": 8
    }
   ],
   "source": [
    "df_limpo['date'] = pd.to_datetime(df['upload_date'], format='%Y-%m-%d')\n",
    "df_limpo['date']"
   ]
  },
  {
   "cell_type": "markdown",
   "metadata": {},
   "source": [
    "## 2. Limpeza de Views"
   ]
  },
  {
   "cell_type": "code",
   "execution_count": 9,
   "metadata": {},
   "outputs": [
    {
     "output_type": "execute_result",
     "data": {
      "text/plain": [
       "link\n",
       "watch?v=eUslDxZfjGc    379\n",
       "watch?v=0f60PduPRYE    124\n",
       "watch?v=nFzgPVwr5vo     13\n",
       "watch?v=tgS3NXMfmI0    655\n",
       "watch?v=mO47WN4PT_Y      1\n",
       "                      ... \n",
       "watch?v=wC4YV8t40zU      3\n",
       "watch?v=62HBi0B3se0      2\n",
       "watch?v=R8gLOuGYW8w      1\n",
       "watch?v=VeM1T7UaYTk    201\n",
       "watch?v=PSvEh8ukf-c    140\n",
       "Name: views, Length: 772, dtype: int64"
      ]
     },
     "metadata": {},
     "execution_count": 9
    }
   ],
   "source": [
    "df_limpo['views'] = df['view_count'].map(lambda x: 0 if x<0 else int(x))\n",
    "df_limpo['views']"
   ]
  },
  {
   "cell_type": "markdown",
   "metadata": {},
   "source": [
    "## 3. Features"
   ]
  },
  {
   "cell_type": "code",
   "execution_count": 10,
   "metadata": {},
   "outputs": [],
   "source": [
    "features = pd.DataFrame(index=df_limpo.index)\n",
    "y = df['y'].copy()"
   ]
  },
  {
   "cell_type": "code",
   "execution_count": 11,
   "metadata": {},
   "outputs": [],
   "source": [
    "data_extract = datetime.datetime.strptime('2020-11-21', \"%Y-%m-%d\")"
   ]
  },
  {
   "cell_type": "code",
   "execution_count": 12,
   "metadata": {},
   "outputs": [],
   "source": [
    "features['tempo_desde_pub'] = (data_extract - df_limpo['date']) / np.timedelta64(1, 'D')\n",
    "features['views'] = df_limpo['views']\n",
    "features['views_por_dia'] = features['views'] / features['tempo_desde_pub']\n",
    "features = features.drop(['tempo_desde_pub'], axis=1)"
   ]
  },
  {
   "cell_type": "code",
   "execution_count": 14,
   "metadata": {},
   "outputs": [
    {
     "output_type": "execute_result",
     "data": {
      "text/plain": [
       "                     views  views_por_dia\n",
       "link                                     \n",
       "watch?v=eUslDxZfjGc    379      94.750000\n",
       "watch?v=0f60PduPRYE    124      20.666667\n",
       "watch?v=nFzgPVwr5vo     13       1.857143\n",
       "watch?v=tgS3NXMfmI0    655      72.777778\n",
       "watch?v=mO47WN4PT_Y      1       0.090909"
      ],
      "text/html": "<div>\n<style scoped>\n    .dataframe tbody tr th:only-of-type {\n        vertical-align: middle;\n    }\n\n    .dataframe tbody tr th {\n        vertical-align: top;\n    }\n\n    .dataframe thead th {\n        text-align: right;\n    }\n</style>\n<table border=\"1\" class=\"dataframe\">\n  <thead>\n    <tr style=\"text-align: right;\">\n      <th></th>\n      <th>views</th>\n      <th>views_por_dia</th>\n    </tr>\n    <tr>\n      <th>link</th>\n      <th></th>\n      <th></th>\n    </tr>\n  </thead>\n  <tbody>\n    <tr>\n      <th>watch?v=eUslDxZfjGc</th>\n      <td>379</td>\n      <td>94.750000</td>\n    </tr>\n    <tr>\n      <th>watch?v=0f60PduPRYE</th>\n      <td>124</td>\n      <td>20.666667</td>\n    </tr>\n    <tr>\n      <th>watch?v=nFzgPVwr5vo</th>\n      <td>13</td>\n      <td>1.857143</td>\n    </tr>\n    <tr>\n      <th>watch?v=tgS3NXMfmI0</th>\n      <td>655</td>\n      <td>72.777778</td>\n    </tr>\n    <tr>\n      <th>watch?v=mO47WN4PT_Y</th>\n      <td>1</td>\n      <td>0.090909</td>\n    </tr>\n  </tbody>\n</table>\n</div>"
     },
     "metadata": {},
     "execution_count": 14
    }
   ],
   "source": [
    "features.head()"
   ]
  },
  {
   "cell_type": "code",
   "execution_count": 15,
   "metadata": {},
   "outputs": [
    {
     "output_type": "execute_result",
     "data": {
      "text/plain": [
       "((385, 2), (387, 2), (385,), (387,))"
      ]
     },
     "metadata": {},
     "execution_count": 15
    }
   ],
   "source": [
    "data_corte = \"2020-10-01\"\n",
    "mask_train = df_limpo['date'] < data_corte\n",
    "mask_val = df_limpo['date'] >= data_corte\n",
    "\n",
    "Xtrain, Xval = features[mask_train], features[mask_val]\n",
    "ytrain, yval = y[mask_train], y[mask_val]\n",
    "Xtrain.shape, Xval.shape, ytrain.shape, yval.shape"
   ]
  },
  {
   "cell_type": "code",
   "execution_count": 29,
   "metadata": {},
   "outputs": [],
   "source": [
    "from sklearn.feature_extraction.text import TfidfVectorizer\n",
    "\n",
    "title_train = df_limpo[mask_train]['title']\n",
    "title_val = df_limpo[mask_val]['title']\n",
    "\n",
    "title_vec = TfidfVectorizer(min_df=1)\n",
    "title_bow_train = title_vec.fit_transform(title_train)\n",
    "title_bow_val = title_vec.transform(title_val)\n"
   ]
  },
  {
   "cell_type": "code",
   "execution_count": 30,
   "metadata": {},
   "outputs": [
    {
     "output_type": "execute_result",
     "data": {
      "text/plain": [
       "(385, 1133)"
      ]
     },
     "metadata": {},
     "execution_count": 30
    }
   ],
   "source": [
    "title_bow_train.shape"
   ]
  },
  {
   "cell_type": "code",
   "execution_count": 31,
   "metadata": {},
   "outputs": [
    {
     "output_type": "execute_result",
     "data": {
      "text/plain": [
       "0.9824928318434812"
      ]
     },
     "metadata": {},
     "execution_count": 31
    }
   ],
   "source": [
    "1 - 2595/(385*385)"
   ]
  },
  {
   "cell_type": "code",
   "execution_count": 32,
   "metadata": {},
   "outputs": [
    {
     "output_type": "execute_result",
     "data": {
      "text/plain": [
       "<385x1133 sparse matrix of type '<class 'numpy.float64'>'\n",
       "\twith 3382 stored elements in Compressed Sparse Row format>"
      ]
     },
     "metadata": {},
     "execution_count": 32
    }
   ],
   "source": [
    "title_bow_train"
   ]
  },
  {
   "cell_type": "code",
   "execution_count": 21,
   "metadata": {},
   "outputs": [
    {
     "output_type": "error",
     "ename": "SyntaxError",
     "evalue": "invalid syntax (<ipython-input-21-ab0626dc6b61>, line 1)",
     "traceback": [
      "\u001b[0;36m  File \u001b[0;32m\"<ipython-input-21-ab0626dc6b61>\"\u001b[0;36m, line \u001b[0;32m1\u001b[0m\n\u001b[0;31m    hstack - [1 2]     [3 4]   -> [1 2 3 4] - 1x4\u001b[0m\n\u001b[0m                ^\u001b[0m\n\u001b[0;31mSyntaxError\u001b[0m\u001b[0;31m:\u001b[0m invalid syntax\n"
     ]
    }
   ],
   "source": [
    "hstack - [1 2]     [3 4]   -> [1 2 3 4] - 1x4\n",
    "\n",
    "vstack - [1 2]     [3 4]   -> [1 2]\n",
    "                              [3 4] - 2x2"
   ]
  },
  {
   "cell_type": "code",
   "execution_count": 33,
   "metadata": {},
   "outputs": [],
   "source": [
    "from scipy.sparse import hstack, vstack\n",
    "\n",
    "Xtrain_wtitle = hstack([Xtrain, title_bow_train])\n",
    "Xval_wtitle = hstack([Xval, title_bow_val])"
   ]
  },
  {
   "cell_type": "code",
   "execution_count": 34,
   "metadata": {},
   "outputs": [
    {
     "output_type": "execute_result",
     "data": {
      "text/plain": [
       "((385, 1135), (387, 1135))"
      ]
     },
     "metadata": {},
     "execution_count": 34
    }
   ],
   "source": [
    "Xtrain_wtitle.shape, Xval_wtitle.shape"
   ]
  },
  {
   "cell_type": "code",
   "execution_count": 35,
   "metadata": {},
   "outputs": [
    {
     "output_type": "execute_result",
     "data": {
      "text/plain": [
       "RandomForestClassifier(class_weight='balanced', n_estimators=1000, n_jobs=6,\n",
       "                       random_state=0)"
      ]
     },
     "metadata": {},
     "execution_count": 35
    }
   ],
   "source": [
    "mdl = RandomForestClassifier(n_estimators=1000, random_state=0, class_weight=\"balanced\", n_jobs=6)\n",
    "mdl.fit(Xtrain_wtitle, ytrain)"
   ]
  },
  {
   "cell_type": "code",
   "execution_count": 36,
   "metadata": {},
   "outputs": [],
   "source": [
    "p = mdl.predict_proba(Xval_wtitle)[:, 1]"
   ]
  },
  {
   "cell_type": "code",
   "execution_count": 37,
   "metadata": {},
   "outputs": [],
   "source": [
    "from sklearn.metrics import roc_auc_score, average_precision_score"
   ]
  },
  {
   "cell_type": "code",
   "execution_count": 38,
   "metadata": {},
   "outputs": [
    {
     "output_type": "execute_result",
     "data": {
      "text/plain": [
       "0.5235463345585548"
      ]
     },
     "metadata": {},
     "execution_count": 38
    }
   ],
   "source": [
    "average_precision_score(yval, p)"
   ]
  },
  {
   "cell_type": "code",
   "execution_count": 39,
   "metadata": {},
   "outputs": [
    {
     "output_type": "execute_result",
     "data": {
      "text/plain": [
       "0.665264593872563"
      ]
     },
     "metadata": {},
     "execution_count": 39
    }
   ],
   "source": [
    "roc_auc_score(yval, p)"
   ]
  },
  {
   "cell_type": "code",
   "execution_count": null,
   "metadata": {},
   "outputs": [],
   "source": [
    "ap 0.5235463345585548, auc 0.665264593872563 - mindf=1\n",
    "ap 0.5332331171914984, auc 0.6808673904393794 - mindf=2"
   ]
  },
  {
   "cell_type": "markdown",
   "metadata": {},
   "source": [
    "# 5 Active learning"
   ]
  },
  {
   "cell_type": "markdown",
   "metadata": {},
   "source": [
    "138 exemplos que o modelo tenha dificuldade\n",
    "62 exemplos aleatoriamente"
   ]
  },
  {
   "cell_type": "code",
   "execution_count": 33,
   "metadata": {},
   "outputs": [
    {
     "output_type": "execute_result",
     "data": {
      "text/plain": [
       "(1217, 21)"
      ]
     },
     "metadata": {},
     "execution_count": 33
    }
   ],
   "source": [
    "df_unlabeled = pd.read_csv(\"raw_data_with_labels.csv\")\n",
    "df_unlabeled = df_unlabeled[df_unlabeled['y'].isnull()].dropna(how='all')\n",
    "df_unlabeled.shape"
   ]
  },
  {
   "cell_type": "code",
   "execution_count": 34,
   "metadata": {},
   "outputs": [
    {
     "output_type": "execute_result",
     "data": {
      "text/plain": [
       "                    link                                  webpage_url  \\\n",
       "156  watch?v=vHaIk07i3zw  https://www.youtube.com/watch?v=vHaIk07i3zw   \n",
       "\n",
       "                                                 title   y         query  \\\n",
       "156  Improving Global Health Forecasting: Data Scie... NaN  data+science   \n",
       "\n",
       "     view_count  like_count  dislike_count  average_rating  subscriber_count  \\\n",
       "156         349         5.0            NaN             5.0            6640.0   \n",
       "\n",
       "                                           description  \\\n",
       "156  Providing patients/end customers with high-qua...   \n",
       "\n",
       "                    categories  \\\n",
       "156  ['Nonprofits & Activism']   \n",
       "\n",
       "                                                  tags upload_date  \\\n",
       "156  ['CGD', 'Center for Global Development', 'rese...  2020-11-12   \n",
       "\n",
       "     tempo_desde_pub                                        channel_url  \\\n",
       "156                5  http://www.youtube.com/channel/UCWC4mmS_a-0K6J...   \n",
       "\n",
       "                                             thumbnail  width  height  \\\n",
       "156  https://i.ytimg.com/vi/vHaIk07i3zw/maxresdefau...   1280     720   \n",
       "\n",
       "     resolution  fps  \n",
       "156         NaN   60  "
      ],
      "text/html": "<div>\n<style scoped>\n    .dataframe tbody tr th:only-of-type {\n        vertical-align: middle;\n    }\n\n    .dataframe tbody tr th {\n        vertical-align: top;\n    }\n\n    .dataframe thead th {\n        text-align: right;\n    }\n</style>\n<table border=\"1\" class=\"dataframe\">\n  <thead>\n    <tr style=\"text-align: right;\">\n      <th></th>\n      <th>link</th>\n      <th>webpage_url</th>\n      <th>title</th>\n      <th>y</th>\n      <th>query</th>\n      <th>view_count</th>\n      <th>like_count</th>\n      <th>dislike_count</th>\n      <th>average_rating</th>\n      <th>subscriber_count</th>\n      <th>description</th>\n      <th>categories</th>\n      <th>tags</th>\n      <th>upload_date</th>\n      <th>tempo_desde_pub</th>\n      <th>channel_url</th>\n      <th>thumbnail</th>\n      <th>width</th>\n      <th>height</th>\n      <th>resolution</th>\n      <th>fps</th>\n    </tr>\n  </thead>\n  <tbody>\n    <tr>\n      <th>156</th>\n      <td>watch?v=vHaIk07i3zw</td>\n      <td>https://www.youtube.com/watch?v=vHaIk07i3zw</td>\n      <td>Improving Global Health Forecasting: Data Scie...</td>\n      <td>NaN</td>\n      <td>data+science</td>\n      <td>349</td>\n      <td>5.0</td>\n      <td>NaN</td>\n      <td>5.0</td>\n      <td>6640.0</td>\n      <td>Providing patients/end customers with high-qua...</td>\n      <td>['Nonprofits &amp; Activism']</td>\n      <td>['CGD', 'Center for Global Development', 'rese...</td>\n      <td>2020-11-12</td>\n      <td>5</td>\n      <td>http://www.youtube.com/channel/UCWC4mmS_a-0K6J...</td>\n      <td>https://i.ytimg.com/vi/vHaIk07i3zw/maxresdefau...</td>\n      <td>1280</td>\n      <td>720</td>\n      <td>NaN</td>\n      <td>60</td>\n    </tr>\n  </tbody>\n</table>\n</div>"
     },
     "metadata": {},
     "execution_count": 34
    }
   ],
   "source": [
    "df_unlabeled.head(1)"
   ]
  },
  {
   "cell_type": "code",
   "execution_count": 38,
   "metadata": {},
   "outputs": [],
   "source": [
    "df_limpo_u = pd.DataFrame(index=df_unlabeled.index)\n",
    "df_limpo_u['title'] = df_unlabeled['title']"
   ]
  },
  {
   "cell_type": "code",
   "execution_count": 39,
   "metadata": {},
   "outputs": [],
   "source": [
    "df_limpo_u['date'] = pd.to_datetime(df_unlabeled['upload_date'], format='%Y-%m-%d')"
   ]
  },
  {
   "cell_type": "code",
   "execution_count": 40,
   "metadata": {},
   "outputs": [
    {
     "output_type": "execute_result",
     "data": {
      "text/plain": [
       "                                                 title       date\n",
       "156  Improving Global Health Forecasting: Data Scie... 2020-11-12\n",
       "157  Data Science in Africa: Live Q&A with Chris Or... 2020-11-12\n",
       "158  Hands-On Training in Artificial Intelligence w... 2020-11-12\n",
       "159  Tableau Data Science Tutorial | Tableau for DS... 2020-11-11\n",
       "160                     PYTHON ou R para Data Science? 2020-11-11"
      ],
      "text/html": "<div>\n<style scoped>\n    .dataframe tbody tr th:only-of-type {\n        vertical-align: middle;\n    }\n\n    .dataframe tbody tr th {\n        vertical-align: top;\n    }\n\n    .dataframe thead th {\n        text-align: right;\n    }\n</style>\n<table border=\"1\" class=\"dataframe\">\n  <thead>\n    <tr style=\"text-align: right;\">\n      <th></th>\n      <th>title</th>\n      <th>date</th>\n    </tr>\n  </thead>\n  <tbody>\n    <tr>\n      <th>156</th>\n      <td>Improving Global Health Forecasting: Data Scie...</td>\n      <td>2020-11-12</td>\n    </tr>\n    <tr>\n      <th>157</th>\n      <td>Data Science in Africa: Live Q&amp;A with Chris Or...</td>\n      <td>2020-11-12</td>\n    </tr>\n    <tr>\n      <th>158</th>\n      <td>Hands-On Training in Artificial Intelligence w...</td>\n      <td>2020-11-12</td>\n    </tr>\n    <tr>\n      <th>159</th>\n      <td>Tableau Data Science Tutorial | Tableau for DS...</td>\n      <td>2020-11-11</td>\n    </tr>\n    <tr>\n      <th>160</th>\n      <td>PYTHON ou R para Data Science?</td>\n      <td>2020-11-11</td>\n    </tr>\n  </tbody>\n</table>\n</div>"
     },
     "metadata": {},
     "execution_count": 40
    }
   ],
   "source": [
    "df_limpo_u.head()"
   ]
  },
  {
   "cell_type": "code",
   "execution_count": 41,
   "metadata": {},
   "outputs": [],
   "source": [
    "df_limpo_u['views'] = df_unlabeled['view_count'].map(lambda x: 0 if x<0 else int(x))"
   ]
  },
  {
   "cell_type": "code",
   "execution_count": 42,
   "metadata": {},
   "outputs": [],
   "source": [
    "features_u = pd.DataFrame(index=df_limpo_u.index)"
   ]
  },
  {
   "cell_type": "code",
   "execution_count": 43,
   "metadata": {},
   "outputs": [],
   "source": [
    "features_u['tempo_desde_pub'] = (datetime.datetime.today() - df_limpo_u['date']) / np.timedelta64(1, 'D')\n",
    "features_u['views'] = df_limpo_u['views']\n",
    "features_u['views_por_dia'] = features_u['views'] / features_u['tempo_desde_pub']\n",
    "features_u = features_u.drop(['tempo_desde_pub'], axis=1)"
   ]
  },
  {
   "cell_type": "code",
   "execution_count": 44,
   "metadata": {},
   "outputs": [
    {
     "output_type": "execute_result",
     "data": {
      "text/plain": [
       "     views  views_por_dia\n",
       "156    349      50.294794\n",
       "157      1       0.144111\n",
       "158    655      94.392809\n",
       "159      2       0.251918\n",
       "160      1       0.125959"
      ],
      "text/html": "<div>\n<style scoped>\n    .dataframe tbody tr th:only-of-type {\n        vertical-align: middle;\n    }\n\n    .dataframe tbody tr th {\n        vertical-align: top;\n    }\n\n    .dataframe thead th {\n        text-align: right;\n    }\n</style>\n<table border=\"1\" class=\"dataframe\">\n  <thead>\n    <tr style=\"text-align: right;\">\n      <th></th>\n      <th>views</th>\n      <th>views_por_dia</th>\n    </tr>\n  </thead>\n  <tbody>\n    <tr>\n      <th>156</th>\n      <td>349</td>\n      <td>50.294794</td>\n    </tr>\n    <tr>\n      <th>157</th>\n      <td>1</td>\n      <td>0.144111</td>\n    </tr>\n    <tr>\n      <th>158</th>\n      <td>655</td>\n      <td>94.392809</td>\n    </tr>\n    <tr>\n      <th>159</th>\n      <td>2</td>\n      <td>0.251918</td>\n    </tr>\n    <tr>\n      <th>160</th>\n      <td>1</td>\n      <td>0.125959</td>\n    </tr>\n  </tbody>\n</table>\n</div>"
     },
     "metadata": {},
     "execution_count": 44
    }
   ],
   "source": [
    "features_u.head()"
   ]
  },
  {
   "cell_type": "code",
   "execution_count": 45,
   "metadata": {},
   "outputs": [],
   "source": [
    "from sklearn.feature_extraction.text import TfidfVectorizer\n",
    "\n",
    "title_u = df_limpo_u['title']\n",
    "title_bow_u = title_vec.transform(title_u)\n"
   ]
  },
  {
   "cell_type": "code",
   "execution_count": 46,
   "metadata": {},
   "outputs": [
    {
     "output_type": "execute_result",
     "data": {
      "text/plain": [
       "<1217x860 sparse matrix of type '<class 'numpy.float64'>'\n",
       "\twith 7014 stored elements in Compressed Sparse Row format>"
      ]
     },
     "metadata": {},
     "execution_count": 46
    }
   ],
   "source": [
    "title_bow_u"
   ]
  },
  {
   "cell_type": "code",
   "execution_count": 47,
   "metadata": {},
   "outputs": [],
   "source": [
    "Xu_wtitle = hstack([features_u, title_bow_u])"
   ]
  },
  {
   "cell_type": "code",
   "execution_count": 48,
   "metadata": {},
   "outputs": [
    {
     "output_type": "execute_result",
     "data": {
      "text/plain": [
       "<1217x862 sparse matrix of type '<class 'numpy.float64'>'\n",
       "\twith 9444 stored elements in COOrdinate format>"
      ]
     },
     "metadata": {},
     "execution_count": 48
    }
   ],
   "source": [
    "Xu_wtitle"
   ]
  },
  {
   "cell_type": "code",
   "execution_count": 49,
   "metadata": {},
   "outputs": [],
   "source": [
    "pu = mdl.predict_proba(Xu_wtitle)[:, 1]"
   ]
  },
  {
   "cell_type": "code",
   "execution_count": 50,
   "metadata": {},
   "outputs": [],
   "source": [
    "df_unlabeled['p'] = pu"
   ]
  },
  {
   "cell_type": "code",
   "execution_count": 53,
   "metadata": {},
   "outputs": [
    {
     "output_type": "execute_result",
     "data": {
      "text/plain": [
       "                    link                                  webpage_url  \\\n",
       "156  watch?v=vHaIk07i3zw  https://www.youtube.com/watch?v=vHaIk07i3zw   \n",
       "\n",
       "                                                 title   y         query  \\\n",
       "156  Improving Global Health Forecasting: Data Scie... NaN  data+science   \n",
       "\n",
       "     view_count  like_count  dislike_count  average_rating  subscriber_count  \\\n",
       "156         349         5.0            NaN             5.0            6640.0   \n",
       "\n",
       "                                           description  \\\n",
       "156  Providing patients/end customers with high-qua...   \n",
       "\n",
       "                    categories  \\\n",
       "156  ['Nonprofits & Activism']   \n",
       "\n",
       "                                                  tags upload_date  \\\n",
       "156  ['CGD', 'Center for Global Development', 'rese...  2020-11-12   \n",
       "\n",
       "     tempo_desde_pub                                        channel_url  \\\n",
       "156                5  http://www.youtube.com/channel/UCWC4mmS_a-0K6J...   \n",
       "\n",
       "                                             thumbnail  width  height  \\\n",
       "156  https://i.ytimg.com/vi/vHaIk07i3zw/maxresdefau...   1280     720   \n",
       "\n",
       "     resolution  fps      p  \n",
       "156         NaN   60  0.141  "
      ],
      "text/html": "<div>\n<style scoped>\n    .dataframe tbody tr th:only-of-type {\n        vertical-align: middle;\n    }\n\n    .dataframe tbody tr th {\n        vertical-align: top;\n    }\n\n    .dataframe thead th {\n        text-align: right;\n    }\n</style>\n<table border=\"1\" class=\"dataframe\">\n  <thead>\n    <tr style=\"text-align: right;\">\n      <th></th>\n      <th>link</th>\n      <th>webpage_url</th>\n      <th>title</th>\n      <th>y</th>\n      <th>query</th>\n      <th>view_count</th>\n      <th>like_count</th>\n      <th>dislike_count</th>\n      <th>average_rating</th>\n      <th>subscriber_count</th>\n      <th>description</th>\n      <th>categories</th>\n      <th>tags</th>\n      <th>upload_date</th>\n      <th>tempo_desde_pub</th>\n      <th>channel_url</th>\n      <th>thumbnail</th>\n      <th>width</th>\n      <th>height</th>\n      <th>resolution</th>\n      <th>fps</th>\n      <th>p</th>\n    </tr>\n  </thead>\n  <tbody>\n    <tr>\n      <th>156</th>\n      <td>watch?v=vHaIk07i3zw</td>\n      <td>https://www.youtube.com/watch?v=vHaIk07i3zw</td>\n      <td>Improving Global Health Forecasting: Data Scie...</td>\n      <td>NaN</td>\n      <td>data+science</td>\n      <td>349</td>\n      <td>5.0</td>\n      <td>NaN</td>\n      <td>5.0</td>\n      <td>6640.0</td>\n      <td>Providing patients/end customers with high-qua...</td>\n      <td>['Nonprofits &amp; Activism']</td>\n      <td>['CGD', 'Center for Global Development', 'rese...</td>\n      <td>2020-11-12</td>\n      <td>5</td>\n      <td>http://www.youtube.com/channel/UCWC4mmS_a-0K6J...</td>\n      <td>https://i.ytimg.com/vi/vHaIk07i3zw/maxresdefau...</td>\n      <td>1280</td>\n      <td>720</td>\n      <td>NaN</td>\n      <td>60</td>\n      <td>0.141</td>\n    </tr>\n  </tbody>\n</table>\n</div>"
     },
     "metadata": {},
     "execution_count": 53
    }
   ],
   "source": [
    "df_unlabeled.head(1)"
   ]
  },
  {
   "cell_type": "code",
   "execution_count": 55,
   "metadata": {},
   "outputs": [
    {
     "output_type": "execute_result",
     "data": {
      "text/plain": [
       "138"
      ]
     },
     "metadata": {},
     "execution_count": 55
    }
   ],
   "source": [
    "mask_u = (df_unlabeled['p'] >= 0.45) & (df_unlabeled['p'] <= 0.55)\n",
    "mask_u.sum()"
   ]
  },
  {
   "cell_type": "code",
   "execution_count": 56,
   "metadata": {},
   "outputs": [
    {
     "output_type": "execute_result",
     "data": {
      "text/plain": [
       "156     False\n",
       "157     False\n",
       "158     False\n",
       "159     False\n",
       "160      True\n",
       "        ...  \n",
       "1984     True\n",
       "1985    False\n",
       "1986     True\n",
       "1987    False\n",
       "1988    False\n",
       "Name: p, Length: 1217, dtype: bool"
      ]
     },
     "metadata": {},
     "execution_count": 56
    }
   ],
   "source": [
    "mask_u"
   ]
  },
  {
   "cell_type": "code",
   "execution_count": 57,
   "metadata": {},
   "outputs": [
    {
     "output_type": "execute_result",
     "data": {
      "text/plain": [
       "                     link                                  webpage_url  \\\n",
       "160   watch?v=_m0UanRL6FE  https://www.youtube.com/watch?v=_m0UanRL6FE   \n",
       "179   watch?v=1x9xGVRs-5E  https://www.youtube.com/watch?v=1x9xGVRs-5E   \n",
       "191   watch?v=PYap8CU0VaA  https://www.youtube.com/watch?v=PYap8CU0VaA   \n",
       "194   watch?v=e4i_EGAa0gU  https://www.youtube.com/watch?v=e4i_EGAa0gU   \n",
       "207   watch?v=Tm0YyhAOOok  https://www.youtube.com/watch?v=Tm0YyhAOOok   \n",
       "...                   ...                                          ...   \n",
       "1980  watch?v=O1P4r0Iy55U  https://www.youtube.com/watch?v=O1P4r0Iy55U   \n",
       "1981  watch?v=sLAthlX816c  https://www.youtube.com/watch?v=sLAthlX816c   \n",
       "1982  watch?v=0jQwAp7po00  https://www.youtube.com/watch?v=0jQwAp7po00   \n",
       "1984  watch?v=fvF2H85ko9c  https://www.youtube.com/watch?v=fvF2H85ko9c   \n",
       "1986  watch?v=LBqmIfAA4A8  https://www.youtube.com/watch?v=LBqmIfAA4A8   \n",
       "\n",
       "                                                  title   y         query  \\\n",
       "160                      PYTHON ou R para Data Science? NaN  data+science   \n",
       "179           Hands-On Training In AI with Data Science NaN  data+science   \n",
       "191   Linux on the Desktop for the Data Science (wit... NaN  data+science   \n",
       "194   How to get a job after learning data science s... NaN  data+science   \n",
       "207   free course with certificate | Microsoft free ... NaN  data+science   \n",
       "...                                                 ...  ..           ...   \n",
       "1980   Getting Started on Kaggle: A quick tour | Kaggle NaN        kaggle   \n",
       "1981  Getting Started on Kaggle: Python coding in Ke... NaN        kaggle   \n",
       "1982  Getting Started on Kaggle: Uploading data to a... NaN        kaggle   \n",
       "1984  Getting Started on Kaggle: Writing code to ana... NaN        kaggle   \n",
       "1986  Getting Started on Kaggle: Uploading a dataset... NaN        kaggle   \n",
       "\n",
       "      view_count  like_count  dislike_count  average_rating  subscriber_count  \\\n",
       "160            1       147.0            2.0        4.972973            5310.0   \n",
       "179            4       114.0            5.0        4.831932           14600.0   \n",
       "191            1        52.0            NaN        5.000000           41700.0   \n",
       "194            5       391.0            6.0        4.939547          190000.0   \n",
       "207           63      2257.0           64.0        4.889703           47100.0   \n",
       "...          ...         ...            ...             ...               ...   \n",
       "1980          19       198.0            2.0        4.979899           68900.0   \n",
       "1981          26       275.0            9.0        4.873239           68900.0   \n",
       "1982          11        71.0            4.0        4.786667           68900.0   \n",
       "1984          35       464.0           12.0        4.899159           68900.0   \n",
       "1986          11        68.0            4.0        4.777778           68900.0   \n",
       "\n",
       "                                            description  \\\n",
       "160                       Qual a melhor linguagem para    \n",
       "179                                                 NaN   \n",
       "191                                               Most    \n",
       "194   Many times people complain that we have learnt...   \n",
       "207   free course with certificate | Microsoft free ...   \n",
       "...                                                 ...   \n",
       "1980                                    In this video,    \n",
       "1981                                    In this video,    \n",
       "1982                                    In this video,    \n",
       "1984                                    In this video,    \n",
       "1986                                    In this video,    \n",
       "\n",
       "                    categories  \\\n",
       "160   ['Science & Technology']   \n",
       "179          ['Entertainment']   \n",
       "191   ['Science & Technology']   \n",
       "194              ['Education']   \n",
       "207   ['Science & Technology']   \n",
       "...                        ...   \n",
       "1980  ['Science & Technology']   \n",
       "1981  ['Science & Technology']   \n",
       "1982  ['Science & Technology']   \n",
       "1984  ['Science & Technology']   \n",
       "1986  ['Science & Technology']   \n",
       "\n",
       "                                                   tags upload_date  \\\n",
       "160                                                 NaN  2020-11-11   \n",
       "179                                                 NaN  2020-11-04   \n",
       "191   ['linux', 'jeff heaton', 'data science', 'mach...  2020-10-27   \n",
       "194   ['yt:cc=on', 'how to get a job as data scienti...  2020-10-25   \n",
       "207   ['free course', 'free certificate', 'free cour...  2020-10-18   \n",
       "...                                                 ...         ...   \n",
       "1980  ['kaggle', 'data science', 'Kaggel', 'coffee c...  2018-10-16   \n",
       "1981  ['kaggle', 'data science', 'coding', 'python',...  2018-10-16   \n",
       "1982  ['kaggle', 'data science', 'python', 'data', '...  2018-10-16   \n",
       "1984  ['kaggle', 'data science', 'data', 'python', '...  2018-10-16   \n",
       "1986  ['kaggle', 'data science', 'coding', 'data', '...  2018-10-16   \n",
       "\n",
       "      tempo_desde_pub                                        channel_url  \\\n",
       "160                 6  http://www.youtube.com/channel/UCxaCu5ht7d3jvi...   \n",
       "179                13  http://www.youtube.com/channel/UCF2_gALht1C1Ns...   \n",
       "191                21  http://www.youtube.com/channel/UCR1-GEpyOPzT2A...   \n",
       "194                23  http://www.youtube.com/channel/UCh9nVJoWXmFb7s...   \n",
       "207                30  http://www.youtube.com/channel/UCNr_dWKxRanxFU...   \n",
       "...               ...                                                ...   \n",
       "1980              763  http://www.youtube.com/channel/UCSNeZleDn9c74y...   \n",
       "1981              763  http://www.youtube.com/channel/UCSNeZleDn9c74y...   \n",
       "1982              763  http://www.youtube.com/channel/UCSNeZleDn9c74y...   \n",
       "1984              763  http://www.youtube.com/channel/UCSNeZleDn9c74y...   \n",
       "1986              763  http://www.youtube.com/channel/UCSNeZleDn9c74y...   \n",
       "\n",
       "                                              thumbnail  width  height  \\\n",
       "160   https://i.ytimg.com/vi_webp/_m0UanRL6FE/maxres...   1920    1080   \n",
       "179   https://i.ytimg.com/vi/1x9xGVRs-5E/maxresdefau...   1280     720   \n",
       "191   https://i.ytimg.com/vi_webp/PYap8CU0VaA/maxres...   1920    1080   \n",
       "194   https://i.ytimg.com/vi_webp/e4i_EGAa0gU/maxres...   3840    2160   \n",
       "207   https://i.ytimg.com/vi_webp/Tm0YyhAOOok/maxres...   1280     720   \n",
       "...                                                 ...    ...     ...   \n",
       "1980  https://i.ytimg.com/vi_webp/O1P4r0Iy55U/maxres...   1920    1006   \n",
       "1981  https://i.ytimg.com/vi_webp/sLAthlX816c/maxres...   1280     672   \n",
       "1982  https://i.ytimg.com/vi_webp/0jQwAp7po00/maxres...   1920    1006   \n",
       "1984  https://i.ytimg.com/vi_webp/fvF2H85ko9c/maxres...   1280     674   \n",
       "1986  https://i.ytimg.com/vi_webp/LBqmIfAA4A8/maxres...   1920     958   \n",
       "\n",
       "      resolution  fps      p  \n",
       "160          NaN   24  0.541  \n",
       "179          NaN   30  0.511  \n",
       "191          NaN   30  0.490  \n",
       "194          NaN   30  0.496  \n",
       "207          NaN   30  0.529  \n",
       "...          ...  ...    ...  \n",
       "1980         NaN   29  0.451  \n",
       "1981         NaN   29  0.537  \n",
       "1982         NaN   29  0.472  \n",
       "1984         NaN   29  0.521  \n",
       "1986         NaN   29  0.462  \n",
       "\n",
       "[138 rows x 22 columns]"
      ],
      "text/html": "<div>\n<style scoped>\n    .dataframe tbody tr th:only-of-type {\n        vertical-align: middle;\n    }\n\n    .dataframe tbody tr th {\n        vertical-align: top;\n    }\n\n    .dataframe thead th {\n        text-align: right;\n    }\n</style>\n<table border=\"1\" class=\"dataframe\">\n  <thead>\n    <tr style=\"text-align: right;\">\n      <th></th>\n      <th>link</th>\n      <th>webpage_url</th>\n      <th>title</th>\n      <th>y</th>\n      <th>query</th>\n      <th>view_count</th>\n      <th>like_count</th>\n      <th>dislike_count</th>\n      <th>average_rating</th>\n      <th>subscriber_count</th>\n      <th>description</th>\n      <th>categories</th>\n      <th>tags</th>\n      <th>upload_date</th>\n      <th>tempo_desde_pub</th>\n      <th>channel_url</th>\n      <th>thumbnail</th>\n      <th>width</th>\n      <th>height</th>\n      <th>resolution</th>\n      <th>fps</th>\n      <th>p</th>\n    </tr>\n  </thead>\n  <tbody>\n    <tr>\n      <th>160</th>\n      <td>watch?v=_m0UanRL6FE</td>\n      <td>https://www.youtube.com/watch?v=_m0UanRL6FE</td>\n      <td>PYTHON ou R para Data Science?</td>\n      <td>NaN</td>\n      <td>data+science</td>\n      <td>1</td>\n      <td>147.0</td>\n      <td>2.0</td>\n      <td>4.972973</td>\n      <td>5310.0</td>\n      <td>Qual a melhor linguagem para</td>\n      <td>['Science &amp; Technology']</td>\n      <td>NaN</td>\n      <td>2020-11-11</td>\n      <td>6</td>\n      <td>http://www.youtube.com/channel/UCxaCu5ht7d3jvi...</td>\n      <td>https://i.ytimg.com/vi_webp/_m0UanRL6FE/maxres...</td>\n      <td>1920</td>\n      <td>1080</td>\n      <td>NaN</td>\n      <td>24</td>\n      <td>0.541</td>\n    </tr>\n    <tr>\n      <th>179</th>\n      <td>watch?v=1x9xGVRs-5E</td>\n      <td>https://www.youtube.com/watch?v=1x9xGVRs-5E</td>\n      <td>Hands-On Training In AI with Data Science</td>\n      <td>NaN</td>\n      <td>data+science</td>\n      <td>4</td>\n      <td>114.0</td>\n      <td>5.0</td>\n      <td>4.831932</td>\n      <td>14600.0</td>\n      <td>NaN</td>\n      <td>['Entertainment']</td>\n      <td>NaN</td>\n      <td>2020-11-04</td>\n      <td>13</td>\n      <td>http://www.youtube.com/channel/UCF2_gALht1C1Ns...</td>\n      <td>https://i.ytimg.com/vi/1x9xGVRs-5E/maxresdefau...</td>\n      <td>1280</td>\n      <td>720</td>\n      <td>NaN</td>\n      <td>30</td>\n      <td>0.511</td>\n    </tr>\n    <tr>\n      <th>191</th>\n      <td>watch?v=PYap8CU0VaA</td>\n      <td>https://www.youtube.com/watch?v=PYap8CU0VaA</td>\n      <td>Linux on the Desktop for the Data Science (wit...</td>\n      <td>NaN</td>\n      <td>data+science</td>\n      <td>1</td>\n      <td>52.0</td>\n      <td>NaN</td>\n      <td>5.000000</td>\n      <td>41700.0</td>\n      <td>Most</td>\n      <td>['Science &amp; Technology']</td>\n      <td>['linux', 'jeff heaton', 'data science', 'mach...</td>\n      <td>2020-10-27</td>\n      <td>21</td>\n      <td>http://www.youtube.com/channel/UCR1-GEpyOPzT2A...</td>\n      <td>https://i.ytimg.com/vi_webp/PYap8CU0VaA/maxres...</td>\n      <td>1920</td>\n      <td>1080</td>\n      <td>NaN</td>\n      <td>30</td>\n      <td>0.490</td>\n    </tr>\n    <tr>\n      <th>194</th>\n      <td>watch?v=e4i_EGAa0gU</td>\n      <td>https://www.youtube.com/watch?v=e4i_EGAa0gU</td>\n      <td>How to get a job after learning data science s...</td>\n      <td>NaN</td>\n      <td>data+science</td>\n      <td>5</td>\n      <td>391.0</td>\n      <td>6.0</td>\n      <td>4.939547</td>\n      <td>190000.0</td>\n      <td>Many times people complain that we have learnt...</td>\n      <td>['Education']</td>\n      <td>['yt:cc=on', 'how to get a job as data scienti...</td>\n      <td>2020-10-25</td>\n      <td>23</td>\n      <td>http://www.youtube.com/channel/UCh9nVJoWXmFb7s...</td>\n      <td>https://i.ytimg.com/vi_webp/e4i_EGAa0gU/maxres...</td>\n      <td>3840</td>\n      <td>2160</td>\n      <td>NaN</td>\n      <td>30</td>\n      <td>0.496</td>\n    </tr>\n    <tr>\n      <th>207</th>\n      <td>watch?v=Tm0YyhAOOok</td>\n      <td>https://www.youtube.com/watch?v=Tm0YyhAOOok</td>\n      <td>free course with certificate | Microsoft free ...</td>\n      <td>NaN</td>\n      <td>data+science</td>\n      <td>63</td>\n      <td>2257.0</td>\n      <td>64.0</td>\n      <td>4.889703</td>\n      <td>47100.0</td>\n      <td>free course with certificate | Microsoft free ...</td>\n      <td>['Science &amp; Technology']</td>\n      <td>['free course', 'free certificate', 'free cour...</td>\n      <td>2020-10-18</td>\n      <td>30</td>\n      <td>http://www.youtube.com/channel/UCNr_dWKxRanxFU...</td>\n      <td>https://i.ytimg.com/vi_webp/Tm0YyhAOOok/maxres...</td>\n      <td>1280</td>\n      <td>720</td>\n      <td>NaN</td>\n      <td>30</td>\n      <td>0.529</td>\n    </tr>\n    <tr>\n      <th>...</th>\n      <td>...</td>\n      <td>...</td>\n      <td>...</td>\n      <td>...</td>\n      <td>...</td>\n      <td>...</td>\n      <td>...</td>\n      <td>...</td>\n      <td>...</td>\n      <td>...</td>\n      <td>...</td>\n      <td>...</td>\n      <td>...</td>\n      <td>...</td>\n      <td>...</td>\n      <td>...</td>\n      <td>...</td>\n      <td>...</td>\n      <td>...</td>\n      <td>...</td>\n      <td>...</td>\n      <td>...</td>\n    </tr>\n    <tr>\n      <th>1980</th>\n      <td>watch?v=O1P4r0Iy55U</td>\n      <td>https://www.youtube.com/watch?v=O1P4r0Iy55U</td>\n      <td>Getting Started on Kaggle: A quick tour | Kaggle</td>\n      <td>NaN</td>\n      <td>kaggle</td>\n      <td>19</td>\n      <td>198.0</td>\n      <td>2.0</td>\n      <td>4.979899</td>\n      <td>68900.0</td>\n      <td>In this video,</td>\n      <td>['Science &amp; Technology']</td>\n      <td>['kaggle', 'data science', 'Kaggel', 'coffee c...</td>\n      <td>2018-10-16</td>\n      <td>763</td>\n      <td>http://www.youtube.com/channel/UCSNeZleDn9c74y...</td>\n      <td>https://i.ytimg.com/vi_webp/O1P4r0Iy55U/maxres...</td>\n      <td>1920</td>\n      <td>1006</td>\n      <td>NaN</td>\n      <td>29</td>\n      <td>0.451</td>\n    </tr>\n    <tr>\n      <th>1981</th>\n      <td>watch?v=sLAthlX816c</td>\n      <td>https://www.youtube.com/watch?v=sLAthlX816c</td>\n      <td>Getting Started on Kaggle: Python coding in Ke...</td>\n      <td>NaN</td>\n      <td>kaggle</td>\n      <td>26</td>\n      <td>275.0</td>\n      <td>9.0</td>\n      <td>4.873239</td>\n      <td>68900.0</td>\n      <td>In this video,</td>\n      <td>['Science &amp; Technology']</td>\n      <td>['kaggle', 'data science', 'coding', 'python',...</td>\n      <td>2018-10-16</td>\n      <td>763</td>\n      <td>http://www.youtube.com/channel/UCSNeZleDn9c74y...</td>\n      <td>https://i.ytimg.com/vi_webp/sLAthlX816c/maxres...</td>\n      <td>1280</td>\n      <td>672</td>\n      <td>NaN</td>\n      <td>29</td>\n      <td>0.537</td>\n    </tr>\n    <tr>\n      <th>1982</th>\n      <td>watch?v=0jQwAp7po00</td>\n      <td>https://www.youtube.com/watch?v=0jQwAp7po00</td>\n      <td>Getting Started on Kaggle: Uploading data to a...</td>\n      <td>NaN</td>\n      <td>kaggle</td>\n      <td>11</td>\n      <td>71.0</td>\n      <td>4.0</td>\n      <td>4.786667</td>\n      <td>68900.0</td>\n      <td>In this video,</td>\n      <td>['Science &amp; Technology']</td>\n      <td>['kaggle', 'data science', 'python', 'data', '...</td>\n      <td>2018-10-16</td>\n      <td>763</td>\n      <td>http://www.youtube.com/channel/UCSNeZleDn9c74y...</td>\n      <td>https://i.ytimg.com/vi_webp/0jQwAp7po00/maxres...</td>\n      <td>1920</td>\n      <td>1006</td>\n      <td>NaN</td>\n      <td>29</td>\n      <td>0.472</td>\n    </tr>\n    <tr>\n      <th>1984</th>\n      <td>watch?v=fvF2H85ko9c</td>\n      <td>https://www.youtube.com/watch?v=fvF2H85ko9c</td>\n      <td>Getting Started on Kaggle: Writing code to ana...</td>\n      <td>NaN</td>\n      <td>kaggle</td>\n      <td>35</td>\n      <td>464.0</td>\n      <td>12.0</td>\n      <td>4.899159</td>\n      <td>68900.0</td>\n      <td>In this video,</td>\n      <td>['Science &amp; Technology']</td>\n      <td>['kaggle', 'data science', 'data', 'python', '...</td>\n      <td>2018-10-16</td>\n      <td>763</td>\n      <td>http://www.youtube.com/channel/UCSNeZleDn9c74y...</td>\n      <td>https://i.ytimg.com/vi_webp/fvF2H85ko9c/maxres...</td>\n      <td>1280</td>\n      <td>674</td>\n      <td>NaN</td>\n      <td>29</td>\n      <td>0.521</td>\n    </tr>\n    <tr>\n      <th>1986</th>\n      <td>watch?v=LBqmIfAA4A8</td>\n      <td>https://www.youtube.com/watch?v=LBqmIfAA4A8</td>\n      <td>Getting Started on Kaggle: Uploading a dataset...</td>\n      <td>NaN</td>\n      <td>kaggle</td>\n      <td>11</td>\n      <td>68.0</td>\n      <td>4.0</td>\n      <td>4.777778</td>\n      <td>68900.0</td>\n      <td>In this video,</td>\n      <td>['Science &amp; Technology']</td>\n      <td>['kaggle', 'data science', 'coding', 'data', '...</td>\n      <td>2018-10-16</td>\n      <td>763</td>\n      <td>http://www.youtube.com/channel/UCSNeZleDn9c74y...</td>\n      <td>https://i.ytimg.com/vi_webp/LBqmIfAA4A8/maxres...</td>\n      <td>1920</td>\n      <td>958</td>\n      <td>NaN</td>\n      <td>29</td>\n      <td>0.462</td>\n    </tr>\n  </tbody>\n</table>\n<p>138 rows × 22 columns</p>\n</div>"
     },
     "metadata": {},
     "execution_count": 57
    }
   ],
   "source": [
    "df_unlabeled[mask_u]#.sort_values(\"p\")"
   ]
  },
  {
   "cell_type": "code",
   "execution_count": 58,
   "metadata": {},
   "outputs": [],
   "source": [
    "dificeis = df_unlabeled[mask_u]"
   ]
  },
  {
   "cell_type": "code",
   "execution_count": 60,
   "metadata": {},
   "outputs": [],
   "source": [
    "aleatorios = df_unlabeled[~mask_u].sample(62, random_state=0)"
   ]
  },
  {
   "cell_type": "code",
   "execution_count": 61,
   "metadata": {},
   "outputs": [],
   "source": [
    "pd.concat([dificeis, aleatorios]).to_csv(\"active_label1.csv\", index=None)"
   ]
  },
  {
   "cell_type": "code",
   "execution_count": 62,
   "metadata": {},
   "outputs": [
    {
     "output_type": "execute_result",
     "data": {
      "text/plain": [
       "                    link                                  webpage_url  \\\n",
       "160  watch?v=_m0UanRL6FE  https://www.youtube.com/watch?v=_m0UanRL6FE   \n",
       "179  watch?v=1x9xGVRs-5E  https://www.youtube.com/watch?v=1x9xGVRs-5E   \n",
       "191  watch?v=PYap8CU0VaA  https://www.youtube.com/watch?v=PYap8CU0VaA   \n",
       "194  watch?v=e4i_EGAa0gU  https://www.youtube.com/watch?v=e4i_EGAa0gU   \n",
       "207  watch?v=Tm0YyhAOOok  https://www.youtube.com/watch?v=Tm0YyhAOOok   \n",
       "\n",
       "                                                 title   y         query  \\\n",
       "160                     PYTHON ou R para Data Science? NaN  data+science   \n",
       "179          Hands-On Training In AI with Data Science NaN  data+science   \n",
       "191  Linux on the Desktop for the Data Science (wit... NaN  data+science   \n",
       "194  How to get a job after learning data science s... NaN  data+science   \n",
       "207  free course with certificate | Microsoft free ... NaN  data+science   \n",
       "\n",
       "     view_count  like_count  dislike_count  average_rating  subscriber_count  \\\n",
       "160           1       147.0            2.0        4.972973            5310.0   \n",
       "179           4       114.0            5.0        4.831932           14600.0   \n",
       "191           1        52.0            NaN        5.000000           41700.0   \n",
       "194           5       391.0            6.0        4.939547          190000.0   \n",
       "207          63      2257.0           64.0        4.889703           47100.0   \n",
       "\n",
       "                                           description  \\\n",
       "160                      Qual a melhor linguagem para    \n",
       "179                                                NaN   \n",
       "191                                              Most    \n",
       "194  Many times people complain that we have learnt...   \n",
       "207  free course with certificate | Microsoft free ...   \n",
       "\n",
       "                   categories  \\\n",
       "160  ['Science & Technology']   \n",
       "179         ['Entertainment']   \n",
       "191  ['Science & Technology']   \n",
       "194             ['Education']   \n",
       "207  ['Science & Technology']   \n",
       "\n",
       "                                                  tags upload_date  \\\n",
       "160                                                NaN  2020-11-11   \n",
       "179                                                NaN  2020-11-04   \n",
       "191  ['linux', 'jeff heaton', 'data science', 'mach...  2020-10-27   \n",
       "194  ['yt:cc=on', 'how to get a job as data scienti...  2020-10-25   \n",
       "207  ['free course', 'free certificate', 'free cour...  2020-10-18   \n",
       "\n",
       "     tempo_desde_pub                                        channel_url  \\\n",
       "160                6  http://www.youtube.com/channel/UCxaCu5ht7d3jvi...   \n",
       "179               13  http://www.youtube.com/channel/UCF2_gALht1C1Ns...   \n",
       "191               21  http://www.youtube.com/channel/UCR1-GEpyOPzT2A...   \n",
       "194               23  http://www.youtube.com/channel/UCh9nVJoWXmFb7s...   \n",
       "207               30  http://www.youtube.com/channel/UCNr_dWKxRanxFU...   \n",
       "\n",
       "                                             thumbnail  width  height  \\\n",
       "160  https://i.ytimg.com/vi_webp/_m0UanRL6FE/maxres...   1920    1080   \n",
       "179  https://i.ytimg.com/vi/1x9xGVRs-5E/maxresdefau...   1280     720   \n",
       "191  https://i.ytimg.com/vi_webp/PYap8CU0VaA/maxres...   1920    1080   \n",
       "194  https://i.ytimg.com/vi_webp/e4i_EGAa0gU/maxres...   3840    2160   \n",
       "207  https://i.ytimg.com/vi_webp/Tm0YyhAOOok/maxres...   1280     720   \n",
       "\n",
       "     resolution  fps      p  \n",
       "160         NaN   24  0.541  \n",
       "179         NaN   30  0.511  \n",
       "191         NaN   30  0.490  \n",
       "194         NaN   30  0.496  \n",
       "207         NaN   30  0.529  "
      ],
      "text/html": "<div>\n<style scoped>\n    .dataframe tbody tr th:only-of-type {\n        vertical-align: middle;\n    }\n\n    .dataframe tbody tr th {\n        vertical-align: top;\n    }\n\n    .dataframe thead th {\n        text-align: right;\n    }\n</style>\n<table border=\"1\" class=\"dataframe\">\n  <thead>\n    <tr style=\"text-align: right;\">\n      <th></th>\n      <th>link</th>\n      <th>webpage_url</th>\n      <th>title</th>\n      <th>y</th>\n      <th>query</th>\n      <th>view_count</th>\n      <th>like_count</th>\n      <th>dislike_count</th>\n      <th>average_rating</th>\n      <th>subscriber_count</th>\n      <th>description</th>\n      <th>categories</th>\n      <th>tags</th>\n      <th>upload_date</th>\n      <th>tempo_desde_pub</th>\n      <th>channel_url</th>\n      <th>thumbnail</th>\n      <th>width</th>\n      <th>height</th>\n      <th>resolution</th>\n      <th>fps</th>\n      <th>p</th>\n    </tr>\n  </thead>\n  <tbody>\n    <tr>\n      <th>160</th>\n      <td>watch?v=_m0UanRL6FE</td>\n      <td>https://www.youtube.com/watch?v=_m0UanRL6FE</td>\n      <td>PYTHON ou R para Data Science?</td>\n      <td>NaN</td>\n      <td>data+science</td>\n      <td>1</td>\n      <td>147.0</td>\n      <td>2.0</td>\n      <td>4.972973</td>\n      <td>5310.0</td>\n      <td>Qual a melhor linguagem para</td>\n      <td>['Science &amp; Technology']</td>\n      <td>NaN</td>\n      <td>2020-11-11</td>\n      <td>6</td>\n      <td>http://www.youtube.com/channel/UCxaCu5ht7d3jvi...</td>\n      <td>https://i.ytimg.com/vi_webp/_m0UanRL6FE/maxres...</td>\n      <td>1920</td>\n      <td>1080</td>\n      <td>NaN</td>\n      <td>24</td>\n      <td>0.541</td>\n    </tr>\n    <tr>\n      <th>179</th>\n      <td>watch?v=1x9xGVRs-5E</td>\n      <td>https://www.youtube.com/watch?v=1x9xGVRs-5E</td>\n      <td>Hands-On Training In AI with Data Science</td>\n      <td>NaN</td>\n      <td>data+science</td>\n      <td>4</td>\n      <td>114.0</td>\n      <td>5.0</td>\n      <td>4.831932</td>\n      <td>14600.0</td>\n      <td>NaN</td>\n      <td>['Entertainment']</td>\n      <td>NaN</td>\n      <td>2020-11-04</td>\n      <td>13</td>\n      <td>http://www.youtube.com/channel/UCF2_gALht1C1Ns...</td>\n      <td>https://i.ytimg.com/vi/1x9xGVRs-5E/maxresdefau...</td>\n      <td>1280</td>\n      <td>720</td>\n      <td>NaN</td>\n      <td>30</td>\n      <td>0.511</td>\n    </tr>\n    <tr>\n      <th>191</th>\n      <td>watch?v=PYap8CU0VaA</td>\n      <td>https://www.youtube.com/watch?v=PYap8CU0VaA</td>\n      <td>Linux on the Desktop for the Data Science (wit...</td>\n      <td>NaN</td>\n      <td>data+science</td>\n      <td>1</td>\n      <td>52.0</td>\n      <td>NaN</td>\n      <td>5.000000</td>\n      <td>41700.0</td>\n      <td>Most</td>\n      <td>['Science &amp; Technology']</td>\n      <td>['linux', 'jeff heaton', 'data science', 'mach...</td>\n      <td>2020-10-27</td>\n      <td>21</td>\n      <td>http://www.youtube.com/channel/UCR1-GEpyOPzT2A...</td>\n      <td>https://i.ytimg.com/vi_webp/PYap8CU0VaA/maxres...</td>\n      <td>1920</td>\n      <td>1080</td>\n      <td>NaN</td>\n      <td>30</td>\n      <td>0.490</td>\n    </tr>\n    <tr>\n      <th>194</th>\n      <td>watch?v=e4i_EGAa0gU</td>\n      <td>https://www.youtube.com/watch?v=e4i_EGAa0gU</td>\n      <td>How to get a job after learning data science s...</td>\n      <td>NaN</td>\n      <td>data+science</td>\n      <td>5</td>\n      <td>391.0</td>\n      <td>6.0</td>\n      <td>4.939547</td>\n      <td>190000.0</td>\n      <td>Many times people complain that we have learnt...</td>\n      <td>['Education']</td>\n      <td>['yt:cc=on', 'how to get a job as data scienti...</td>\n      <td>2020-10-25</td>\n      <td>23</td>\n      <td>http://www.youtube.com/channel/UCh9nVJoWXmFb7s...</td>\n      <td>https://i.ytimg.com/vi_webp/e4i_EGAa0gU/maxres...</td>\n      <td>3840</td>\n      <td>2160</td>\n      <td>NaN</td>\n      <td>30</td>\n      <td>0.496</td>\n    </tr>\n    <tr>\n      <th>207</th>\n      <td>watch?v=Tm0YyhAOOok</td>\n      <td>https://www.youtube.com/watch?v=Tm0YyhAOOok</td>\n      <td>free course with certificate | Microsoft free ...</td>\n      <td>NaN</td>\n      <td>data+science</td>\n      <td>63</td>\n      <td>2257.0</td>\n      <td>64.0</td>\n      <td>4.889703</td>\n      <td>47100.0</td>\n      <td>free course with certificate | Microsoft free ...</td>\n      <td>['Science &amp; Technology']</td>\n      <td>['free course', 'free certificate', 'free cour...</td>\n      <td>2020-10-18</td>\n      <td>30</td>\n      <td>http://www.youtube.com/channel/UCNr_dWKxRanxFU...</td>\n      <td>https://i.ytimg.com/vi_webp/Tm0YyhAOOok/maxres...</td>\n      <td>1280</td>\n      <td>720</td>\n      <td>NaN</td>\n      <td>30</td>\n      <td>0.529</td>\n    </tr>\n  </tbody>\n</table>\n</div>"
     },
     "metadata": {},
     "execution_count": 62
    }
   ],
   "source": [
    "dificeis.head()"
   ]
  },
  {
   "cell_type": "code",
   "execution_count": 63,
   "metadata": {},
   "outputs": [
    {
     "output_type": "execute_result",
     "data": {
      "text/plain": [
       "                     link                                  webpage_url  \\\n",
       "1501  watch?v=OLzfr1oJXTE  https://www.youtube.com/watch?v=OLzfr1oJXTE   \n",
       "1685  watch?v=9iW8TXkzrto  https://www.youtube.com/watch?v=9iW8TXkzrto   \n",
       "1412  watch?v=oEdFzRkk0Hk  https://www.youtube.com/watch?v=oEdFzRkk0Hk   \n",
       "1062  watch?v=SfOoRsUj9kQ  https://www.youtube.com/watch?v=SfOoRsUj9kQ   \n",
       "1398  watch?v=lVQ1YYqQP8Q  https://www.youtube.com/watch?v=lVQ1YYqQP8Q   \n",
       "\n",
       "                                                  title   y  \\\n",
       "1501  Machine Learning (Aprendizado de Máquina) - Co... NaN   \n",
       "1685       What is Kaggle | How to use Kaggle  in hindi NaN   \n",
       "1412  SETI UFLA - Palestra Aprendizado de Máquina Ap... NaN   \n",
       "1062  Intelligence Artificielle VS Machine Learning ... NaN   \n",
       "1398  Minicurso Aprendizado de Máquina - SESCOMP 201... NaN   \n",
       "\n",
       "                       query  view_count  like_count  dislike_count  \\\n",
       "1501  aprendizado+de+maquina           2        32.0            NaN   \n",
       "1685                  kaggle           1        31.0            2.0   \n",
       "1412  aprendizado+de+maquina          48         2.0            NaN   \n",
       "1062        machine+learning          16       375.0           10.0   \n",
       "1398  aprendizado+de+maquina          37         NaN            NaN   \n",
       "\n",
       "      average_rating  subscriber_count  \\\n",
       "1501        5.000000            2200.0   \n",
       "1685        4.757576            3330.0   \n",
       "1412        5.000000             268.0   \n",
       "1062        4.896104            7060.0   \n",
       "1398             NaN             859.0   \n",
       "\n",
       "                                            description  \\\n",
       "1501                                          ENSINO -    \n",
       "1685               in this video understand how to use    \n",
       "1412                      Pesquisas relevantes na área    \n",
       "1062  Aujourd'hui on parles des différences qui rési...   \n",
       "1398                                           Ciência    \n",
       "\n",
       "                    categories  \\\n",
       "1501             ['Education']   \n",
       "1685             ['Education']   \n",
       "1412  ['Science & Technology']   \n",
       "1062  ['Science & Technology']   \n",
       "1398  ['Science & Technology']   \n",
       "\n",
       "                                                   tags upload_date  \\\n",
       "1501  ['mineração de dados', 'aprendizado de máquina...  2014-05-07   \n",
       "1685  ['What', 'Is', 'Kaggle', 'What is kaggle', 'Wh...  2020-06-06   \n",
       "1412                                                NaN  2018-09-26   \n",
       "1062  ['IA', 'Inteligence Artificielle', 'Machine Le...  2018-10-10   \n",
       "1398  ['Numpy', 'Ciência de dados', 'Pandas', 'KNN',...  2018-11-26   \n",
       "\n",
       "      tempo_desde_pub                                        channel_url  \\\n",
       "1501             2386  http://www.youtube.com/channel/UCOx5f4MPcU3KYe...   \n",
       "1685              164  http://www.youtube.com/channel/UCPIMmfCnHXcaR8...   \n",
       "1412              783  http://www.youtube.com/channel/UCHtvp-d8pujKyA...   \n",
       "1062              769  http://www.youtube.com/channel/UChXy935RrhKDL3...   \n",
       "1398              722  http://www.youtube.com/channel/UCnR_-6nHlN-RrK...   \n",
       "\n",
       "                                              thumbnail  width  height  \\\n",
       "1501  https://i.ytimg.com/vi/OLzfr1oJXTE/maxresdefau...    640     480   \n",
       "1685  https://i.ytimg.com/vi_webp/9iW8TXkzrto/maxres...   1278     720   \n",
       "1412  https://i.ytimg.com/vi/oEdFzRkk0Hk/hqdefault.j...   1280     720   \n",
       "1062  https://i.ytimg.com/vi_webp/SfOoRsUj9kQ/maxres...   1920    1080   \n",
       "1398  https://i.ytimg.com/vi_webp/lVQ1YYqQP8Q/maxres...   1280     720   \n",
       "\n",
       "      resolution  fps      p  \n",
       "1501         NaN   30  0.051  \n",
       "1685         NaN   24  0.242  \n",
       "1412         NaN   60  0.350  \n",
       "1062         NaN   60  0.441  \n",
       "1398         NaN   30  0.193  "
      ],
      "text/html": "<div>\n<style scoped>\n    .dataframe tbody tr th:only-of-type {\n        vertical-align: middle;\n    }\n\n    .dataframe tbody tr th {\n        vertical-align: top;\n    }\n\n    .dataframe thead th {\n        text-align: right;\n    }\n</style>\n<table border=\"1\" class=\"dataframe\">\n  <thead>\n    <tr style=\"text-align: right;\">\n      <th></th>\n      <th>link</th>\n      <th>webpage_url</th>\n      <th>title</th>\n      <th>y</th>\n      <th>query</th>\n      <th>view_count</th>\n      <th>like_count</th>\n      <th>dislike_count</th>\n      <th>average_rating</th>\n      <th>subscriber_count</th>\n      <th>description</th>\n      <th>categories</th>\n      <th>tags</th>\n      <th>upload_date</th>\n      <th>tempo_desde_pub</th>\n      <th>channel_url</th>\n      <th>thumbnail</th>\n      <th>width</th>\n      <th>height</th>\n      <th>resolution</th>\n      <th>fps</th>\n      <th>p</th>\n    </tr>\n  </thead>\n  <tbody>\n    <tr>\n      <th>1501</th>\n      <td>watch?v=OLzfr1oJXTE</td>\n      <td>https://www.youtube.com/watch?v=OLzfr1oJXTE</td>\n      <td>Machine Learning (Aprendizado de Máquina) - Co...</td>\n      <td>NaN</td>\n      <td>aprendizado+de+maquina</td>\n      <td>2</td>\n      <td>32.0</td>\n      <td>NaN</td>\n      <td>5.000000</td>\n      <td>2200.0</td>\n      <td>ENSINO -</td>\n      <td>['Education']</td>\n      <td>['mineração de dados', 'aprendizado de máquina...</td>\n      <td>2014-05-07</td>\n      <td>2386</td>\n      <td>http://www.youtube.com/channel/UCOx5f4MPcU3KYe...</td>\n      <td>https://i.ytimg.com/vi/OLzfr1oJXTE/maxresdefau...</td>\n      <td>640</td>\n      <td>480</td>\n      <td>NaN</td>\n      <td>30</td>\n      <td>0.051</td>\n    </tr>\n    <tr>\n      <th>1685</th>\n      <td>watch?v=9iW8TXkzrto</td>\n      <td>https://www.youtube.com/watch?v=9iW8TXkzrto</td>\n      <td>What is Kaggle | How to use Kaggle  in hindi</td>\n      <td>NaN</td>\n      <td>kaggle</td>\n      <td>1</td>\n      <td>31.0</td>\n      <td>2.0</td>\n      <td>4.757576</td>\n      <td>3330.0</td>\n      <td>in this video understand how to use</td>\n      <td>['Education']</td>\n      <td>['What', 'Is', 'Kaggle', 'What is kaggle', 'Wh...</td>\n      <td>2020-06-06</td>\n      <td>164</td>\n      <td>http://www.youtube.com/channel/UCPIMmfCnHXcaR8...</td>\n      <td>https://i.ytimg.com/vi_webp/9iW8TXkzrto/maxres...</td>\n      <td>1278</td>\n      <td>720</td>\n      <td>NaN</td>\n      <td>24</td>\n      <td>0.242</td>\n    </tr>\n    <tr>\n      <th>1412</th>\n      <td>watch?v=oEdFzRkk0Hk</td>\n      <td>https://www.youtube.com/watch?v=oEdFzRkk0Hk</td>\n      <td>SETI UFLA - Palestra Aprendizado de Máquina Ap...</td>\n      <td>NaN</td>\n      <td>aprendizado+de+maquina</td>\n      <td>48</td>\n      <td>2.0</td>\n      <td>NaN</td>\n      <td>5.000000</td>\n      <td>268.0</td>\n      <td>Pesquisas relevantes na área</td>\n      <td>['Science &amp; Technology']</td>\n      <td>NaN</td>\n      <td>2018-09-26</td>\n      <td>783</td>\n      <td>http://www.youtube.com/channel/UCHtvp-d8pujKyA...</td>\n      <td>https://i.ytimg.com/vi/oEdFzRkk0Hk/hqdefault.j...</td>\n      <td>1280</td>\n      <td>720</td>\n      <td>NaN</td>\n      <td>60</td>\n      <td>0.350</td>\n    </tr>\n    <tr>\n      <th>1062</th>\n      <td>watch?v=SfOoRsUj9kQ</td>\n      <td>https://www.youtube.com/watch?v=SfOoRsUj9kQ</td>\n      <td>Intelligence Artificielle VS Machine Learning ...</td>\n      <td>NaN</td>\n      <td>machine+learning</td>\n      <td>16</td>\n      <td>375.0</td>\n      <td>10.0</td>\n      <td>4.896104</td>\n      <td>7060.0</td>\n      <td>Aujourd'hui on parles des différences qui rési...</td>\n      <td>['Science &amp; Technology']</td>\n      <td>['IA', 'Inteligence Artificielle', 'Machine Le...</td>\n      <td>2018-10-10</td>\n      <td>769</td>\n      <td>http://www.youtube.com/channel/UChXy935RrhKDL3...</td>\n      <td>https://i.ytimg.com/vi_webp/SfOoRsUj9kQ/maxres...</td>\n      <td>1920</td>\n      <td>1080</td>\n      <td>NaN</td>\n      <td>60</td>\n      <td>0.441</td>\n    </tr>\n    <tr>\n      <th>1398</th>\n      <td>watch?v=lVQ1YYqQP8Q</td>\n      <td>https://www.youtube.com/watch?v=lVQ1YYqQP8Q</td>\n      <td>Minicurso Aprendizado de Máquina - SESCOMP 201...</td>\n      <td>NaN</td>\n      <td>aprendizado+de+maquina</td>\n      <td>37</td>\n      <td>NaN</td>\n      <td>NaN</td>\n      <td>NaN</td>\n      <td>859.0</td>\n      <td>Ciência</td>\n      <td>['Science &amp; Technology']</td>\n      <td>['Numpy', 'Ciência de dados', 'Pandas', 'KNN',...</td>\n      <td>2018-11-26</td>\n      <td>722</td>\n      <td>http://www.youtube.com/channel/UCnR_-6nHlN-RrK...</td>\n      <td>https://i.ytimg.com/vi_webp/lVQ1YYqQP8Q/maxres...</td>\n      <td>1280</td>\n      <td>720</td>\n      <td>NaN</td>\n      <td>30</td>\n      <td>0.193</td>\n    </tr>\n  </tbody>\n</table>\n</div>"
     },
     "metadata": {},
     "execution_count": 63
    }
   ],
   "source": [
    "aleatorios.head()"
   ]
  },
  {
   "cell_type": "code",
   "execution_count": null,
   "metadata": {},
   "outputs": [],
   "source": []
  }
 ],
 "metadata": {
  "kernelspec": {
   "display_name": "Python 3",
   "language": "python",
   "name": "python3"
  },
  "language_info": {
   "codemirror_mode": {
    "name": "ipython",
    "version": 3
   },
   "file_extension": ".py",
   "mimetype": "text/x-python",
   "name": "python",
   "nbconvert_exporter": "python",
   "pygments_lexer": "ipython3",
   "version": "3.8.5"
  }
 },
 "nbformat": 4,
 "nbformat_minor": 4
}